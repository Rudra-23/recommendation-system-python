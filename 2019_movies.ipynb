{
  "nbformat": 4,
  "nbformat_minor": 0,
  "metadata": {
    "colab": {
      "name": "2019 movies.ipynb",
      "provenance": []
    },
    "kernelspec": {
      "name": "python3",
      "display_name": "Python 3"
    }
  },
  "cells": [
    {
      "cell_type": "code",
      "metadata": {
        "id": "BKc6DCjQ79dh"
      },
      "source": [
        "\n",
        "import requests\n",
        "from bs4 import BeautifulSoup\n",
        "import string\n",
        "\n",
        "\n",
        "def gethtml(url):\n",
        "    r = requests.get(url).text\n",
        "    return r"
      ],
      "execution_count": null,
      "outputs": []
    },
    {
      "cell_type": "code",
      "metadata": {
        "id": "dmf3c2Ir8CZ3"
      },
      "source": [
        "getdata = gethtml('https://www.imdb.com/list/ls071285512/?sort=moviemeter,asc&st_dt=&mode=detail&page=1')\n",
        "soup = BeautifulSoup(getdata, \"html.parser\")"
      ],
      "execution_count": null,
      "outputs": []
    },
    {
      "cell_type": "code",
      "metadata": {
        "id": "KeTEipsm8WGf"
      },
      "source": [
        "x=soup.findAll(\"div\", {\"class\": \"lister-item mode-detail\"})"
      ],
      "execution_count": null,
      "outputs": []
    },
    {
      "cell_type": "code",
      "metadata": {
        "id": "H5BR3w_d8XY8"
      },
      "source": [
        "import re\n",
        "movie=[]\n",
        "pattern =re.compile(r'/title/.+')\n",
        "for link in x:\n",
        "  a =link.findAll('a')\n",
        "  for l in a:\n",
        "    if pattern.search(l['href']):\n",
        "      if l.string != None:\n",
        "          movie.append([l.string])"
      ],
      "execution_count": null,
      "outputs": []
    },
    {
      "cell_type": "code",
      "metadata": {
        "id": "lZqjG-QVWa7H",
        "colab": {
          "base_uri": "https://localhost:8080/",
          "height": 34
        },
        "outputId": "96677c47-d326-443b-ff55-63e8bfc8ab4a"
      },
      "source": [
        "len(movie)"
      ],
      "execution_count": null,
      "outputs": [
        {
          "output_type": "execute_result",
          "data": {
            "text/plain": [
              "95"
            ]
          },
          "metadata": {
            "tags": []
          },
          "execution_count": 202
        }
      ]
    },
    {
      "cell_type": "code",
      "metadata": {
        "id": "fzrrhcImO3x4",
        "colab": {
          "base_uri": "https://localhost:8080/",
          "height": 34
        },
        "outputId": "21a6941b-84a2-4def-83e3-7648b889dc3f"
      },
      "source": [
        "len(movie)"
      ],
      "execution_count": null,
      "outputs": [
        {
          "output_type": "execute_result",
          "data": {
            "text/plain": [
              "95"
            ]
          },
          "metadata": {
            "tags": []
          },
          "execution_count": 203
        }
      ]
    },
    {
      "cell_type": "code",
      "metadata": {
        "id": "Av2cSOR7dlFD"
      },
      "source": [
        "movie.remove(['Avengers: Infinity War'])"
      ],
      "execution_count": null,
      "outputs": []
    },
    {
      "cell_type": "code",
      "metadata": {
        "id": "TWqxEXKndqSn"
      },
      "source": [
        "movie.remove(['The Shining'])"
      ],
      "execution_count": null,
      "outputs": []
    },
    {
      "cell_type": "code",
      "metadata": {
        "id": "z1og2gcfdxRH",
        "colab": {
          "base_uri": "https://localhost:8080/",
          "height": 34
        },
        "outputId": "de6d6fe4-f460-42c4-fa55-f940f00a3976"
      },
      "source": [
        "movie.pop(23)"
      ],
      "execution_count": null,
      "outputs": [
        {
          "output_type": "execute_result",
          "data": {
            "text/plain": [
              "['Avengers: Endgame']"
            ]
          },
          "metadata": {
            "tags": []
          },
          "execution_count": 207
        }
      ]
    },
    {
      "cell_type": "code",
      "metadata": {
        "id": "kjo_O_lecvw8",
        "colab": {
          "base_uri": "https://localhost:8080/",
          "height": 1000
        },
        "outputId": "993d2aad-48ab-4e89-f0cf-5db83d97e792"
      },
      "source": [
        "movie"
      ],
      "execution_count": null,
      "outputs": [
        {
          "output_type": "execute_result",
          "data": {
            "text/plain": [
              "[['Knives Out'],\n",
              " ['Joker'],\n",
              " ['Avengers: Endgame'],\n",
              " ['Ford v Ferrari'],\n",
              " ['Once Upon a Time... in Hollywood'],\n",
              " ['Jojo Rabbit'],\n",
              " ['The Gentlemen'],\n",
              " ['Bombshell'],\n",
              " ['Doctor Sleep'],\n",
              " ['1917'],\n",
              " ['Terminator: Dark Fate'],\n",
              " ['Ready or Not'],\n",
              " ['Jumanji: The Next Level'],\n",
              " ['Star Wars: Episode IX - The Rise of Skywalker'],\n",
              " ['Midway'],\n",
              " ['The Lion King'],\n",
              " [\"Charlie's Angels\"],\n",
              " ['The Irishman'],\n",
              " ['Aladdin'],\n",
              " ['It Chapter Two'],\n",
              " ['Captain Marvel'],\n",
              " ['Alita: Battle Angel'],\n",
              " ['Spider-Man: Far from Home'],\n",
              " ['Frozen II'],\n",
              " ['Ad Astra'],\n",
              " ['The Platform'],\n",
              " ['6 Underground'],\n",
              " ['Us'],\n",
              " ['Gemini Man'],\n",
              " ['X-Men: Dark Phoenix'],\n",
              " ['Fast & Furious Presents: Hobbs & Shaw'],\n",
              " ['Zombieland: Double Tap'],\n",
              " ['Toy Story 4'],\n",
              " ['Shazam!'],\n",
              " ['Anna'],\n",
              " ['John Wick: Chapter 3 - Parabellum'],\n",
              " ['The Good Liar'],\n",
              " ['Cats'],\n",
              " ['Maleficent: Mistress of Evil'],\n",
              " ['El Camino: A Breaking Bad Movie'],\n",
              " ['Good Boys'],\n",
              " ['Glass'],\n",
              " ['Godzilla: King of the Monsters'],\n",
              " ['Angel Has Fallen'],\n",
              " ['Rambo: Last Blood'],\n",
              " ['How to Train Your Dragon: The Hidden World'],\n",
              " ['Men in Black: International'],\n",
              " ['Last Christmas'],\n",
              " ['Fighting with My Family'],\n",
              " ['The Kitchen'],\n",
              " ['Murder Mystery'],\n",
              " ['Triple Frontier'],\n",
              " ['Serenity'],\n",
              " ['Operation Brothers'],\n",
              " ['Hellboy'],\n",
              " ['Lady and the Tramp'],\n",
              " ['Crawl'],\n",
              " ['Long Shot'],\n",
              " ['Pet Sematary'],\n",
              " ['The Addams Family'],\n",
              " ['Escape Room'],\n",
              " ['Code 8'],\n",
              " ['Annabelle Comes Home'],\n",
              " ['Pokémon Detective Pikachu'],\n",
              " ['Dumbo'],\n",
              " [\"Child's Play\"],\n",
              " ['The Secret Life of Pets 2'],\n",
              " ['The Hustle'],\n",
              " ['Cold Pursuit'],\n",
              " ['Ma'],\n",
              " ['Haunt'],\n",
              " ['Velvet Buzzsaw'],\n",
              " ['Tolkien'],\n",
              " ['Captive State'],\n",
              " ['Shaft'],\n",
              " ['Klaus'],\n",
              " ['The Lego Movie 2: The Second Part'],\n",
              " [\"Isn't It Romantic\"],\n",
              " ['Happy Death Day 2U'],\n",
              " ['47 Meters Down: Uncaged'],\n",
              " ['The Angry Birds Movie 2'],\n",
              " ['What Men Want'],\n",
              " ['Point Blank'],\n",
              " ['Let It Snow'],\n",
              " ['IO'],\n",
              " ['Polaroid'],\n",
              " ['Close'],\n",
              " ['Kill Chain'],\n",
              " ['The Hole in the Ground'],\n",
              " ['Noelle'],\n",
              " ['A Shaun the Sheep Movie: Farmageddon'],\n",
              " ['Pokémon: Mewtwo Strikes Back - Evolution']]"
            ]
          },
          "metadata": {
            "tags": []
          },
          "execution_count": 208
        }
      ]
    },
    {
      "cell_type": "code",
      "metadata": {
        "id": "V6c4ilvB_odU"
      },
      "source": [
        "sx=soup.findAll(\"span\", {\"class\": \"genre\"})\n",
        "gen =[]\n",
        "for span in sx:\n",
        "  gen.append([span.text.strip()])"
      ],
      "execution_count": null,
      "outputs": []
    },
    {
      "cell_type": "code",
      "metadata": {
        "id": "yssYKJ1_B6nf",
        "colab": {
          "base_uri": "https://localhost:8080/",
          "height": 34
        },
        "outputId": "abc1ef77-7a07-47f2-a5aa-44894e4588fb"
      },
      "source": [
        "len(gen)"
      ],
      "execution_count": null,
      "outputs": [
        {
          "output_type": "execute_result",
          "data": {
            "text/plain": [
              "92"
            ]
          },
          "metadata": {
            "tags": []
          },
          "execution_count": 179
        }
      ]
    },
    {
      "cell_type": "code",
      "metadata": {
        "id": "uDPLbD1NCdn0",
        "colab": {
          "base_uri": "https://localhost:8080/",
          "height": 1000
        },
        "outputId": "ad451ec2-a669-49f6-83dd-424be9cb1444"
      },
      "source": [
        "gen"
      ],
      "execution_count": null,
      "outputs": [
        {
          "output_type": "execute_result",
          "data": {
            "text/plain": [
              "[['Comedy, Crime, Drama'],\n",
              " ['Crime, Drama, Thriller'],\n",
              " ['Action, Adventure, Drama'],\n",
              " ['Action, Biography, Drama'],\n",
              " ['Comedy, Drama'],\n",
              " ['Comedy, Drama, War'],\n",
              " ['Action, Comedy, Crime'],\n",
              " ['Biography, Drama'],\n",
              " ['Drama, Fantasy, Horror'],\n",
              " ['Drama, War'],\n",
              " ['Action, Adventure, Sci-Fi'],\n",
              " ['Comedy, Horror, Mystery'],\n",
              " ['Action, Adventure, Comedy'],\n",
              " ['Action, Adventure, Fantasy'],\n",
              " ['Action, Adventure, Drama'],\n",
              " ['Animation, Adventure, Drama'],\n",
              " ['Action, Adventure, Comedy'],\n",
              " ['Biography, Crime, Drama'],\n",
              " ['Adventure, Family, Fantasy'],\n",
              " ['Drama, Fantasy, Horror'],\n",
              " ['Action, Adventure, Sci-Fi'],\n",
              " ['Action, Adventure, Sci-Fi'],\n",
              " ['Action, Adventure, Sci-Fi'],\n",
              " ['Animation, Adventure, Comedy'],\n",
              " ['Adventure, Drama, Mystery'],\n",
              " ['Horror, Sci-Fi, Thriller'],\n",
              " ['Action, Thriller'],\n",
              " ['Horror, Mystery, Thriller'],\n",
              " ['Action, Drama, Sci-Fi'],\n",
              " ['Action, Adventure, Sci-Fi'],\n",
              " ['Action, Adventure, Thriller'],\n",
              " ['Action, Adventure, Comedy'],\n",
              " ['Animation, Adventure, Comedy'],\n",
              " ['Action, Adventure, Comedy'],\n",
              " ['Action, Thriller'],\n",
              " ['Action, Crime, Thriller'],\n",
              " ['Crime, Drama, Mystery'],\n",
              " ['Comedy, Drama, Family'],\n",
              " ['Adventure, Family, Fantasy'],\n",
              " ['Action, Crime, Drama'],\n",
              " ['Adventure, Comedy'],\n",
              " ['Drama, Sci-Fi, Thriller'],\n",
              " ['Action, Adventure, Fantasy'],\n",
              " ['Action, Thriller'],\n",
              " ['Action, Thriller'],\n",
              " ['Animation, Action, Adventure'],\n",
              " ['Action, Adventure, Comedy'],\n",
              " ['Comedy, Drama, Romance'],\n",
              " ['Biography, Comedy, Drama'],\n",
              " ['Action, Crime, Drama'],\n",
              " ['Action, Comedy, Crime'],\n",
              " ['Action, Adventure, Crime'],\n",
              " ['Drama, Mystery, Thriller'],\n",
              " ['Drama, History, Thriller'],\n",
              " ['Action, Adventure, Fantasy'],\n",
              " ['Adventure, Comedy, Drama'],\n",
              " ['Action, Drama, Horror'],\n",
              " ['Comedy, Romance'],\n",
              " ['Horror, Mystery, Thriller'],\n",
              " ['Animation, Comedy, Family'],\n",
              " ['Action, Adventure, Horror'],\n",
              " ['Action, Crime, Drama'],\n",
              " ['Horror, Mystery, Thriller'],\n",
              " ['Action, Adventure, Comedy'],\n",
              " ['Adventure, Family, Fantasy'],\n",
              " ['Horror, Sci-Fi'],\n",
              " ['Animation, Adventure, Comedy'],\n",
              " ['Comedy, Crime'],\n",
              " ['Action, Crime, Drama'],\n",
              " ['Horror, Mystery, Thriller'],\n",
              " ['Horror, Thriller'],\n",
              " ['Comedy, Horror, Mystery'],\n",
              " ['Biography, Drama, Romance'],\n",
              " ['Action, Adventure, Drama'],\n",
              " ['Action, Comedy, Crime'],\n",
              " ['Animation, Adventure, Comedy'],\n",
              " ['Animation, Adventure, Comedy'],\n",
              " ['Comedy, Fantasy, Romance'],\n",
              " ['Comedy, Horror, Mystery'],\n",
              " ['Adventure, Drama, Horror'],\n",
              " ['Animation, Adventure, Comedy'],\n",
              " ['Comedy, Fantasy, Romance'],\n",
              " ['Action, Crime, Drama'],\n",
              " ['Comedy, Romance'],\n",
              " ['Adventure, Drama, Sci-Fi'],\n",
              " ['Drama, Horror, Mystery'],\n",
              " ['Action, Drama, Thriller'],\n",
              " ['Action, Thriller'],\n",
              " ['Drama, Horror, Mystery'],\n",
              " ['Comedy, Family, Fantasy'],\n",
              " ['Animation, Adventure, Comedy'],\n",
              " ['Animation, Action, Family']]"
            ]
          },
          "metadata": {
            "tags": []
          },
          "execution_count": 180
        }
      ]
    },
    {
      "cell_type": "code",
      "metadata": {
        "id": "xGvh2LnZCppF"
      },
      "source": [
        "over=soup.findAll(\"p\", {\"class\": \"\"})\n"
      ],
      "execution_count": null,
      "outputs": []
    },
    {
      "cell_type": "code",
      "metadata": {
        "id": "mwqRpfGbDe4z"
      },
      "source": [
        "overview=[]\n",
        "import re \n",
        "pattern =re.compile(r'Watched. Ra.+')\n",
        "for para in over:\n",
        "  if not pattern.search(para.text):\n",
        "    overview.append([para.text.strip()])\n",
        "  "
      ],
      "execution_count": null,
      "outputs": []
    },
    {
      "cell_type": "code",
      "metadata": {
        "id": "UbpMX5nWD9Kp",
        "colab": {
          "base_uri": "https://localhost:8080/",
          "height": 163
        },
        "outputId": "f20bc5f9-af63-4dca-e2e7-d0f120b1099b"
      },
      "source": [
        "overview[:5]"
      ],
      "execution_count": null,
      "outputs": [
        {
          "output_type": "error",
          "ename": "NameError",
          "evalue": "ignored",
          "traceback": [
            "\u001b[0;31m---------------------------------------------------------------------------\u001b[0m",
            "\u001b[0;31mNameError\u001b[0m                                 Traceback (most recent call last)",
            "\u001b[0;32m<ipython-input-2-7541adcfd250>\u001b[0m in \u001b[0;36m<module>\u001b[0;34m()\u001b[0m\n\u001b[0;32m----> 1\u001b[0;31m \u001b[0moverview\u001b[0m\u001b[0;34m[\u001b[0m\u001b[0;34m:\u001b[0m\u001b[0;36m5\u001b[0m\u001b[0;34m]\u001b[0m\u001b[0;34m\u001b[0m\u001b[0;34m\u001b[0m\u001b[0m\n\u001b[0m",
            "\u001b[0;31mNameError\u001b[0m: name 'overview' is not defined"
          ]
        }
      ]
    },
    {
      "cell_type": "code",
      "metadata": {
        "id": "8HBgsYDLD_Pm",
        "colab": {
          "base_uri": "https://localhost:8080/",
          "height": 34
        },
        "outputId": "b9314aa6-b5a0-42d6-e779-802b7f397a9e"
      },
      "source": [
        "len(overview)"
      ],
      "execution_count": null,
      "outputs": [
        {
          "output_type": "execute_result",
          "data": {
            "text/plain": [
              "92"
            ]
          },
          "metadata": {
            "tags": []
          },
          "execution_count": 192
        }
      ]
    },
    {
      "cell_type": "code",
      "metadata": {
        "id": "UeSHE_BYEqbj"
      },
      "source": [
        "\n",
        "x=soup.findAll(\"div\", {\"class\": \"lister-item mode-detail\"})\n",
        "\n",
        "crew =[]\n",
        "for div in x:\n",
        "  p =div.findAll('p',{'class':'text-muted text-small'})\n",
        "  temp =[]\n",
        "  link =p[1].findAll('a')\n",
        "  for final in link:\n",
        "    #print(final)\n",
        "    temp.append(final.text)\n",
        "  #print(temp)\n",
        "  crew.append(temp)\n",
        "  "
      ],
      "execution_count": null,
      "outputs": []
    },
    {
      "cell_type": "code",
      "metadata": {
        "id": "Vhfwbf5HOWR4",
        "colab": {
          "base_uri": "https://localhost:8080/",
          "height": 34
        },
        "outputId": "e6b798c5-bfa0-4d37-f011-802fc1a2c0c5"
      },
      "source": [
        "len(crew)"
      ],
      "execution_count": null,
      "outputs": [
        {
          "output_type": "execute_result",
          "data": {
            "text/plain": [
              "92"
            ]
          },
          "metadata": {
            "tags": []
          },
          "execution_count": 188
        }
      ]
    },
    {
      "cell_type": "code",
      "metadata": {
        "id": "2AIZNfdOXA6N"
      },
      "source": [
        "movie_x=[]\n",
        "for m in movie:\n",
        "  movie_x.append(m[0])"
      ],
      "execution_count": null,
      "outputs": []
    },
    {
      "cell_type": "code",
      "metadata": {
        "id": "IyA4YhgOXT0F"
      },
      "source": [
        "gen_x=[]\n",
        "for g in gen:\n",
        "  gen_x.append(g[0])"
      ],
      "execution_count": null,
      "outputs": []
    },
    {
      "cell_type": "code",
      "metadata": {
        "id": "O_BV3KXyXW4I"
      },
      "source": [
        "over_x =[]\n",
        "for over in overview:\n",
        "  over_x.append(over[0])\n",
        "  "
      ],
      "execution_count": null,
      "outputs": []
    },
    {
      "cell_type": "code",
      "metadata": {
        "id": "2EnYJFXKXgn8"
      },
      "source": [
        "dir_x=[]\n",
        "cast_x=[]\n",
        "for c in crew:\n",
        "  dir_x.append(c[0])\n",
        "  cast_x.append(\" \".join(c[1:]))"
      ],
      "execution_count": null,
      "outputs": []
    },
    {
      "cell_type": "code",
      "metadata": {
        "id": "e5bgff--X1Fr"
      },
      "source": [
        "struct ={'title':movie_x,'genre':gen_x,'overview':over_x,'cast':cast_x,'director':dir_x,'lang':['en']*92,'comp':['unknown']*92}"
      ],
      "execution_count": null,
      "outputs": []
    },
    {
      "cell_type": "code",
      "metadata": {
        "id": "266Dd_LAYQRS"
      },
      "source": [
        "df =pd.DataFrame(data=struct)"
      ],
      "execution_count": null,
      "outputs": []
    },
    {
      "cell_type": "code",
      "metadata": {
        "id": "fOVVEoknZs-f",
        "colab": {
          "base_uri": "https://localhost:8080/",
          "height": 1000
        },
        "outputId": "f0fd6c1a-a712-45f7-b4c1-4e043dfda59a"
      },
      "source": [
        "df.head(50)"
      ],
      "execution_count": null,
      "outputs": [
        {
          "output_type": "execute_result",
          "data": {
            "text/html": [
              "<div>\n",
              "<style scoped>\n",
              "    .dataframe tbody tr th:only-of-type {\n",
              "        vertical-align: middle;\n",
              "    }\n",
              "\n",
              "    .dataframe tbody tr th {\n",
              "        vertical-align: top;\n",
              "    }\n",
              "\n",
              "    .dataframe thead th {\n",
              "        text-align: right;\n",
              "    }\n",
              "</style>\n",
              "<table border=\"1\" class=\"dataframe\">\n",
              "  <thead>\n",
              "    <tr style=\"text-align: right;\">\n",
              "      <th></th>\n",
              "      <th>title</th>\n",
              "      <th>genre</th>\n",
              "      <th>overview</th>\n",
              "      <th>cast</th>\n",
              "      <th>director</th>\n",
              "      <th>lang</th>\n",
              "      <th>comp</th>\n",
              "    </tr>\n",
              "  </thead>\n",
              "  <tbody>\n",
              "    <tr>\n",
              "      <th>0</th>\n",
              "      <td>Knives Out</td>\n",
              "      <td>Comedy, Crime, Drama</td>\n",
              "      <td>A detective investigates the death of a patria...</td>\n",
              "      <td>Daniel Craig Chris Evans Ana de Armas Jamie Le...</td>\n",
              "      <td>Rian Johnson</td>\n",
              "      <td>en</td>\n",
              "      <td>unknown</td>\n",
              "    </tr>\n",
              "    <tr>\n",
              "      <th>1</th>\n",
              "      <td>Joker</td>\n",
              "      <td>Crime, Drama, Thriller</td>\n",
              "      <td>In Gotham City, mentally troubled comedian Art...</td>\n",
              "      <td>Joaquin Phoenix Robert De Niro Zazie Beetz Fra...</td>\n",
              "      <td>Todd Phillips</td>\n",
              "      <td>en</td>\n",
              "      <td>unknown</td>\n",
              "    </tr>\n",
              "    <tr>\n",
              "      <th>2</th>\n",
              "      <td>Avengers: Endgame</td>\n",
              "      <td>Action, Adventure, Drama</td>\n",
              "      <td>After the devastating events of Avengers: Infi...</td>\n",
              "      <td>Joe Russo Robert Downey Jr. Chris Evans Mark R...</td>\n",
              "      <td>Anthony Russo</td>\n",
              "      <td>en</td>\n",
              "      <td>unknown</td>\n",
              "    </tr>\n",
              "    <tr>\n",
              "      <th>3</th>\n",
              "      <td>Ford v Ferrari</td>\n",
              "      <td>Action, Biography, Drama</td>\n",
              "      <td>American car designer Carroll Shelby and drive...</td>\n",
              "      <td>Matt Damon Christian Bale Jon Bernthal Caitrio...</td>\n",
              "      <td>James Mangold</td>\n",
              "      <td>en</td>\n",
              "      <td>unknown</td>\n",
              "    </tr>\n",
              "    <tr>\n",
              "      <th>4</th>\n",
              "      <td>Once Upon a Time... in Hollywood</td>\n",
              "      <td>Comedy, Drama</td>\n",
              "      <td>A faded television actor and his stunt double ...</td>\n",
              "      <td>Leonardo DiCaprio Brad Pitt Margot Robbie Emil...</td>\n",
              "      <td>Quentin Tarantino</td>\n",
              "      <td>en</td>\n",
              "      <td>unknown</td>\n",
              "    </tr>\n",
              "    <tr>\n",
              "      <th>5</th>\n",
              "      <td>Jojo Rabbit</td>\n",
              "      <td>Comedy, Drama, War</td>\n",
              "      <td>A young boy in Hitler's army finds out his mot...</td>\n",
              "      <td>Roman Griffin Davis Thomasin McKenzie Scarlett...</td>\n",
              "      <td>Taika Waititi</td>\n",
              "      <td>en</td>\n",
              "      <td>unknown</td>\n",
              "    </tr>\n",
              "    <tr>\n",
              "      <th>6</th>\n",
              "      <td>The Gentlemen</td>\n",
              "      <td>Action, Comedy, Crime</td>\n",
              "      <td>An American expat tries to sell off his highly...</td>\n",
              "      <td>Matthew McConaughey Charlie Hunnam Michelle Do...</td>\n",
              "      <td>Guy Ritchie</td>\n",
              "      <td>en</td>\n",
              "      <td>unknown</td>\n",
              "    </tr>\n",
              "    <tr>\n",
              "      <th>7</th>\n",
              "      <td>Bombshell</td>\n",
              "      <td>Biography, Drama</td>\n",
              "      <td>A group of women take on Fox News head Roger A...</td>\n",
              "      <td>Charlize Theron Nicole Kidman Margot Robbie Jo...</td>\n",
              "      <td>Jay Roach</td>\n",
              "      <td>en</td>\n",
              "      <td>unknown</td>\n",
              "    </tr>\n",
              "    <tr>\n",
              "      <th>8</th>\n",
              "      <td>Doctor Sleep</td>\n",
              "      <td>Drama, Fantasy, Horror</td>\n",
              "      <td>Years following the events of The Shining (198...</td>\n",
              "      <td>Ewan McGregor Rebecca Ferguson Kyliegh Curran ...</td>\n",
              "      <td>Mike Flanagan</td>\n",
              "      <td>en</td>\n",
              "      <td>unknown</td>\n",
              "    </tr>\n",
              "    <tr>\n",
              "      <th>9</th>\n",
              "      <td>1917</td>\n",
              "      <td>Drama, War</td>\n",
              "      <td>April 6th, 1917. As a regiment assembles to wa...</td>\n",
              "      <td>Dean-Charles Chapman George MacKay Daniel Mays...</td>\n",
              "      <td>Sam Mendes</td>\n",
              "      <td>en</td>\n",
              "      <td>unknown</td>\n",
              "    </tr>\n",
              "    <tr>\n",
              "      <th>10</th>\n",
              "      <td>Terminator: Dark Fate</td>\n",
              "      <td>Action, Adventure, Sci-Fi</td>\n",
              "      <td>An augmented human and Sarah Connor must stop ...</td>\n",
              "      <td>Linda Hamilton Arnold Schwarzenegger Mackenzie...</td>\n",
              "      <td>Tim Miller</td>\n",
              "      <td>en</td>\n",
              "      <td>unknown</td>\n",
              "    </tr>\n",
              "    <tr>\n",
              "      <th>11</th>\n",
              "      <td>Ready or Not</td>\n",
              "      <td>Comedy, Horror, Mystery</td>\n",
              "      <td>A bride's wedding night takes a sinister turn ...</td>\n",
              "      <td>Tyler Gillett Samara Weaving Adam Brody Mark O...</td>\n",
              "      <td>Matt Bettinelli-Olpin</td>\n",
              "      <td>en</td>\n",
              "      <td>unknown</td>\n",
              "    </tr>\n",
              "    <tr>\n",
              "      <th>12</th>\n",
              "      <td>Jumanji: The Next Level</td>\n",
              "      <td>Action, Adventure, Comedy</td>\n",
              "      <td>In Jumanji: The Next Level, the gang is back b...</td>\n",
              "      <td>Dwayne Johnson Jack Black Kevin Hart Karen Gillan</td>\n",
              "      <td>Jake Kasdan</td>\n",
              "      <td>en</td>\n",
              "      <td>unknown</td>\n",
              "    </tr>\n",
              "    <tr>\n",
              "      <th>13</th>\n",
              "      <td>Star Wars: Episode IX - The Rise of Skywalker</td>\n",
              "      <td>Action, Adventure, Fantasy</td>\n",
              "      <td>The surviving members of the resistance face t...</td>\n",
              "      <td>Daisy Ridley John Boyega Oscar Isaac Adam Driver</td>\n",
              "      <td>J.J. Abrams</td>\n",
              "      <td>en</td>\n",
              "      <td>unknown</td>\n",
              "    </tr>\n",
              "    <tr>\n",
              "      <th>14</th>\n",
              "      <td>Midway</td>\n",
              "      <td>Action, Adventure, Drama</td>\n",
              "      <td>The story of the Battle of Midway, told by the...</td>\n",
              "      <td>Ed Skrein Patrick Wilson Woody Harrelson Luke ...</td>\n",
              "      <td>Roland Emmerich</td>\n",
              "      <td>en</td>\n",
              "      <td>unknown</td>\n",
              "    </tr>\n",
              "    <tr>\n",
              "      <th>15</th>\n",
              "      <td>The Lion King</td>\n",
              "      <td>Animation, Adventure, Drama</td>\n",
              "      <td>After the murder of his father, a young lion p...</td>\n",
              "      <td>Donald Glover Beyoncé Seth Rogen Chiwetel Ejiofor</td>\n",
              "      <td>Jon Favreau</td>\n",
              "      <td>en</td>\n",
              "      <td>unknown</td>\n",
              "    </tr>\n",
              "    <tr>\n",
              "      <th>16</th>\n",
              "      <td>Charlie's Angels</td>\n",
              "      <td>Action, Adventure, Comedy</td>\n",
              "      <td>When a young systems engineer blows the whistl...</td>\n",
              "      <td>Kristen Stewart Naomi Scott Ella Balinska Eliz...</td>\n",
              "      <td>Elizabeth Banks</td>\n",
              "      <td>en</td>\n",
              "      <td>unknown</td>\n",
              "    </tr>\n",
              "    <tr>\n",
              "      <th>17</th>\n",
              "      <td>The Irishman</td>\n",
              "      <td>Biography, Crime, Drama</td>\n",
              "      <td>An old man recalls his time painting houses fo...</td>\n",
              "      <td>Robert De Niro Al Pacino Joe Pesci Harvey Keitel</td>\n",
              "      <td>Martin Scorsese</td>\n",
              "      <td>en</td>\n",
              "      <td>unknown</td>\n",
              "    </tr>\n",
              "    <tr>\n",
              "      <th>18</th>\n",
              "      <td>Aladdin</td>\n",
              "      <td>Adventure, Family, Fantasy</td>\n",
              "      <td>A kind-hearted street urchin and a power-hungr...</td>\n",
              "      <td>Will Smith Mena Massoud Naomi Scott Marwan Ken...</td>\n",
              "      <td>Guy Ritchie</td>\n",
              "      <td>en</td>\n",
              "      <td>unknown</td>\n",
              "    </tr>\n",
              "    <tr>\n",
              "      <th>19</th>\n",
              "      <td>It Chapter Two</td>\n",
              "      <td>Drama, Fantasy, Horror</td>\n",
              "      <td>Twenty-seven years after their first encounter...</td>\n",
              "      <td>Jessica Chastain James McAvoy Bill Hader Isaia...</td>\n",
              "      <td>Andy Muschietti</td>\n",
              "      <td>en</td>\n",
              "      <td>unknown</td>\n",
              "    </tr>\n",
              "    <tr>\n",
              "      <th>20</th>\n",
              "      <td>Captain Marvel</td>\n",
              "      <td>Action, Adventure, Sci-Fi</td>\n",
              "      <td>Carol Danvers becomes one of the universe's mo...</td>\n",
              "      <td>Ryan Fleck Brie Larson Samuel L. Jackson Ben M...</td>\n",
              "      <td>Anna Boden</td>\n",
              "      <td>en</td>\n",
              "      <td>unknown</td>\n",
              "    </tr>\n",
              "    <tr>\n",
              "      <th>21</th>\n",
              "      <td>Alita: Battle Angel</td>\n",
              "      <td>Action, Adventure, Sci-Fi</td>\n",
              "      <td>A deactivated cyborg is revived, but cannot re...</td>\n",
              "      <td>Rosa Salazar Christoph Waltz Jennifer Connelly...</td>\n",
              "      <td>Robert Rodriguez</td>\n",
              "      <td>en</td>\n",
              "      <td>unknown</td>\n",
              "    </tr>\n",
              "    <tr>\n",
              "      <th>22</th>\n",
              "      <td>Spider-Man: Far from Home</td>\n",
              "      <td>Action, Adventure, Sci-Fi</td>\n",
              "      <td>Following the events of Avengers: Endgame (201...</td>\n",
              "      <td>Tom Holland Samuel L. Jackson Jake Gyllenhaal ...</td>\n",
              "      <td>Jon Watts</td>\n",
              "      <td>en</td>\n",
              "      <td>unknown</td>\n",
              "    </tr>\n",
              "    <tr>\n",
              "      <th>23</th>\n",
              "      <td>Frozen II</td>\n",
              "      <td>Animation, Adventure, Comedy</td>\n",
              "      <td>Anna, Elsa, Kristoff, Olaf and Sven leave Aren...</td>\n",
              "      <td>Jennifer Lee Kristen Bell Idina Menzel Josh Ga...</td>\n",
              "      <td>Chris Buck</td>\n",
              "      <td>en</td>\n",
              "      <td>unknown</td>\n",
              "    </tr>\n",
              "    <tr>\n",
              "      <th>24</th>\n",
              "      <td>Ad Astra</td>\n",
              "      <td>Adventure, Drama, Mystery</td>\n",
              "      <td>Astronaut Roy McBride undertakes a mission acr...</td>\n",
              "      <td>Brad Pitt Tommy Lee Jones Ruth Negga Donald Su...</td>\n",
              "      <td>James Gray</td>\n",
              "      <td>en</td>\n",
              "      <td>unknown</td>\n",
              "    </tr>\n",
              "    <tr>\n",
              "      <th>25</th>\n",
              "      <td>The Platform</td>\n",
              "      <td>Horror, Sci-Fi, Thriller</td>\n",
              "      <td>A vertical prison with one cell per level. Two...</td>\n",
              "      <td>Ivan Massagué Zorion Eguileor Antonia San Juan...</td>\n",
              "      <td>Galder Gaztelu-Urrutia</td>\n",
              "      <td>en</td>\n",
              "      <td>unknown</td>\n",
              "    </tr>\n",
              "    <tr>\n",
              "      <th>26</th>\n",
              "      <td>6 Underground</td>\n",
              "      <td>Action, Thriller</td>\n",
              "      <td>Meet a new kind of action hero. Six untraceabl...</td>\n",
              "      <td>Ryan Reynolds Mélanie Laurent Manuel Garcia-Ru...</td>\n",
              "      <td>Michael Bay</td>\n",
              "      <td>en</td>\n",
              "      <td>unknown</td>\n",
              "    </tr>\n",
              "    <tr>\n",
              "      <th>27</th>\n",
              "      <td>Us</td>\n",
              "      <td>Horror, Mystery, Thriller</td>\n",
              "      <td>A family's serene beach vacation turns to chao...</td>\n",
              "      <td>Lupita Nyong'o Winston Duke Elisabeth Moss Tim...</td>\n",
              "      <td>Jordan Peele</td>\n",
              "      <td>en</td>\n",
              "      <td>unknown</td>\n",
              "    </tr>\n",
              "    <tr>\n",
              "      <th>28</th>\n",
              "      <td>Gemini Man</td>\n",
              "      <td>Action, Drama, Sci-Fi</td>\n",
              "      <td>An over-the-hill hitman faces off against a yo...</td>\n",
              "      <td>Will Smith Mary Elizabeth Winstead Clive Owen ...</td>\n",
              "      <td>Ang Lee</td>\n",
              "      <td>en</td>\n",
              "      <td>unknown</td>\n",
              "    </tr>\n",
              "    <tr>\n",
              "      <th>29</th>\n",
              "      <td>X-Men: Dark Phoenix</td>\n",
              "      <td>Action, Adventure, Sci-Fi</td>\n",
              "      <td>Jean Grey begins to develop incredible powers ...</td>\n",
              "      <td>James McAvoy Michael Fassbender Jennifer Lawre...</td>\n",
              "      <td>Simon Kinberg</td>\n",
              "      <td>en</td>\n",
              "      <td>unknown</td>\n",
              "    </tr>\n",
              "    <tr>\n",
              "      <th>30</th>\n",
              "      <td>Fast &amp; Furious Presents: Hobbs &amp; Shaw</td>\n",
              "      <td>Action, Adventure, Thriller</td>\n",
              "      <td>Lawman Luke Hobbs (Dwayne \"The Rock\" Johnson) ...</td>\n",
              "      <td>Dwayne Johnson Jason Statham Idris Elba Vaness...</td>\n",
              "      <td>David Leitch</td>\n",
              "      <td>en</td>\n",
              "      <td>unknown</td>\n",
              "    </tr>\n",
              "    <tr>\n",
              "      <th>31</th>\n",
              "      <td>Zombieland: Double Tap</td>\n",
              "      <td>Action, Adventure, Comedy</td>\n",
              "      <td>Columbus, Tallahassee, Wichita, and Little Roc...</td>\n",
              "      <td>Woody Harrelson Jesse Eisenberg Emma Stone Abi...</td>\n",
              "      <td>Ruben Fleischer</td>\n",
              "      <td>en</td>\n",
              "      <td>unknown</td>\n",
              "    </tr>\n",
              "    <tr>\n",
              "      <th>32</th>\n",
              "      <td>Toy Story 4</td>\n",
              "      <td>Animation, Adventure, Comedy</td>\n",
              "      <td>When a new toy called \"Forky\" joins Woody and ...</td>\n",
              "      <td>Tom Hanks Tim Allen Annie Potts Tony Hale</td>\n",
              "      <td>Josh Cooley</td>\n",
              "      <td>en</td>\n",
              "      <td>unknown</td>\n",
              "    </tr>\n",
              "    <tr>\n",
              "      <th>33</th>\n",
              "      <td>Shazam!</td>\n",
              "      <td>Action, Adventure, Comedy</td>\n",
              "      <td>A newly fostered young boy in search of his mo...</td>\n",
              "      <td>Zachary Levi Mark Strong Asher Angel Jack Dyla...</td>\n",
              "      <td>David F. Sandberg</td>\n",
              "      <td>en</td>\n",
              "      <td>unknown</td>\n",
              "    </tr>\n",
              "    <tr>\n",
              "      <th>34</th>\n",
              "      <td>Anna</td>\n",
              "      <td>Action, Thriller</td>\n",
              "      <td>Beneath Anna Poliatova's striking beauty lies ...</td>\n",
              "      <td>Sasha Luss Helen Mirren Luke Evans Cillian Murphy</td>\n",
              "      <td>Luc Besson</td>\n",
              "      <td>en</td>\n",
              "      <td>unknown</td>\n",
              "    </tr>\n",
              "    <tr>\n",
              "      <th>35</th>\n",
              "      <td>John Wick: Chapter 3 - Parabellum</td>\n",
              "      <td>Action, Crime, Thriller</td>\n",
              "      <td>John Wick is on the run after killing a member...</td>\n",
              "      <td>Keanu Reeves Halle Berry Ian McShane Laurence ...</td>\n",
              "      <td>Chad Stahelski</td>\n",
              "      <td>en</td>\n",
              "      <td>unknown</td>\n",
              "    </tr>\n",
              "    <tr>\n",
              "      <th>36</th>\n",
              "      <td>The Good Liar</td>\n",
              "      <td>Crime, Drama, Mystery</td>\n",
              "      <td>Consummate con man Roy Courtnay has set his si...</td>\n",
              "      <td>Helen Mirren Ian McKellen Russell Tovey Jim Ca...</td>\n",
              "      <td>Bill Condon</td>\n",
              "      <td>en</td>\n",
              "      <td>unknown</td>\n",
              "    </tr>\n",
              "    <tr>\n",
              "      <th>37</th>\n",
              "      <td>Cats</td>\n",
              "      <td>Comedy, Drama, Family</td>\n",
              "      <td>A tribe of cats called the Jellicles must deci...</td>\n",
              "      <td>James Corden Judi Dench Jason Derulo Idris Elba</td>\n",
              "      <td>Tom Hooper</td>\n",
              "      <td>en</td>\n",
              "      <td>unknown</td>\n",
              "    </tr>\n",
              "    <tr>\n",
              "      <th>38</th>\n",
              "      <td>Maleficent: Mistress of Evil</td>\n",
              "      <td>Adventure, Family, Fantasy</td>\n",
              "      <td>Maleficent and her goddaughter Aurora begin to...</td>\n",
              "      <td>Angelina Jolie Elle Fanning Harris Dickinson M...</td>\n",
              "      <td>Joachim Rønning</td>\n",
              "      <td>en</td>\n",
              "      <td>unknown</td>\n",
              "    </tr>\n",
              "    <tr>\n",
              "      <th>39</th>\n",
              "      <td>El Camino: A Breaking Bad Movie</td>\n",
              "      <td>Action, Crime, Drama</td>\n",
              "      <td>Fugitive Jesse Pinkman runs from his captors, ...</td>\n",
              "      <td>Aaron Paul Jonathan Banks Matt Jones Charles B...</td>\n",
              "      <td>Vince Gilligan</td>\n",
              "      <td>en</td>\n",
              "      <td>unknown</td>\n",
              "    </tr>\n",
              "    <tr>\n",
              "      <th>40</th>\n",
              "      <td>Good Boys</td>\n",
              "      <td>Adventure, Comedy</td>\n",
              "      <td>Three 6th grade boys ditch school and embark o...</td>\n",
              "      <td>Jacob Tremblay Keith L. Williams Brady Noon Mo...</td>\n",
              "      <td>Gene Stupnitsky</td>\n",
              "      <td>en</td>\n",
              "      <td>unknown</td>\n",
              "    </tr>\n",
              "    <tr>\n",
              "      <th>41</th>\n",
              "      <td>Glass</td>\n",
              "      <td>Drama, Sci-Fi, Thriller</td>\n",
              "      <td>Security guard David Dunn uses his supernatura...</td>\n",
              "      <td>James McAvoy Bruce Willis Samuel L. Jackson An...</td>\n",
              "      <td>M. Night Shyamalan</td>\n",
              "      <td>en</td>\n",
              "      <td>unknown</td>\n",
              "    </tr>\n",
              "    <tr>\n",
              "      <th>42</th>\n",
              "      <td>Godzilla: King of the Monsters</td>\n",
              "      <td>Action, Adventure, Fantasy</td>\n",
              "      <td>The crypto-zoological agency Monarch faces off...</td>\n",
              "      <td>Kyle Chandler Vera Farmiga Millie Bobby Brown ...</td>\n",
              "      <td>Michael Dougherty</td>\n",
              "      <td>en</td>\n",
              "      <td>unknown</td>\n",
              "    </tr>\n",
              "    <tr>\n",
              "      <th>43</th>\n",
              "      <td>Angel Has Fallen</td>\n",
              "      <td>Action, Thriller</td>\n",
              "      <td>Mike Banning is framed for the attempted assas...</td>\n",
              "      <td>Gerard Butler Frederick Schmidt Danny Huston R...</td>\n",
              "      <td>Ric Roman Waugh</td>\n",
              "      <td>en</td>\n",
              "      <td>unknown</td>\n",
              "    </tr>\n",
              "    <tr>\n",
              "      <th>44</th>\n",
              "      <td>Rambo: Last Blood</td>\n",
              "      <td>Action, Thriller</td>\n",
              "      <td>Rambo must confront his past and unearth his r...</td>\n",
              "      <td>Sylvester Stallone Paz Vega Sergio Peris-Mench...</td>\n",
              "      <td>Adrian Grunberg</td>\n",
              "      <td>en</td>\n",
              "      <td>unknown</td>\n",
              "    </tr>\n",
              "    <tr>\n",
              "      <th>45</th>\n",
              "      <td>How to Train Your Dragon: The Hidden World</td>\n",
              "      <td>Animation, Action, Adventure</td>\n",
              "      <td>When Hiccup discovers Toothless isn't the only...</td>\n",
              "      <td>Jay Baruchel America Ferrera F. Murray Abraham...</td>\n",
              "      <td>Dean DeBlois</td>\n",
              "      <td>en</td>\n",
              "      <td>unknown</td>\n",
              "    </tr>\n",
              "    <tr>\n",
              "      <th>46</th>\n",
              "      <td>Men in Black: International</td>\n",
              "      <td>Action, Adventure, Comedy</td>\n",
              "      <td>The Men in Black have always protected the Ear...</td>\n",
              "      <td>Chris Hemsworth Tessa Thompson Kumail Nanjiani...</td>\n",
              "      <td>F. Gary Gray</td>\n",
              "      <td>en</td>\n",
              "      <td>unknown</td>\n",
              "    </tr>\n",
              "    <tr>\n",
              "      <th>47</th>\n",
              "      <td>Last Christmas</td>\n",
              "      <td>Comedy, Drama, Romance</td>\n",
              "      <td>Kate is a young woman subscribed to bad decisi...</td>\n",
              "      <td>Madison Ingoldsby Emma Thompson Boris Isakovic...</td>\n",
              "      <td>Paul Feig</td>\n",
              "      <td>en</td>\n",
              "      <td>unknown</td>\n",
              "    </tr>\n",
              "    <tr>\n",
              "      <th>48</th>\n",
              "      <td>Fighting with My Family</td>\n",
              "      <td>Biography, Comedy, Drama</td>\n",
              "      <td>A former wrestler and his family make a living...</td>\n",
              "      <td>Dwayne Johnson Lena Headey Vince Vaughn Floren...</td>\n",
              "      <td>Stephen Merchant</td>\n",
              "      <td>en</td>\n",
              "      <td>unknown</td>\n",
              "    </tr>\n",
              "    <tr>\n",
              "      <th>49</th>\n",
              "      <td>The Kitchen</td>\n",
              "      <td>Action, Crime, Drama</td>\n",
              "      <td>The wives of New York gangsters in Hell's Kitc...</td>\n",
              "      <td>Melissa McCarthy Tiffany Haddish Elisabeth Mos...</td>\n",
              "      <td>Andrea Berloff</td>\n",
              "      <td>en</td>\n",
              "      <td>unknown</td>\n",
              "    </tr>\n",
              "  </tbody>\n",
              "</table>\n",
              "</div>"
            ],
            "text/plain": [
              "                                            title  ...     comp\n",
              "0                                      Knives Out  ...  unknown\n",
              "1                                           Joker  ...  unknown\n",
              "2                               Avengers: Endgame  ...  unknown\n",
              "3                                  Ford v Ferrari  ...  unknown\n",
              "4                Once Upon a Time... in Hollywood  ...  unknown\n",
              "5                                     Jojo Rabbit  ...  unknown\n",
              "6                                   The Gentlemen  ...  unknown\n",
              "7                                       Bombshell  ...  unknown\n",
              "8                                    Doctor Sleep  ...  unknown\n",
              "9                                            1917  ...  unknown\n",
              "10                          Terminator: Dark Fate  ...  unknown\n",
              "11                                   Ready or Not  ...  unknown\n",
              "12                        Jumanji: The Next Level  ...  unknown\n",
              "13  Star Wars: Episode IX - The Rise of Skywalker  ...  unknown\n",
              "14                                         Midway  ...  unknown\n",
              "15                                  The Lion King  ...  unknown\n",
              "16                               Charlie's Angels  ...  unknown\n",
              "17                                   The Irishman  ...  unknown\n",
              "18                                        Aladdin  ...  unknown\n",
              "19                                 It Chapter Two  ...  unknown\n",
              "20                                 Captain Marvel  ...  unknown\n",
              "21                            Alita: Battle Angel  ...  unknown\n",
              "22                      Spider-Man: Far from Home  ...  unknown\n",
              "23                                      Frozen II  ...  unknown\n",
              "24                                       Ad Astra  ...  unknown\n",
              "25                                   The Platform  ...  unknown\n",
              "26                                  6 Underground  ...  unknown\n",
              "27                                             Us  ...  unknown\n",
              "28                                     Gemini Man  ...  unknown\n",
              "29                            X-Men: Dark Phoenix  ...  unknown\n",
              "30          Fast & Furious Presents: Hobbs & Shaw  ...  unknown\n",
              "31                         Zombieland: Double Tap  ...  unknown\n",
              "32                                    Toy Story 4  ...  unknown\n",
              "33                                        Shazam!  ...  unknown\n",
              "34                                           Anna  ...  unknown\n",
              "35              John Wick: Chapter 3 - Parabellum  ...  unknown\n",
              "36                                  The Good Liar  ...  unknown\n",
              "37                                           Cats  ...  unknown\n",
              "38                   Maleficent: Mistress of Evil  ...  unknown\n",
              "39                El Camino: A Breaking Bad Movie  ...  unknown\n",
              "40                                      Good Boys  ...  unknown\n",
              "41                                          Glass  ...  unknown\n",
              "42                 Godzilla: King of the Monsters  ...  unknown\n",
              "43                               Angel Has Fallen  ...  unknown\n",
              "44                              Rambo: Last Blood  ...  unknown\n",
              "45     How to Train Your Dragon: The Hidden World  ...  unknown\n",
              "46                    Men in Black: International  ...  unknown\n",
              "47                                 Last Christmas  ...  unknown\n",
              "48                        Fighting with My Family  ...  unknown\n",
              "49                                    The Kitchen  ...  unknown\n",
              "\n",
              "[50 rows x 7 columns]"
            ]
          },
          "metadata": {
            "tags": []
          },
          "execution_count": 215
        }
      ]
    },
    {
      "cell_type": "code",
      "metadata": {
        "id": "pqGCYTq5ZumN"
      },
      "source": [
        "df.to_csv('2019m1.csv')"
      ],
      "execution_count": null,
      "outputs": []
    },
    {
      "cell_type": "code",
      "metadata": {
        "id": "8eNSsNUManFU"
      },
      "source": [
        ""
      ],
      "execution_count": null,
      "outputs": []
    }
  ]
}