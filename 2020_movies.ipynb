{
  "nbformat": 4,
  "nbformat_minor": 0,
  "metadata": {
    "colab": {
      "name": "2020_movies.ipynb",
      "provenance": []
    },
    "kernelspec": {
      "name": "python3",
      "display_name": "Python 3"
    },
    "language_info": {
      "name": "python"
    }
  },
  "cells": [
    {
      "cell_type": "code",
      "metadata": {
        "id": "os1DL_jkCKGk"
      },
      "source": [
        "import requests\n",
        "from bs4 import BeautifulSoup\n",
        "import string\n",
        "\n",
        "\n",
        "def gethtml(url):\n",
        "    r = requests.get(url).text\n",
        "    return r"
      ],
      "execution_count": 1,
      "outputs": []
    },
    {
      "cell_type": "code",
      "metadata": {
        "id": "05uRAFBPCL7N"
      },
      "source": [
        "getdata = gethtml('https://www.imdb.com/list/ls071285764/?sort=moviemeter,asc&st_dt=&mode=detail&page=1')\n",
        "soup = BeautifulSoup(getdata, \"html.parser\")"
      ],
      "execution_count": 2,
      "outputs": []
    },
    {
      "cell_type": "code",
      "metadata": {
        "id": "THcb6YkpCS2g"
      },
      "source": [
        "x=soup.findAll(\"div\", {\"class\": \"lister-item mode-detail\"})\n"
      ],
      "execution_count": 3,
      "outputs": []
    },
    {
      "cell_type": "code",
      "metadata": {
        "id": "6mwp6F12CU-r"
      },
      "source": [
        "import re\n",
        "movie=[]\n",
        "pattern =re.compile(r'/title/.+')\n",
        "for link in x:\n",
        "  a =link.findAll('a')\n",
        "  for l in a:\n",
        "    if pattern.search(l['href']):\n",
        "      if l.string != None:\n",
        "          movie.append([l.string])"
      ],
      "execution_count": 4,
      "outputs": []
    },
    {
      "cell_type": "code",
      "metadata": {
        "colab": {
          "base_uri": "https://localhost:8080/"
        },
        "id": "nGMiFxggCXQ-",
        "outputId": "6b5fb46c-8631-4518-ceea-1e5db718beb4"
      },
      "source": [
        "len(movie)\n"
      ],
      "execution_count": 5,
      "outputs": [
        {
          "output_type": "execute_result",
          "data": {
            "text/plain": [
              "37"
            ]
          },
          "metadata": {},
          "execution_count": 5
        }
      ]
    },
    {
      "cell_type": "code",
      "metadata": {
        "colab": {
          "base_uri": "https://localhost:8080/"
        },
        "id": "NhVI-0zaCZpv",
        "outputId": "a420b915-5c84-4267-9e04-85a3a2e0b526"
      },
      "source": [
        "movie[:10]"
      ],
      "execution_count": 6,
      "outputs": [
        {
          "output_type": "execute_result",
          "data": {
            "text/plain": [
              "[['A Quiet Place Part II'],\n",
              " ['Tenet'],\n",
              " ['Wonder Woman 1984'],\n",
              " ['Birds of Prey'],\n",
              " ['The Hunt'],\n",
              " ['Underwater'],\n",
              " ['Mulan'],\n",
              " ['The New Mutants'],\n",
              " ['Soul'],\n",
              " ['The Witches']]"
            ]
          },
          "metadata": {},
          "execution_count": 6
        }
      ]
    },
    {
      "cell_type": "code",
      "metadata": {
        "id": "0Jq46UB8Cd0C"
      },
      "source": [
        "sx=soup.findAll(\"span\", {\"class\": \"genre\"})\n",
        "gen =[]\n",
        "for span in sx:\n",
        "  gen.append([span.text.strip()])"
      ],
      "execution_count": 7,
      "outputs": []
    },
    {
      "cell_type": "code",
      "metadata": {
        "colab": {
          "base_uri": "https://localhost:8080/"
        },
        "id": "MSZKNDgDCj4W",
        "outputId": "35abfbb3-f167-46d9-d9a0-78f16f95ca35"
      },
      "source": [
        "len(gen)"
      ],
      "execution_count": 8,
      "outputs": [
        {
          "output_type": "execute_result",
          "data": {
            "text/plain": [
              "37"
            ]
          },
          "metadata": {},
          "execution_count": 8
        }
      ]
    },
    {
      "cell_type": "code",
      "metadata": {
        "colab": {
          "base_uri": "https://localhost:8080/"
        },
        "id": "Bj2CPStSCoIC",
        "outputId": "e4d925f8-ed82-4e98-9d62-770320d09815"
      },
      "source": [
        "gen[:10]"
      ],
      "execution_count": 9,
      "outputs": [
        {
          "output_type": "execute_result",
          "data": {
            "text/plain": [
              "[['Drama, Horror, Sci-Fi'],\n",
              " ['Action, Sci-Fi, Thriller'],\n",
              " ['Action, Adventure, Fantasy'],\n",
              " ['Action, Adventure, Comedy'],\n",
              " ['Action, Horror, Thriller'],\n",
              " ['Action, Horror, Sci-Fi'],\n",
              " ['Action, Adventure, Drama'],\n",
              " ['Action, Horror, Mystery'],\n",
              " ['Animation, Adventure, Comedy'],\n",
              " ['Adventure, Comedy, Family']]"
            ]
          },
          "metadata": {},
          "execution_count": 9
        }
      ]
    },
    {
      "cell_type": "code",
      "metadata": {
        "id": "moqNOpFeCrXG"
      },
      "source": [
        "over=soup.findAll(\"p\", {\"class\": \"\"})\n"
      ],
      "execution_count": 10,
      "outputs": []
    },
    {
      "cell_type": "code",
      "metadata": {
        "id": "1VPGOD3TCufJ"
      },
      "source": [
        "overview=[]\n",
        "import re \n",
        "pattern =re.compile(r'Watched. Ra.+')\n",
        "for para in over:\n",
        "  if not pattern.search(para.text):\n",
        "    overview.append([para.text.strip()])"
      ],
      "execution_count": 11,
      "outputs": []
    },
    {
      "cell_type": "code",
      "metadata": {
        "colab": {
          "base_uri": "https://localhost:8080/"
        },
        "id": "UI1uM00_CwVg",
        "outputId": "48202a02-ddb6-4ced-855c-3f7331d8c64d"
      },
      "source": [
        "overview[:10]"
      ],
      "execution_count": 12,
      "outputs": [
        {
          "output_type": "execute_result",
          "data": {
            "text/plain": [
              "[['Following the events at home, the Abbott family now face the terrors of the outside world. Forced to venture into the unknown, they realize the creatures that hunt by sound are not the only threats lurking beyond the sand path.'],\n",
              " ['Armed with only one word, Tenet, and fighting for the survival of the entire world, a Protagonist journeys through a twilight world of international espionage on a mission that will unfold in something beyond real time.'],\n",
              " ['Diana must contend with a work colleague and businessman, whose desire for extreme wealth sends the world down a path of destruction, after an ancient artifact that grants wishes goes missing.'],\n",
              " ['After splitting with the Joker, Harley Quinn joins superheroes Black Canary, Huntress and Renee Montoya to save a young girl from an evil crime lord.'],\n",
              " [\"Twelve strangers wake up in a clearing. They don't know where they are, or how they got there. They don't know they've been chosen - for a very specific purpose - The Hunt.\"],\n",
              " ['A crew of oceanic researchers working for a deep sea drilling company try to get to safety after a mysterious earthquake devastates their deepwater research and drilling facility located at the bottom of the Mariana Trench.'],\n",
              " ['A young Chinese maiden disguises herself as a male warrior in order to save her father.'],\n",
              " ['Five young mutants, just discovering their abilities while held in a secret facility against their will, fight to escape their past sins and save themselves.'],\n",
              " ['After landing the gig of a lifetime, a New York jazz pianist suddenly finds himself trapped in a strange land between Earth and the afterlife.'],\n",
              " ['A young boy and his grandmother have a run-in with a coven of witches and their leader.']]"
            ]
          },
          "metadata": {},
          "execution_count": 12
        }
      ]
    },
    {
      "cell_type": "code",
      "metadata": {
        "colab": {
          "base_uri": "https://localhost:8080/"
        },
        "id": "bEVAzDkfCzTj",
        "outputId": "19d4ad70-0ad8-4603-e46a-0c7ac26c00fa"
      },
      "source": [
        "len(overview)"
      ],
      "execution_count": 13,
      "outputs": [
        {
          "output_type": "execute_result",
          "data": {
            "text/plain": [
              "37"
            ]
          },
          "metadata": {},
          "execution_count": 13
        }
      ]
    },
    {
      "cell_type": "code",
      "metadata": {
        "id": "c8bBLN4AC1Zw"
      },
      "source": [
        "x=soup.findAll(\"div\", {\"class\": \"lister-item mode-detail\"})\n",
        "\n",
        "crew =[]\n",
        "for div in x:\n",
        "  p =div.findAll('p',{'class':'text-muted text-small'})\n",
        "  temp =[]\n",
        "  link =p[1].findAll('a')\n",
        "  for final in link:\n",
        "    #print(final)\n",
        "    temp.append(final.text)\n",
        "  #print(temp)\n",
        "  crew.append(temp)"
      ],
      "execution_count": 14,
      "outputs": []
    },
    {
      "cell_type": "code",
      "metadata": {
        "colab": {
          "base_uri": "https://localhost:8080/"
        },
        "id": "qzfB4mujC5VK",
        "outputId": "962f33aa-d8dd-4c9c-d87b-ed92da5209b7"
      },
      "source": [
        "crew[:10]"
      ],
      "execution_count": 15,
      "outputs": [
        {
          "output_type": "execute_result",
          "data": {
            "text/plain": [
              "[['John Krasinski',\n",
              "  'Emily Blunt',\n",
              "  'Millicent Simmonds',\n",
              "  'Cillian Murphy',\n",
              "  'John Krasinski'],\n",
              " ['Christopher Nolan',\n",
              "  'John David Washington',\n",
              "  'Robert Pattinson',\n",
              "  'Elizabeth Debicki',\n",
              "  'Juhan Ulfsak'],\n",
              " ['Patty Jenkins', 'Gal Gadot', 'Chris Pine', 'Kristen Wiig', 'Pedro Pascal'],\n",
              " ['Cathy Yan',\n",
              "  'Margot Robbie',\n",
              "  'Rosie Perez',\n",
              "  'Mary Elizabeth Winstead',\n",
              "  'Jurnee Smollett'],\n",
              " ['Craig Zobel',\n",
              "  'Betty Gilpin',\n",
              "  'Hilary Swank',\n",
              "  'Ike Barinholtz',\n",
              "  'Wayne Duvall'],\n",
              " ['William Eubank',\n",
              "  'Kristen Stewart',\n",
              "  'Vincent Cassel',\n",
              "  'Mamoudou Athie',\n",
              "  'T.J. Miller'],\n",
              " ['Niki Caro', 'Liu Yifei', 'Donnie Yen', 'Gong Li', 'Jet Li'],\n",
              " ['Josh Boone',\n",
              "  'Maisie Williams',\n",
              "  'Anya Taylor-Joy',\n",
              "  'Charlie Heaton',\n",
              "  'Alice Braga'],\n",
              " ['Pete Docter',\n",
              "  'Kemp Powers',\n",
              "  'Jamie Foxx',\n",
              "  'Tina Fey',\n",
              "  'Graham Norton',\n",
              "  'Rachel House'],\n",
              " ['Robert Zemeckis',\n",
              "  'Anne Hathaway',\n",
              "  'Octavia Spencer',\n",
              "  'Stanley Tucci',\n",
              "  'Chris Rock']]"
            ]
          },
          "metadata": {},
          "execution_count": 15
        }
      ]
    },
    {
      "cell_type": "code",
      "metadata": {
        "colab": {
          "base_uri": "https://localhost:8080/"
        },
        "id": "yQhqUqEXC8v1",
        "outputId": "7fd89ed8-27d8-4d87-c3bd-35b36c6556c1"
      },
      "source": [
        "len(crew)\n"
      ],
      "execution_count": 16,
      "outputs": [
        {
          "output_type": "execute_result",
          "data": {
            "text/plain": [
              "37"
            ]
          },
          "metadata": {},
          "execution_count": 16
        }
      ]
    },
    {
      "cell_type": "code",
      "metadata": {
        "id": "qPDbuqGVDBAW"
      },
      "source": [
        "movie_x=[]\n",
        "for m in movie:\n",
        "  movie_x.append(m[0])\n",
        "\n",
        "gen_x=[]\n",
        "for g in gen:\n",
        "  gen_x.append(g[0])\n",
        "\n",
        "over_x =[]\n",
        "for over in overview:\n",
        "  over_x.append(over[0])\n",
        "\n",
        "dir_x=[]\n",
        "cast_x=[]\n",
        "for c in crew:\n",
        "  dir_x.append(c[0])\n",
        "  cast_x.append(\" \".join(c[1:]))"
      ],
      "execution_count": 17,
      "outputs": []
    },
    {
      "cell_type": "code",
      "metadata": {
        "id": "aXrwBTBZDM5Z"
      },
      "source": [
        "struct ={'title':movie_x,'genre':gen_x,'overview':over_x,'cast':cast_x,'director':dir_x,'lang':['en']*37,'comp':['unknown']*37}\n"
      ],
      "execution_count": 18,
      "outputs": []
    },
    {
      "cell_type": "code",
      "metadata": {
        "id": "50kIzLoEDTav"
      },
      "source": [
        "import pandas as pd\n",
        "df =pd.DataFrame(data=struct)\n"
      ],
      "execution_count": 20,
      "outputs": []
    },
    {
      "cell_type": "code",
      "metadata": {
        "colab": {
          "base_uri": "https://localhost:8080/",
          "height": 203
        },
        "id": "DbuYVhffDV11",
        "outputId": "2bfef924-fe31-41e1-fdeb-9bae1d935639"
      },
      "source": [
        "df.head()"
      ],
      "execution_count": 21,
      "outputs": [
        {
          "output_type": "execute_result",
          "data": {
            "text/html": [
              "<div>\n",
              "<style scoped>\n",
              "    .dataframe tbody tr th:only-of-type {\n",
              "        vertical-align: middle;\n",
              "    }\n",
              "\n",
              "    .dataframe tbody tr th {\n",
              "        vertical-align: top;\n",
              "    }\n",
              "\n",
              "    .dataframe thead th {\n",
              "        text-align: right;\n",
              "    }\n",
              "</style>\n",
              "<table border=\"1\" class=\"dataframe\">\n",
              "  <thead>\n",
              "    <tr style=\"text-align: right;\">\n",
              "      <th></th>\n",
              "      <th>title</th>\n",
              "      <th>genre</th>\n",
              "      <th>overview</th>\n",
              "      <th>cast</th>\n",
              "      <th>director</th>\n",
              "      <th>lang</th>\n",
              "      <th>comp</th>\n",
              "    </tr>\n",
              "  </thead>\n",
              "  <tbody>\n",
              "    <tr>\n",
              "      <th>0</th>\n",
              "      <td>A Quiet Place Part II</td>\n",
              "      <td>Drama, Horror, Sci-Fi</td>\n",
              "      <td>Following the events at home, the Abbott famil...</td>\n",
              "      <td>Emily Blunt Millicent Simmonds Cillian Murphy ...</td>\n",
              "      <td>John Krasinski</td>\n",
              "      <td>en</td>\n",
              "      <td>unknown</td>\n",
              "    </tr>\n",
              "    <tr>\n",
              "      <th>1</th>\n",
              "      <td>Tenet</td>\n",
              "      <td>Action, Sci-Fi, Thriller</td>\n",
              "      <td>Armed with only one word, Tenet, and fighting ...</td>\n",
              "      <td>John David Washington Robert Pattinson Elizabe...</td>\n",
              "      <td>Christopher Nolan</td>\n",
              "      <td>en</td>\n",
              "      <td>unknown</td>\n",
              "    </tr>\n",
              "    <tr>\n",
              "      <th>2</th>\n",
              "      <td>Wonder Woman 1984</td>\n",
              "      <td>Action, Adventure, Fantasy</td>\n",
              "      <td>Diana must contend with a work colleague and b...</td>\n",
              "      <td>Gal Gadot Chris Pine Kristen Wiig Pedro Pascal</td>\n",
              "      <td>Patty Jenkins</td>\n",
              "      <td>en</td>\n",
              "      <td>unknown</td>\n",
              "    </tr>\n",
              "    <tr>\n",
              "      <th>3</th>\n",
              "      <td>Birds of Prey</td>\n",
              "      <td>Action, Adventure, Comedy</td>\n",
              "      <td>After splitting with the Joker, Harley Quinn j...</td>\n",
              "      <td>Margot Robbie Rosie Perez Mary Elizabeth Winst...</td>\n",
              "      <td>Cathy Yan</td>\n",
              "      <td>en</td>\n",
              "      <td>unknown</td>\n",
              "    </tr>\n",
              "    <tr>\n",
              "      <th>4</th>\n",
              "      <td>The Hunt</td>\n",
              "      <td>Action, Horror, Thriller</td>\n",
              "      <td>Twelve strangers wake up in a clearing. They d...</td>\n",
              "      <td>Betty Gilpin Hilary Swank Ike Barinholtz Wayne...</td>\n",
              "      <td>Craig Zobel</td>\n",
              "      <td>en</td>\n",
              "      <td>unknown</td>\n",
              "    </tr>\n",
              "  </tbody>\n",
              "</table>\n",
              "</div>"
            ],
            "text/plain": [
              "                   title                       genre  ... lang     comp\n",
              "0  A Quiet Place Part II       Drama, Horror, Sci-Fi  ...   en  unknown\n",
              "1                  Tenet    Action, Sci-Fi, Thriller  ...   en  unknown\n",
              "2      Wonder Woman 1984  Action, Adventure, Fantasy  ...   en  unknown\n",
              "3          Birds of Prey   Action, Adventure, Comedy  ...   en  unknown\n",
              "4               The Hunt    Action, Horror, Thriller  ...   en  unknown\n",
              "\n",
              "[5 rows x 7 columns]"
            ]
          },
          "metadata": {},
          "execution_count": 21
        }
      ]
    },
    {
      "cell_type": "code",
      "metadata": {
        "id": "jQ51GJ1uDbPx"
      },
      "source": [
        "df.to_csv('2020m1.csv')\n"
      ],
      "execution_count": 23,
      "outputs": []
    },
    {
      "cell_type": "code",
      "metadata": {
        "id": "yhZVB6pgDg8X"
      },
      "source": [
        "genre_list =[]\n",
        "for x in df.genre:\n",
        "    l =x.split(',')\n",
        "    s=\"\"\n",
        "    for i in l:\n",
        "        i = i.strip()\n",
        "        if i =='Sci-Fi':\n",
        "            i='Science Fiction'\n",
        "        s=s+i+\" \"\n",
        "    genre_list.append(s)"
      ],
      "execution_count": 24,
      "outputs": []
    },
    {
      "cell_type": "code",
      "metadata": {
        "colab": {
          "base_uri": "https://localhost:8080/"
        },
        "id": "3_4Ij7ukEDoh",
        "outputId": "43ab53c7-1080-4198-fb9a-7ed64905c178"
      },
      "source": [
        "genre_list[:5]\n"
      ],
      "execution_count": 25,
      "outputs": [
        {
          "output_type": "execute_result",
          "data": {
            "text/plain": [
              "['Drama Horror Science Fiction ',\n",
              " 'Action Science Fiction Thriller ',\n",
              " 'Action Adventure Fantasy ',\n",
              " 'Action Adventure Comedy ',\n",
              " 'Action Horror Thriller ']"
            ]
          },
          "metadata": {},
          "execution_count": 25
        }
      ]
    },
    {
      "cell_type": "code",
      "metadata": {
        "id": "SFxqEBCYEFj8"
      },
      "source": [
        "df['genre_list']=pd.DataFrame(genre_list,columns=['genre_list'])\n"
      ],
      "execution_count": 26,
      "outputs": []
    },
    {
      "cell_type": "code",
      "metadata": {
        "id": "52FrZ8k-EHei"
      },
      "source": [
        "df['crew_list']=df['director']\n",
        "df['cast_list'] = df['cast']\n",
        "df['original_language'] = df['lang']\n",
        "df['comp_list'] = df['comp']"
      ],
      "execution_count": 27,
      "outputs": []
    },
    {
      "cell_type": "code",
      "metadata": {
        "id": "jE5H685UEJYF"
      },
      "source": [
        "df.drop(['genre','cast','director','lang','comp'],axis=1,inplace=True)\n"
      ],
      "execution_count": 28,
      "outputs": []
    },
    {
      "cell_type": "code",
      "metadata": {
        "colab": {
          "base_uri": "https://localhost:8080/"
        },
        "id": "NBNm0p2AEMLy",
        "outputId": "93aee9b6-5e6c-4ab2-e284-552b9b7e553f"
      },
      "source": [
        "df.columns\n"
      ],
      "execution_count": 29,
      "outputs": [
        {
          "output_type": "execute_result",
          "data": {
            "text/plain": [
              "Index(['title', 'overview', 'genre_list', 'crew_list', 'cast_list',\n",
              "       'original_language', 'comp_list'],\n",
              "      dtype='object')"
            ]
          },
          "metadata": {},
          "execution_count": 29
        }
      ]
    },
    {
      "cell_type": "code",
      "metadata": {
        "id": "AiQOvRiHEOdK"
      },
      "source": [
        "df['comb'] =df['genre_list']+df['cast_list']+df['crew_list']+df['original_language']\n"
      ],
      "execution_count": 30,
      "outputs": []
    },
    {
      "cell_type": "code",
      "metadata": {
        "colab": {
          "base_uri": "https://localhost:8080/"
        },
        "id": "H-7zQpxvERPW",
        "outputId": "67172b8f-c624-4055-8679-bc11864b0fb0"
      },
      "source": [
        "df.columns"
      ],
      "execution_count": 31,
      "outputs": [
        {
          "output_type": "execute_result",
          "data": {
            "text/plain": [
              "Index(['title', 'overview', 'genre_list', 'crew_list', 'cast_list',\n",
              "       'original_language', 'comp_list', 'comb'],\n",
              "      dtype='object')"
            ]
          },
          "metadata": {},
          "execution_count": 31
        }
      ]
    },
    {
      "cell_type": "code",
      "metadata": {
        "id": "-J6ni_5CESlC"
      },
      "source": [
        "maindf= pd.read_csv('till_2019.csv')\n"
      ],
      "execution_count": 32,
      "outputs": []
    },
    {
      "cell_type": "code",
      "metadata": {
        "id": "zyiRYOIQEbna"
      },
      "source": [
        "finaldf =maindf.append(df)\n"
      ],
      "execution_count": 33,
      "outputs": []
    },
    {
      "cell_type": "code",
      "metadata": {
        "colab": {
          "base_uri": "https://localhost:8080/",
          "height": 371
        },
        "id": "ek7kz76SEeT6",
        "outputId": "1692b7cd-efc3-455c-c6b6-9f5077f81011"
      },
      "source": [
        "finaldf.head()"
      ],
      "execution_count": 34,
      "outputs": [
        {
          "output_type": "execute_result",
          "data": {
            "text/html": [
              "<div>\n",
              "<style scoped>\n",
              "    .dataframe tbody tr th:only-of-type {\n",
              "        vertical-align: middle;\n",
              "    }\n",
              "\n",
              "    .dataframe tbody tr th {\n",
              "        vertical-align: top;\n",
              "    }\n",
              "\n",
              "    .dataframe thead th {\n",
              "        text-align: right;\n",
              "    }\n",
              "</style>\n",
              "<table border=\"1\" class=\"dataframe\">\n",
              "  <thead>\n",
              "    <tr style=\"text-align: right;\">\n",
              "      <th></th>\n",
              "      <th>id</th>\n",
              "      <th>original_language</th>\n",
              "      <th>title</th>\n",
              "      <th>overview</th>\n",
              "      <th>genre_list</th>\n",
              "      <th>cast_list</th>\n",
              "      <th>crew_list</th>\n",
              "      <th>comp_list</th>\n",
              "      <th>comb</th>\n",
              "    </tr>\n",
              "  </thead>\n",
              "  <tbody>\n",
              "    <tr>\n",
              "      <th>0</th>\n",
              "      <td>19995.0</td>\n",
              "      <td>en</td>\n",
              "      <td>Avatar</td>\n",
              "      <td>In the 22nd century, a paraplegic Marine is di...</td>\n",
              "      <td>Action Adventure Fantasy Science Fiction</td>\n",
              "      <td>Sam Worthington Zoe Saldana Sigourney Weaver</td>\n",
              "      <td>James Cameron</td>\n",
              "      <td>IngeniousFilmPartners TwentiethCenturyFoxFilmC...</td>\n",
              "      <td>Action Adventure Fantasy Science Fiction Sam W...</td>\n",
              "    </tr>\n",
              "    <tr>\n",
              "      <th>1</th>\n",
              "      <td>285.0</td>\n",
              "      <td>en</td>\n",
              "      <td>Pirates of the Caribbean: At World's End</td>\n",
              "      <td>Captain Barbossa, long believed to be dead, ha...</td>\n",
              "      <td>Adventure Fantasy Action</td>\n",
              "      <td>Johnny Depp Orlando Bloom Keira Knightley</td>\n",
              "      <td>Gore Verbinski</td>\n",
              "      <td>WaltDisneyPictures JerryBruckheimerFilms Secon...</td>\n",
              "      <td>Adventure Fantasy Action Johnny Depp Orlando B...</td>\n",
              "    </tr>\n",
              "    <tr>\n",
              "      <th>2</th>\n",
              "      <td>206647.0</td>\n",
              "      <td>en</td>\n",
              "      <td>Spectre</td>\n",
              "      <td>A cryptic message from Bond’s past sends him o...</td>\n",
              "      <td>Action Adventure Crime</td>\n",
              "      <td>Daniel Craig Christoph Waltz Léa Seydoux</td>\n",
              "      <td>Sam Mendes</td>\n",
              "      <td>ColumbiaPictures Danjaq B24</td>\n",
              "      <td>Action Adventure Crime Daniel Craig Christoph ...</td>\n",
              "    </tr>\n",
              "    <tr>\n",
              "      <th>3</th>\n",
              "      <td>49026.0</td>\n",
              "      <td>en</td>\n",
              "      <td>The Dark Knight Rises</td>\n",
              "      <td>Following the death of District Attorney Harve...</td>\n",
              "      <td>Action Crime Drama Thriller</td>\n",
              "      <td>Christian Bale Michael Caine Gary Oldman</td>\n",
              "      <td>Christopher Nolan</td>\n",
              "      <td>LegendaryPictures WarnerBros. DCEntertainment ...</td>\n",
              "      <td>Action Crime Drama Thriller Christian Bale Mic...</td>\n",
              "    </tr>\n",
              "    <tr>\n",
              "      <th>4</th>\n",
              "      <td>49529.0</td>\n",
              "      <td>en</td>\n",
              "      <td>John Carter</td>\n",
              "      <td>John Carter is a war-weary, former military ca...</td>\n",
              "      <td>Action Adventure Science Fiction</td>\n",
              "      <td>Taylor Kitsch Lynn Collins Samantha Morton</td>\n",
              "      <td>Andrew Stanton</td>\n",
              "      <td>WaltDisneyPictures</td>\n",
              "      <td>Action Adventure Science Fiction Taylor Kitsch...</td>\n",
              "    </tr>\n",
              "  </tbody>\n",
              "</table>\n",
              "</div>"
            ],
            "text/plain": [
              "         id  ...                                               comb\n",
              "0   19995.0  ...  Action Adventure Fantasy Science Fiction Sam W...\n",
              "1     285.0  ...  Adventure Fantasy Action Johnny Depp Orlando B...\n",
              "2  206647.0  ...  Action Adventure Crime Daniel Craig Christoph ...\n",
              "3   49026.0  ...  Action Crime Drama Thriller Christian Bale Mic...\n",
              "4   49529.0  ...  Action Adventure Science Fiction Taylor Kitsch...\n",
              "\n",
              "[5 rows x 9 columns]"
            ]
          },
          "metadata": {},
          "execution_count": 34
        }
      ]
    },
    {
      "cell_type": "code",
      "metadata": {
        "id": "HkJFlhp-E3-Z"
      },
      "source": [
        "finaldf.to_csv('Dataset/till_2020.csv')"
      ],
      "execution_count": 43,
      "outputs": []
    }
  ]
}