{
 "cells": [
  {
   "cell_type": "code",
   "execution_count": 12,
   "metadata": {},
   "outputs": [],
   "source": [
    "import pandas as pd\n",
    "df=pd.read_csv('main.csv')\n"
   ]
  },
  {
   "cell_type": "code",
   "execution_count": 13,
   "metadata": {},
   "outputs": [
    {
     "data": {
      "text/html": [
       "<div>\n",
       "<style scoped>\n",
       "    .dataframe tbody tr th:only-of-type {\n",
       "        vertical-align: middle;\n",
       "    }\n",
       "\n",
       "    .dataframe tbody tr th {\n",
       "        vertical-align: top;\n",
       "    }\n",
       "\n",
       "    .dataframe thead th {\n",
       "        text-align: right;\n",
       "    }\n",
       "</style>\n",
       "<table border=\"1\" class=\"dataframe\">\n",
       "  <thead>\n",
       "    <tr style=\"text-align: right;\">\n",
       "      <th></th>\n",
       "      <th>title</th>\n",
       "      <th>overview</th>\n",
       "      <th>genre_list</th>\n",
       "      <th>crew_list</th>\n",
       "      <th>cast_list</th>\n",
       "      <th>original_language</th>\n",
       "      <th>comp_list</th>\n",
       "      <th>comb</th>\n",
       "    </tr>\n",
       "  </thead>\n",
       "  <tbody>\n",
       "    <tr>\n",
       "      <td>0</td>\n",
       "      <td>Kingsman: The Golden Circle</td>\n",
       "      <td>After the Kingsman's headquarters are destroye...</td>\n",
       "      <td>Action Adventure Comedy</td>\n",
       "      <td>Matthew Vaughn</td>\n",
       "      <td>Taron Egerton Colin Firth Mark Strong Channing...</td>\n",
       "      <td>en</td>\n",
       "      <td>unknown</td>\n",
       "      <td>Action Adventure Comedy Taron Egerton Colin Fi...</td>\n",
       "    </tr>\n",
       "    <tr>\n",
       "      <td>1</td>\n",
       "      <td>Blade Runner 2049</td>\n",
       "      <td>Young Blade Runner K's discovery of a long-bur...</td>\n",
       "      <td>Action Drama Mystery</td>\n",
       "      <td>Denis Villeneuve</td>\n",
       "      <td>Harrison Ford Ryan Gosling Ana de Armas Dave B...</td>\n",
       "      <td>en</td>\n",
       "      <td>unknown</td>\n",
       "      <td>Action Drama Mystery Harrison Ford Ryan Goslin...</td>\n",
       "    </tr>\n",
       "    <tr>\n",
       "      <td>2</td>\n",
       "      <td>Dunkirk</td>\n",
       "      <td>Allied soldiers from Belgium, the British Empi...</td>\n",
       "      <td>Action Drama History</td>\n",
       "      <td>Christopher Nolan</td>\n",
       "      <td>Fionn Whitehead Barry Keoghan Mark Rylance Tom...</td>\n",
       "      <td>en</td>\n",
       "      <td>unknown</td>\n",
       "      <td>Action Drama History Fionn Whitehead Barry Keo...</td>\n",
       "    </tr>\n",
       "    <tr>\n",
       "      <td>3</td>\n",
       "      <td>Thor: Ragnarok</td>\n",
       "      <td>Imprisoned on the planet Sakaar, Thor must rac...</td>\n",
       "      <td>Action Adventure Comedy</td>\n",
       "      <td>Taika Waititi</td>\n",
       "      <td>Chris Hemsworth Tom Hiddleston Cate Blanchett ...</td>\n",
       "      <td>en</td>\n",
       "      <td>unknown</td>\n",
       "      <td>Action Adventure Comedy Chris Hemsworth Tom Hi...</td>\n",
       "    </tr>\n",
       "    <tr>\n",
       "      <td>4</td>\n",
       "      <td>It</td>\n",
       "      <td>In the summer of 1989, a group of bullied kids...</td>\n",
       "      <td>Horror</td>\n",
       "      <td>Andy Muschietti</td>\n",
       "      <td>Bill Skarsgård Jaeden Martell Finn Wolfhard So...</td>\n",
       "      <td>en</td>\n",
       "      <td>unknown</td>\n",
       "      <td>Horror Bill Skarsgård Jaeden Martell Finn Wolf...</td>\n",
       "    </tr>\n",
       "  </tbody>\n",
       "</table>\n",
       "</div>"
      ],
      "text/plain": [
       "                         title  \\\n",
       "0  Kingsman: The Golden Circle   \n",
       "1            Blade Runner 2049   \n",
       "2                      Dunkirk   \n",
       "3               Thor: Ragnarok   \n",
       "4                           It   \n",
       "\n",
       "                                            overview  \\\n",
       "0  After the Kingsman's headquarters are destroye...   \n",
       "1  Young Blade Runner K's discovery of a long-bur...   \n",
       "2  Allied soldiers from Belgium, the British Empi...   \n",
       "3  Imprisoned on the planet Sakaar, Thor must rac...   \n",
       "4  In the summer of 1989, a group of bullied kids...   \n",
       "\n",
       "                 genre_list          crew_list  \\\n",
       "0  Action Adventure Comedy      Matthew Vaughn   \n",
       "1     Action Drama Mystery    Denis Villeneuve   \n",
       "2     Action Drama History   Christopher Nolan   \n",
       "3  Action Adventure Comedy       Taika Waititi   \n",
       "4                   Horror     Andy Muschietti   \n",
       "\n",
       "                                           cast_list original_language  \\\n",
       "0  Taron Egerton Colin Firth Mark Strong Channing...                en   \n",
       "1  Harrison Ford Ryan Gosling Ana de Armas Dave B...                en   \n",
       "2  Fionn Whitehead Barry Keoghan Mark Rylance Tom...                en   \n",
       "3  Chris Hemsworth Tom Hiddleston Cate Blanchett ...                en   \n",
       "4  Bill Skarsgård Jaeden Martell Finn Wolfhard So...                en   \n",
       "\n",
       "  comp_list                                               comb  \n",
       "0   unknown  Action Adventure Comedy Taron Egerton Colin Fi...  \n",
       "1   unknown  Action Drama Mystery Harrison Ford Ryan Goslin...  \n",
       "2   unknown  Action Drama History Fionn Whitehead Barry Keo...  \n",
       "3   unknown  Action Adventure Comedy Chris Hemsworth Tom Hi...  \n",
       "4   unknown  Horror Bill Skarsgård Jaeden Martell Finn Wolf...  "
      ]
     },
     "execution_count": 13,
     "metadata": {},
     "output_type": "execute_result"
    }
   ],
   "source": [
    "df.head()"
   ]
  },
  {
   "cell_type": "code",
   "execution_count": 6,
   "metadata": {},
   "outputs": [],
   "source": [
    "from sklearn.feature_extraction.text import CountVectorizer\n",
    "from sklearn.metrics.pairwise import cosine_similarity\n",
    "import numpy as np\n",
    "\n",
    "\n",
    "df_comb =df"
   ]
  },
  {
   "cell_type": "code",
   "execution_count": 7,
   "metadata": {},
   "outputs": [],
   "source": [
    "cv=CountVectorizer()\n",
    "count_matrix = cv.fit_transform(df_comb['comb'])"
   ]
  },
  {
   "cell_type": "code",
   "execution_count": 8,
   "metadata": {},
   "outputs": [],
   "source": [
    "similarity =cosine_similarity(count_matrix)\n"
   ]
  },
  {
   "cell_type": "code",
   "execution_count": 9,
   "metadata": {},
   "outputs": [],
   "source": [
    "\n",
    "def recommend(movie):\n",
    "  i=df_comb.loc[df_comb['title']==movie].index[0]\n",
    "  List =list(enumerate(similarity[i]))\n",
    "  List_sorted =sorted(List,reverse=True,key=lambda x:x[1])\n",
    "  Final_list=List_sorted[1:15]        # 1:15 because 0 will be the movie itself because of 1 correlation.\n",
    "  recommend_list =[]\n",
    "  for i in range(len(Final_list)):\n",
    "    a=Final_list[i][0]\n",
    "    recommend_list.append(df_comb['title'][a])\n",
    "\n",
    "  return recommend_list"
   ]
  },
  {
   "cell_type": "code",
   "execution_count": 10,
   "metadata": {},
   "outputs": [
    {
     "name": "stdout",
     "output_type": "stream",
     "text": [
      "X-Men: Days of Future Past\n",
      "X-Men\n",
      "X2\n",
      "Dylan Dog: Dead of Night\n",
      "Fantastic Four\n",
      "Divergent\n",
      "Beyond the Sea\n",
      "Avatar\n",
      "Man of Steel\n",
      "Jupiter Ascending\n",
      "The Wolverine\n",
      "Superman\n",
      "Superman II\n",
      "Underworld: Evolution\n"
     ]
    }
   ],
   "source": [
    "my_movies = recommend(\"Superman Returns\")\n",
    "for m in my_movies:\n",
    "  print(m)"
   ]
  },
  {
   "cell_type": "code",
   "execution_count": 32,
   "metadata": {},
   "outputs": [
    {
     "name": "stdout",
     "output_type": "stream",
     "text": [
      "Batman v Superman: Dawn of Justice\n",
      "Justice League\n",
      "Star Trek Into Darkness\n",
      "Thor: The Dark World\n",
      "Thor\n",
      "Star Trek\n",
      "Vertical Limit\n",
      "Bohemian Rhapsody\n",
      "Star Trek Beyond\n",
      "Fantastic 4: Rise of the Silver Surfer\n",
      "Cirque du Freak: The Vampire's Assistant\n",
      "Jurassic World: Fallen Kingdom\n",
      "Puss in Boots\n",
      "The Princess Bride\n"
     ]
    }
   ],
   "source": [
    "my_movies = recommend(\"Wonder Woman\")\n",
    "for m in my_movies:\n",
    "  print(m)"
   ]
  },
  {
   "cell_type": "code",
   "execution_count": 33,
   "metadata": {},
   "outputs": [],
   "source": [
    "df.to_csv('final_movie_data.csv',index=False)"
   ]
  },
  {
   "cell_type": "code",
   "execution_count": null,
   "metadata": {},
   "outputs": [],
   "source": []
  }
 ],
 "metadata": {
  "kernelspec": {
   "display_name": "Python 3",
   "language": "python",
   "name": "python3"
  },
  "language_info": {
   "codemirror_mode": {
    "name": "ipython",
    "version": 3
   },
   "file_extension": ".py",
   "mimetype": "text/x-python",
   "name": "python",
   "nbconvert_exporter": "python",
   "pygments_lexer": "ipython3",
   "version": "3.7.4"
  }
 },
 "nbformat": 4,
 "nbformat_minor": 2
}
