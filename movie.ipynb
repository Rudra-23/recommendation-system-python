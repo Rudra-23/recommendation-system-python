{
  "nbformat": 4,
  "nbformat_minor": 0,
  "metadata": {
    "colab": {
      "name": "movie.ipynb",
      "provenance": []
    },
    "kernelspec": {
      "name": "python3",
      "display_name": "Python 3"
    }
  },
  "cells": [
    {
      "cell_type": "code",
      "metadata": {
        "id": "O_0JA4H6Wi2d",
        "colab_type": "code",
        "colab": {}
      },
      "source": [
        "import pandas as pd\n"
      ],
      "execution_count": 62,
      "outputs": []
    },
    {
      "source": [
        "## Reading movies and credits dataset from TMDB"
      ],
      "cell_type": "markdown",
      "metadata": {}
    },
    {
      "cell_type": "code",
      "metadata": {
        "id": "BG5dRxAtXR66",
        "colab_type": "code",
        "colab": {}
      },
      "source": [
        "credits =pd.read_csv('tmdb_5000_credits.csv')\n",
        "movies =pd.read_csv('tmdb_5000_movies.csv')"
      ],
      "execution_count": 63,
      "outputs": []
    },
    {
      "cell_type": "code",
      "metadata": {
        "id": "zZdr4bqwXnvS",
        "colab_type": "code",
        "colab": {
          "base_uri": "https://localhost:8080/",
          "height": 1000
        },
        "outputId": "97a4dce1-de2f-42f0-dbbf-4f1b82d0e56a"
      },
      "source": [
        "movies.head()"
      ],
      "execution_count": 64,
      "outputs": [
        {
          "output_type": "execute_result",
          "data": {
            "text/plain": "      budget                                             genres  \\\n0  237000000  [{\"id\": 28, \"name\": \"Action\"}, {\"id\": 12, \"nam...   \n1  300000000  [{\"id\": 12, \"name\": \"Adventure\"}, {\"id\": 14, \"...   \n2  245000000  [{\"id\": 28, \"name\": \"Action\"}, {\"id\": 12, \"nam...   \n3  250000000  [{\"id\": 28, \"name\": \"Action\"}, {\"id\": 80, \"nam...   \n4  260000000  [{\"id\": 28, \"name\": \"Action\"}, {\"id\": 12, \"nam...   \n\n                                       homepage      id  \\\n0                   http://www.avatarmovie.com/   19995   \n1  http://disney.go.com/disneypictures/pirates/     285   \n2   http://www.sonypictures.com/movies/spectre/  206647   \n3            http://www.thedarkknightrises.com/   49026   \n4          http://movies.disney.com/john-carter   49529   \n\n                                            keywords original_language  \\\n0  [{\"id\": 1463, \"name\": \"culture clash\"}, {\"id\":...                en   \n1  [{\"id\": 270, \"name\": \"ocean\"}, {\"id\": 726, \"na...                en   \n2  [{\"id\": 470, \"name\": \"spy\"}, {\"id\": 818, \"name...                en   \n3  [{\"id\": 849, \"name\": \"dc comics\"}, {\"id\": 853,...                en   \n4  [{\"id\": 818, \"name\": \"based on novel\"}, {\"id\":...                en   \n\n                             original_title  \\\n0                                    Avatar   \n1  Pirates of the Caribbean: At World's End   \n2                                   Spectre   \n3                     The Dark Knight Rises   \n4                               John Carter   \n\n                                            overview  popularity  \\\n0  In the 22nd century, a paraplegic Marine is di...  150.437577   \n1  Captain Barbossa, long believed to be dead, ha...  139.082615   \n2  A cryptic message from Bond’s past sends him o...  107.376788   \n3  Following the death of District Attorney Harve...  112.312950   \n4  John Carter is a war-weary, former military ca...   43.926995   \n\n                                production_companies  \\\n0  [{\"name\": \"Ingenious Film Partners\", \"id\": 289...   \n1  [{\"name\": \"Walt Disney Pictures\", \"id\": 2}, {\"...   \n2  [{\"name\": \"Columbia Pictures\", \"id\": 5}, {\"nam...   \n3  [{\"name\": \"Legendary Pictures\", \"id\": 923}, {\"...   \n4        [{\"name\": \"Walt Disney Pictures\", \"id\": 2}]   \n\n                                production_countries release_date     revenue  \\\n0  [{\"iso_3166_1\": \"US\", \"name\": \"United States o...   2009-12-10  2787965087   \n1  [{\"iso_3166_1\": \"US\", \"name\": \"United States o...   2007-05-19   961000000   \n2  [{\"iso_3166_1\": \"GB\", \"name\": \"United Kingdom\"...   2015-10-26   880674609   \n3  [{\"iso_3166_1\": \"US\", \"name\": \"United States o...   2012-07-16  1084939099   \n4  [{\"iso_3166_1\": \"US\", \"name\": \"United States o...   2012-03-07   284139100   \n\n   runtime                                   spoken_languages    status  \\\n0    162.0  [{\"iso_639_1\": \"en\", \"name\": \"English\"}, {\"iso...  Released   \n1    169.0           [{\"iso_639_1\": \"en\", \"name\": \"English\"}]  Released   \n2    148.0  [{\"iso_639_1\": \"fr\", \"name\": \"Fran\\u00e7ais\"},...  Released   \n3    165.0           [{\"iso_639_1\": \"en\", \"name\": \"English\"}]  Released   \n4    132.0           [{\"iso_639_1\": \"en\", \"name\": \"English\"}]  Released   \n\n                                          tagline  \\\n0                     Enter the World of Pandora.   \n1  At the end of the world, the adventure begins.   \n2                           A Plan No One Escapes   \n3                                 The Legend Ends   \n4            Lost in our world, found in another.   \n\n                                      title  vote_average  vote_count  \n0                                    Avatar           7.2       11800  \n1  Pirates of the Caribbean: At World's End           6.9        4500  \n2                                   Spectre           6.3        4466  \n3                     The Dark Knight Rises           7.6        9106  \n4                               John Carter           6.1        2124  ",
            "text/html": "<div>\n<style scoped>\n    .dataframe tbody tr th:only-of-type {\n        vertical-align: middle;\n    }\n\n    .dataframe tbody tr th {\n        vertical-align: top;\n    }\n\n    .dataframe thead th {\n        text-align: right;\n    }\n</style>\n<table border=\"1\" class=\"dataframe\">\n  <thead>\n    <tr style=\"text-align: right;\">\n      <th></th>\n      <th>budget</th>\n      <th>genres</th>\n      <th>homepage</th>\n      <th>id</th>\n      <th>keywords</th>\n      <th>original_language</th>\n      <th>original_title</th>\n      <th>overview</th>\n      <th>popularity</th>\n      <th>production_companies</th>\n      <th>production_countries</th>\n      <th>release_date</th>\n      <th>revenue</th>\n      <th>runtime</th>\n      <th>spoken_languages</th>\n      <th>status</th>\n      <th>tagline</th>\n      <th>title</th>\n      <th>vote_average</th>\n      <th>vote_count</th>\n    </tr>\n  </thead>\n  <tbody>\n    <tr>\n      <th>0</th>\n      <td>237000000</td>\n      <td>[{\"id\": 28, \"name\": \"Action\"}, {\"id\": 12, \"nam...</td>\n      <td>http://www.avatarmovie.com/</td>\n      <td>19995</td>\n      <td>[{\"id\": 1463, \"name\": \"culture clash\"}, {\"id\":...</td>\n      <td>en</td>\n      <td>Avatar</td>\n      <td>In the 22nd century, a paraplegic Marine is di...</td>\n      <td>150.437577</td>\n      <td>[{\"name\": \"Ingenious Film Partners\", \"id\": 289...</td>\n      <td>[{\"iso_3166_1\": \"US\", \"name\": \"United States o...</td>\n      <td>2009-12-10</td>\n      <td>2787965087</td>\n      <td>162.0</td>\n      <td>[{\"iso_639_1\": \"en\", \"name\": \"English\"}, {\"iso...</td>\n      <td>Released</td>\n      <td>Enter the World of Pandora.</td>\n      <td>Avatar</td>\n      <td>7.2</td>\n      <td>11800</td>\n    </tr>\n    <tr>\n      <th>1</th>\n      <td>300000000</td>\n      <td>[{\"id\": 12, \"name\": \"Adventure\"}, {\"id\": 14, \"...</td>\n      <td>http://disney.go.com/disneypictures/pirates/</td>\n      <td>285</td>\n      <td>[{\"id\": 270, \"name\": \"ocean\"}, {\"id\": 726, \"na...</td>\n      <td>en</td>\n      <td>Pirates of the Caribbean: At World's End</td>\n      <td>Captain Barbossa, long believed to be dead, ha...</td>\n      <td>139.082615</td>\n      <td>[{\"name\": \"Walt Disney Pictures\", \"id\": 2}, {\"...</td>\n      <td>[{\"iso_3166_1\": \"US\", \"name\": \"United States o...</td>\n      <td>2007-05-19</td>\n      <td>961000000</td>\n      <td>169.0</td>\n      <td>[{\"iso_639_1\": \"en\", \"name\": \"English\"}]</td>\n      <td>Released</td>\n      <td>At the end of the world, the adventure begins.</td>\n      <td>Pirates of the Caribbean: At World's End</td>\n      <td>6.9</td>\n      <td>4500</td>\n    </tr>\n    <tr>\n      <th>2</th>\n      <td>245000000</td>\n      <td>[{\"id\": 28, \"name\": \"Action\"}, {\"id\": 12, \"nam...</td>\n      <td>http://www.sonypictures.com/movies/spectre/</td>\n      <td>206647</td>\n      <td>[{\"id\": 470, \"name\": \"spy\"}, {\"id\": 818, \"name...</td>\n      <td>en</td>\n      <td>Spectre</td>\n      <td>A cryptic message from Bond’s past sends him o...</td>\n      <td>107.376788</td>\n      <td>[{\"name\": \"Columbia Pictures\", \"id\": 5}, {\"nam...</td>\n      <td>[{\"iso_3166_1\": \"GB\", \"name\": \"United Kingdom\"...</td>\n      <td>2015-10-26</td>\n      <td>880674609</td>\n      <td>148.0</td>\n      <td>[{\"iso_639_1\": \"fr\", \"name\": \"Fran\\u00e7ais\"},...</td>\n      <td>Released</td>\n      <td>A Plan No One Escapes</td>\n      <td>Spectre</td>\n      <td>6.3</td>\n      <td>4466</td>\n    </tr>\n    <tr>\n      <th>3</th>\n      <td>250000000</td>\n      <td>[{\"id\": 28, \"name\": \"Action\"}, {\"id\": 80, \"nam...</td>\n      <td>http://www.thedarkknightrises.com/</td>\n      <td>49026</td>\n      <td>[{\"id\": 849, \"name\": \"dc comics\"}, {\"id\": 853,...</td>\n      <td>en</td>\n      <td>The Dark Knight Rises</td>\n      <td>Following the death of District Attorney Harve...</td>\n      <td>112.312950</td>\n      <td>[{\"name\": \"Legendary Pictures\", \"id\": 923}, {\"...</td>\n      <td>[{\"iso_3166_1\": \"US\", \"name\": \"United States o...</td>\n      <td>2012-07-16</td>\n      <td>1084939099</td>\n      <td>165.0</td>\n      <td>[{\"iso_639_1\": \"en\", \"name\": \"English\"}]</td>\n      <td>Released</td>\n      <td>The Legend Ends</td>\n      <td>The Dark Knight Rises</td>\n      <td>7.6</td>\n      <td>9106</td>\n    </tr>\n    <tr>\n      <th>4</th>\n      <td>260000000</td>\n      <td>[{\"id\": 28, \"name\": \"Action\"}, {\"id\": 12, \"nam...</td>\n      <td>http://movies.disney.com/john-carter</td>\n      <td>49529</td>\n      <td>[{\"id\": 818, \"name\": \"based on novel\"}, {\"id\":...</td>\n      <td>en</td>\n      <td>John Carter</td>\n      <td>John Carter is a war-weary, former military ca...</td>\n      <td>43.926995</td>\n      <td>[{\"name\": \"Walt Disney Pictures\", \"id\": 2}]</td>\n      <td>[{\"iso_3166_1\": \"US\", \"name\": \"United States o...</td>\n      <td>2012-03-07</td>\n      <td>284139100</td>\n      <td>132.0</td>\n      <td>[{\"iso_639_1\": \"en\", \"name\": \"English\"}]</td>\n      <td>Released</td>\n      <td>Lost in our world, found in another.</td>\n      <td>John Carter</td>\n      <td>6.1</td>\n      <td>2124</td>\n    </tr>\n  </tbody>\n</table>\n</div>"
          },
          "metadata": {},
          "execution_count": 64
        }
      ]
    },
    {
      "cell_type": "code",
      "execution_count": 65,
      "metadata": {},
      "outputs": [
        {
          "output_type": "execute_result",
          "data": {
            "text/plain": "Index(['budget', 'genres', 'homepage', 'id', 'keywords', 'original_language',\n       'original_title', 'overview', 'popularity', 'production_companies',\n       'production_countries', 'release_date', 'revenue', 'runtime',\n       'spoken_languages', 'status', 'tagline', 'title', 'vote_average',\n       'vote_count'],\n      dtype='object')"
          },
          "metadata": {},
          "execution_count": 65
        }
      ],
      "source": [
        "movies.columns"
      ]
    },
    {
      "source": [
        "### Selecting the important columns that can be the important factors for recommendation"
      ],
      "cell_type": "markdown",
      "metadata": {}
    },
    {
      "cell_type": "code",
      "metadata": {
        "id": "VgE9FHBlbJnX",
        "colab_type": "code",
        "colab": {}
      },
      "source": [
        "df =movies[['genres','id','original_language','title','production_companies']].copy()"
      ],
      "execution_count": 66,
      "outputs": []
    },
    {
      "cell_type": "code",
      "metadata": {
        "id": "nSsDs-DHYTKE",
        "colab_type": "code",
        "colab": {
          "base_uri": "https://localhost:8080/",
          "height": 419
        },
        "outputId": "de687170-4315-4e44-ffc9-0ef143251c20"
      },
      "source": [
        "credits.head()"
      ],
      "execution_count": 67,
      "outputs": [
        {
          "output_type": "execute_result",
          "data": {
            "text/plain": "   movie_id                                     title  \\\n0     19995                                    Avatar   \n1       285  Pirates of the Caribbean: At World's End   \n2    206647                                   Spectre   \n3     49026                     The Dark Knight Rises   \n4     49529                               John Carter   \n\n                                                cast  \\\n0  [{\"cast_id\": 242, \"character\": \"Jake Sully\", \"...   \n1  [{\"cast_id\": 4, \"character\": \"Captain Jack Spa...   \n2  [{\"cast_id\": 1, \"character\": \"James Bond\", \"cr...   \n3  [{\"cast_id\": 2, \"character\": \"Bruce Wayne / Ba...   \n4  [{\"cast_id\": 5, \"character\": \"John Carter\", \"c...   \n\n                                                crew  \n0  [{\"credit_id\": \"52fe48009251416c750aca23\", \"de...  \n1  [{\"credit_id\": \"52fe4232c3a36847f800b579\", \"de...  \n2  [{\"credit_id\": \"54805967c3a36829b5002c41\", \"de...  \n3  [{\"credit_id\": \"52fe4781c3a36847f81398c3\", \"de...  \n4  [{\"credit_id\": \"52fe479ac3a36847f813eaa3\", \"de...  ",
            "text/html": "<div>\n<style scoped>\n    .dataframe tbody tr th:only-of-type {\n        vertical-align: middle;\n    }\n\n    .dataframe tbody tr th {\n        vertical-align: top;\n    }\n\n    .dataframe thead th {\n        text-align: right;\n    }\n</style>\n<table border=\"1\" class=\"dataframe\">\n  <thead>\n    <tr style=\"text-align: right;\">\n      <th></th>\n      <th>movie_id</th>\n      <th>title</th>\n      <th>cast</th>\n      <th>crew</th>\n    </tr>\n  </thead>\n  <tbody>\n    <tr>\n      <th>0</th>\n      <td>19995</td>\n      <td>Avatar</td>\n      <td>[{\"cast_id\": 242, \"character\": \"Jake Sully\", \"...</td>\n      <td>[{\"credit_id\": \"52fe48009251416c750aca23\", \"de...</td>\n    </tr>\n    <tr>\n      <th>1</th>\n      <td>285</td>\n      <td>Pirates of the Caribbean: At World's End</td>\n      <td>[{\"cast_id\": 4, \"character\": \"Captain Jack Spa...</td>\n      <td>[{\"credit_id\": \"52fe4232c3a36847f800b579\", \"de...</td>\n    </tr>\n    <tr>\n      <th>2</th>\n      <td>206647</td>\n      <td>Spectre</td>\n      <td>[{\"cast_id\": 1, \"character\": \"James Bond\", \"cr...</td>\n      <td>[{\"credit_id\": \"54805967c3a36829b5002c41\", \"de...</td>\n    </tr>\n    <tr>\n      <th>3</th>\n      <td>49026</td>\n      <td>The Dark Knight Rises</td>\n      <td>[{\"cast_id\": 2, \"character\": \"Bruce Wayne / Ba...</td>\n      <td>[{\"credit_id\": \"52fe4781c3a36847f81398c3\", \"de...</td>\n    </tr>\n    <tr>\n      <th>4</th>\n      <td>49529</td>\n      <td>John Carter</td>\n      <td>[{\"cast_id\": 5, \"character\": \"John Carter\", \"c...</td>\n      <td>[{\"credit_id\": \"52fe479ac3a36847f813eaa3\", \"de...</td>\n    </tr>\n  </tbody>\n</table>\n</div>"
          },
          "metadata": {},
          "execution_count": 67
        }
      ]
    },
    {
      "source": [
        "### we observe that production_companies,cast,crew and genre  are in JSON format\n",
        "#### checking the JSON string"
      ],
      "cell_type": "markdown",
      "metadata": {}
    },
    {
      "cell_type": "code",
      "metadata": {
        "id": "7DSQAiMlYhir",
        "colab_type": "code",
        "colab": {},
        "tags": []
      },
      "source": [
        "jstr=str(df['genres'][0])\n",
        "print(jstr)"
      ],
      "execution_count": 68,
      "outputs": [
        {
          "output_type": "stream",
          "name": "stdout",
          "text": "[{\"id\": 28, \"name\": \"Action\"}, {\"id\": 12, \"name\": \"Adventure\"}, {\"id\": 14, \"name\": \"Fantasy\"}, {\"id\": 878, \"name\": \"Science Fiction\"}]\n"
        }
      ]
    },
    {
      "source": [
        "### Now let's see the range of time for all the movies in our dataset.\n",
        "#### Looks like only till year 2017. we need to add latest movies afterwards."
      ],
      "cell_type": "markdown",
      "metadata": {}
    },
    {
      "cell_type": "code",
      "metadata": {
        "id": "oqtAMiQhkweM",
        "colab_type": "code",
        "colab": {
          "base_uri": "https://localhost:8080/",
          "height": 34
        },
        "outputId": "7954d541-b79f-45b6-b2aa-60834c1c2bb5"
      },
      "source": [
        "mx,mn =-9999,9999\n",
        "for i in movies.release_date:\n",
        "  if str(i)!='nan':\n",
        "    val=int(str(i).split('-')[0])\n",
        "  if mx <val:\n",
        "    mx=val\n",
        "  if mn>val:\n",
        "    mn=val\n",
        "mx,mn"
      ],
      "execution_count": 69,
      "outputs": [
        {
          "output_type": "execute_result",
          "data": {
            "text/plain": "(2017, 1916)"
          },
          "metadata": {},
          "execution_count": 69
        }
      ]
    },
    {
      "cell_type": "code",
      "metadata": {
        "id": "shXU8yGLdm4O",
        "colab_type": "code",
        "colab": {
          "base_uri": "https://localhost:8080/",
          "height": 85
        },
        "outputId": "896a1319-f081-4713-8c94-11d9f1f16eb5"
      },
      "source": [
        "import json \n",
        "final_json =json.loads(jstr)\n",
        "final_json"
      ],
      "execution_count": 70,
      "outputs": [
        {
          "output_type": "execute_result",
          "data": {
            "text/plain": "[{'id': 28, 'name': 'Action'},\n {'id': 12, 'name': 'Adventure'},\n {'id': 14, 'name': 'Fantasy'},\n {'id': 878, 'name': 'Science Fiction'}]"
          },
          "metadata": {},
          "execution_count": 70
        }
      ]
    },
    {
      "source": [
        "## Let extract some features and analyse each for our system. "
      ],
      "cell_type": "markdown",
      "metadata": {}
    },
    {
      "cell_type": "code",
      "metadata": {
        "id": "Y73Cmc-AeGAE",
        "colab_type": "code",
        "colab": {}
      },
      "source": [
        "genre_list=[]                 # list to store genres for each movie\n",
        "for st in df['genres']:\n",
        "  fst=json.loads(str(st))    # string to JSON format \n",
        "  x=\"\"\n",
        "  for i in fst:\n",
        "    x=x+i['name']+\" \"\n",
        "  if x!=\"\":\n",
        "    genre_list.append([x])\n",
        "  else:\n",
        "    genre_list.append(['nan'])         # nan for empty value\n"
      ],
      "execution_count": 71,
      "outputs": []
    },
    {
      "source": [
        "### Extract the genre's from all the movies \n",
        "#### They play a important role finding similarity b/w movies"
      ],
      "cell_type": "markdown",
      "metadata": {}
    },
    {
      "cell_type": "code",
      "execution_count": 72,
      "metadata": {},
      "outputs": [
        {
          "output_type": "execute_result",
          "data": {
            "text/plain": "[['Action Adventure Fantasy Science Fiction '],\n ['Adventure Fantasy Action '],\n ['Action Adventure Crime '],\n ['Action Crime Drama Thriller '],\n ['Action Adventure Science Fiction '],\n ['Fantasy Action Adventure '],\n ['Animation Family '],\n ['Action Adventure Science Fiction '],\n ['Adventure Fantasy Family '],\n ['Action Adventure Fantasy '],\n ['Adventure Fantasy Action Science Fiction '],\n ['Adventure Action Thriller Crime '],\n ['Adventure Fantasy Action '],\n ['Action Adventure Western '],\n ['Action Adventure Fantasy Science Fiction '],\n ['Adventure Family Fantasy '],\n ['Science Fiction Action Adventure '],\n ['Adventure Action Fantasy '],\n ['Action Comedy Science Fiction '],\n ['Action Adventure Fantasy ']]"
          },
          "metadata": {},
          "execution_count": 72
        }
      ],
      "source": [
        "genre_list[:20]"
      ]
    },
    {
      "cell_type": "code",
      "metadata": {
        "id": "LqOAor1T5HNg",
        "colab_type": "code",
        "colab": {}
      },
      "source": [
        "df['genre_list'] =pd.DataFrame(genre_list,columns=['genre_list'])"
      ],
      "execution_count": 73,
      "outputs": []
    },
    {
      "cell_type": "code",
      "metadata": {
        "id": "sMN-LRJm5g-l",
        "colab_type": "code",
        "colab": {
          "base_uri": "https://localhost:8080/",
          "height": 289
        },
        "outputId": "bcb9c1d3-82bd-447e-c22b-d33e1c4115f5"
      },
      "source": [
        "df.head()"
      ],
      "execution_count": 74,
      "outputs": [
        {
          "output_type": "execute_result",
          "data": {
            "text/plain": "                                              genres      id  \\\n0  [{\"id\": 28, \"name\": \"Action\"}, {\"id\": 12, \"nam...   19995   \n1  [{\"id\": 12, \"name\": \"Adventure\"}, {\"id\": 14, \"...     285   \n2  [{\"id\": 28, \"name\": \"Action\"}, {\"id\": 12, \"nam...  206647   \n3  [{\"id\": 28, \"name\": \"Action\"}, {\"id\": 80, \"nam...   49026   \n4  [{\"id\": 28, \"name\": \"Action\"}, {\"id\": 12, \"nam...   49529   \n\n  original_language                                     title  \\\n0                en                                    Avatar   \n1                en  Pirates of the Caribbean: At World's End   \n2                en                                   Spectre   \n3                en                     The Dark Knight Rises   \n4                en                               John Carter   \n\n                                production_companies  \\\n0  [{\"name\": \"Ingenious Film Partners\", \"id\": 289...   \n1  [{\"name\": \"Walt Disney Pictures\", \"id\": 2}, {\"...   \n2  [{\"name\": \"Columbia Pictures\", \"id\": 5}, {\"nam...   \n3  [{\"name\": \"Legendary Pictures\", \"id\": 923}, {\"...   \n4        [{\"name\": \"Walt Disney Pictures\", \"id\": 2}]   \n\n                                  genre_list  \n0  Action Adventure Fantasy Science Fiction   \n1                  Adventure Fantasy Action   \n2                    Action Adventure Crime   \n3               Action Crime Drama Thriller   \n4          Action Adventure Science Fiction   ",
            "text/html": "<div>\n<style scoped>\n    .dataframe tbody tr th:only-of-type {\n        vertical-align: middle;\n    }\n\n    .dataframe tbody tr th {\n        vertical-align: top;\n    }\n\n    .dataframe thead th {\n        text-align: right;\n    }\n</style>\n<table border=\"1\" class=\"dataframe\">\n  <thead>\n    <tr style=\"text-align: right;\">\n      <th></th>\n      <th>genres</th>\n      <th>id</th>\n      <th>original_language</th>\n      <th>title</th>\n      <th>production_companies</th>\n      <th>genre_list</th>\n    </tr>\n  </thead>\n  <tbody>\n    <tr>\n      <th>0</th>\n      <td>[{\"id\": 28, \"name\": \"Action\"}, {\"id\": 12, \"nam...</td>\n      <td>19995</td>\n      <td>en</td>\n      <td>Avatar</td>\n      <td>[{\"name\": \"Ingenious Film Partners\", \"id\": 289...</td>\n      <td>Action Adventure Fantasy Science Fiction</td>\n    </tr>\n    <tr>\n      <th>1</th>\n      <td>[{\"id\": 12, \"name\": \"Adventure\"}, {\"id\": 14, \"...</td>\n      <td>285</td>\n      <td>en</td>\n      <td>Pirates of the Caribbean: At World's End</td>\n      <td>[{\"name\": \"Walt Disney Pictures\", \"id\": 2}, {\"...</td>\n      <td>Adventure Fantasy Action</td>\n    </tr>\n    <tr>\n      <th>2</th>\n      <td>[{\"id\": 28, \"name\": \"Action\"}, {\"id\": 12, \"nam...</td>\n      <td>206647</td>\n      <td>en</td>\n      <td>Spectre</td>\n      <td>[{\"name\": \"Columbia Pictures\", \"id\": 5}, {\"nam...</td>\n      <td>Action Adventure Crime</td>\n    </tr>\n    <tr>\n      <th>3</th>\n      <td>[{\"id\": 28, \"name\": \"Action\"}, {\"id\": 80, \"nam...</td>\n      <td>49026</td>\n      <td>en</td>\n      <td>The Dark Knight Rises</td>\n      <td>[{\"name\": \"Legendary Pictures\", \"id\": 923}, {\"...</td>\n      <td>Action Crime Drama Thriller</td>\n    </tr>\n    <tr>\n      <th>4</th>\n      <td>[{\"id\": 28, \"name\": \"Action\"}, {\"id\": 12, \"nam...</td>\n      <td>49529</td>\n      <td>en</td>\n      <td>John Carter</td>\n      <td>[{\"name\": \"Walt Disney Pictures\", \"id\": 2}]</td>\n      <td>Action Adventure Science Fiction</td>\n    </tr>\n  </tbody>\n</table>\n</div>"
          },
          "metadata": {},
          "execution_count": 74
        }
      ]
    },
    {
      "cell_type": "code",
      "metadata": {
        "id": "SyP-Krqt4zxm",
        "colab_type": "code",
        "colab": {
          "base_uri": "https://localhost:8080/",
          "height": 34
        },
        "outputId": "59318af1-c215-4c86-a80c-ad1295a54374"
      },
      "source": [
        "len(genre_list)"
      ],
      "execution_count": 75,
      "outputs": [
        {
          "output_type": "execute_result",
          "data": {
            "text/plain": "4803"
          },
          "metadata": {},
          "execution_count": 75
        }
      ]
    },
    {
      "source": [
        "### Now for cast. \n",
        "#### Cast is selected because of following reason.\n",
        "1) generally same cast is for upcoming movies.\n",
        "2) movies filtered by main cast."
      ],
      "cell_type": "markdown",
      "metadata": {}
    },
    {
      "cell_type": "code",
      "metadata": {
        "id": "5aJACCyves1H",
        "colab_type": "code",
        "colab": {}
      },
      "source": [
        "cast_list=[]                    #  list for storing cast\n",
        "for st in credits['cast']:\n",
        "  fst=json.loads(str(st))      # string to JSON\n",
        "  x=\"\"\n",
        "  for i in fst[0:3]:\n",
        "    i['character']=\"\".join(i['character'].split(' '))    \n",
        "    x=x+i['character']+\" \"\n",
        "  if x!=\"\":\n",
        "    cast_list.append([x])\n",
        "  else:\n",
        "    cast_list.append(['nan'])\n"
      ],
      "execution_count": 76,
      "outputs": []
    },
    {
      "cell_type": "code",
      "metadata": {
        "id": "bpZVQcI56EVy",
        "colab_type": "code",
        "colab": {
          "base_uri": "https://localhost:8080/",
          "height": 1000
        },
        "outputId": "2a2ed384-b689-4f40-aed1-2342472c0c84"
      },
      "source": [
        "cast_list[:20]"
      ],
      "execution_count": 77,
      "outputs": [
        {
          "output_type": "execute_result",
          "data": {
            "text/plain": "[['JakeSully Neytiri Dr.GraceAugustine '],\n ['CaptainJackSparrow WillTurner ElizabethSwann '],\n ['JamesBond Blofeld Madeleine '],\n ['BruceWayne/Batman AlfredPennyworth JamesGordon '],\n ['JohnCarter DejahThoris Sola '],\n ['PeterParker/Spider-Man MaryJaneWatson HarryOsborn/NewGoblin '],\n ['FlynnRider(voice) Rapunzel(voice) MotherGothel(voice) '],\n ['TonyStark/IronMan ThorOdinson BruceBanner/Hulk '],\n ['HarryPotter RonWeasley HermioneGranger '],\n ['BruceWayne/Batman ClarkKent/Superman DianaPrince/WonderWoman '],\n ['Superman/ClarkKent LexLuthor LoisLane '],\n ['JamesBond CamilleMontes DominicGreene '],\n ['CaptainJackSparrow WillTurner ElizabethSwann '],\n ['Tonto JohnReid/TheLoneRanger ButchCavendish '],\n ['ClarkKent/Kal-El LoisLane GeneralZod '],\n ['PrinceCaspian PeterPevensie SusanPevensie '],\n ['TonyStark/IronMan SteveRogers/CaptainAmerica BruceBanner/TheHulk '],\n ['CaptainJackSparrow AngelicaTeach CaptainEdward\"Blackbeard\"Teach '],\n ['AgentJ AgentK YoungAgentK '],\n ['BilboBaggins Gandalf ThorinOakenshield ']]"
          },
          "metadata": {},
          "execution_count": 77
        }
      ]
    },
    {
      "cell_type": "code",
      "metadata": {
        "id": "PwhfdJMf8HUI",
        "colab_type": "code",
        "colab": {}
      },
      "source": [
        "df['cast_list'] =pd.DataFrame(cast_list,columns=['cast_list'])"
      ],
      "execution_count": 78,
      "outputs": []
    },
    {
      "cell_type": "code",
      "metadata": {
        "id": "P0DFcve_8Nfa",
        "colab_type": "code",
        "colab": {
          "base_uri": "https://localhost:8080/",
          "height": 289
        },
        "outputId": "b21ddc31-02d3-4fee-8aae-2cbd18612f3a"
      },
      "source": [
        "df.head()"
      ],
      "execution_count": 79,
      "outputs": [
        {
          "output_type": "execute_result",
          "data": {
            "text/plain": "                                              genres      id  \\\n0  [{\"id\": 28, \"name\": \"Action\"}, {\"id\": 12, \"nam...   19995   \n1  [{\"id\": 12, \"name\": \"Adventure\"}, {\"id\": 14, \"...     285   \n2  [{\"id\": 28, \"name\": \"Action\"}, {\"id\": 12, \"nam...  206647   \n3  [{\"id\": 28, \"name\": \"Action\"}, {\"id\": 80, \"nam...   49026   \n4  [{\"id\": 28, \"name\": \"Action\"}, {\"id\": 12, \"nam...   49529   \n\n  original_language                                     title  \\\n0                en                                    Avatar   \n1                en  Pirates of the Caribbean: At World's End   \n2                en                                   Spectre   \n3                en                     The Dark Knight Rises   \n4                en                               John Carter   \n\n                                production_companies  \\\n0  [{\"name\": \"Ingenious Film Partners\", \"id\": 289...   \n1  [{\"name\": \"Walt Disney Pictures\", \"id\": 2}, {\"...   \n2  [{\"name\": \"Columbia Pictures\", \"id\": 5}, {\"nam...   \n3  [{\"name\": \"Legendary Pictures\", \"id\": 923}, {\"...   \n4        [{\"name\": \"Walt Disney Pictures\", \"id\": 2}]   \n\n                                  genre_list  \\\n0  Action Adventure Fantasy Science Fiction    \n1                  Adventure Fantasy Action    \n2                    Action Adventure Crime    \n3               Action Crime Drama Thriller    \n4          Action Adventure Science Fiction    \n\n                                         cast_list  \n0             JakeSully Neytiri Dr.GraceAugustine   \n1    CaptainJackSparrow WillTurner ElizabethSwann   \n2                     JamesBond Blofeld Madeleine   \n3  BruceWayne/Batman AlfredPennyworth JamesGordon   \n4                     JohnCarter DejahThoris Sola   ",
            "text/html": "<div>\n<style scoped>\n    .dataframe tbody tr th:only-of-type {\n        vertical-align: middle;\n    }\n\n    .dataframe tbody tr th {\n        vertical-align: top;\n    }\n\n    .dataframe thead th {\n        text-align: right;\n    }\n</style>\n<table border=\"1\" class=\"dataframe\">\n  <thead>\n    <tr style=\"text-align: right;\">\n      <th></th>\n      <th>genres</th>\n      <th>id</th>\n      <th>original_language</th>\n      <th>title</th>\n      <th>production_companies</th>\n      <th>genre_list</th>\n      <th>cast_list</th>\n    </tr>\n  </thead>\n  <tbody>\n    <tr>\n      <th>0</th>\n      <td>[{\"id\": 28, \"name\": \"Action\"}, {\"id\": 12, \"nam...</td>\n      <td>19995</td>\n      <td>en</td>\n      <td>Avatar</td>\n      <td>[{\"name\": \"Ingenious Film Partners\", \"id\": 289...</td>\n      <td>Action Adventure Fantasy Science Fiction</td>\n      <td>JakeSully Neytiri Dr.GraceAugustine</td>\n    </tr>\n    <tr>\n      <th>1</th>\n      <td>[{\"id\": 12, \"name\": \"Adventure\"}, {\"id\": 14, \"...</td>\n      <td>285</td>\n      <td>en</td>\n      <td>Pirates of the Caribbean: At World's End</td>\n      <td>[{\"name\": \"Walt Disney Pictures\", \"id\": 2}, {\"...</td>\n      <td>Adventure Fantasy Action</td>\n      <td>CaptainJackSparrow WillTurner ElizabethSwann</td>\n    </tr>\n    <tr>\n      <th>2</th>\n      <td>[{\"id\": 28, \"name\": \"Action\"}, {\"id\": 12, \"nam...</td>\n      <td>206647</td>\n      <td>en</td>\n      <td>Spectre</td>\n      <td>[{\"name\": \"Columbia Pictures\", \"id\": 5}, {\"nam...</td>\n      <td>Action Adventure Crime</td>\n      <td>JamesBond Blofeld Madeleine</td>\n    </tr>\n    <tr>\n      <th>3</th>\n      <td>[{\"id\": 28, \"name\": \"Action\"}, {\"id\": 80, \"nam...</td>\n      <td>49026</td>\n      <td>en</td>\n      <td>The Dark Knight Rises</td>\n      <td>[{\"name\": \"Legendary Pictures\", \"id\": 923}, {\"...</td>\n      <td>Action Crime Drama Thriller</td>\n      <td>BruceWayne/Batman AlfredPennyworth JamesGordon</td>\n    </tr>\n    <tr>\n      <th>4</th>\n      <td>[{\"id\": 28, \"name\": \"Action\"}, {\"id\": 12, \"nam...</td>\n      <td>49529</td>\n      <td>en</td>\n      <td>John Carter</td>\n      <td>[{\"name\": \"Walt Disney Pictures\", \"id\": 2}]</td>\n      <td>Action Adventure Science Fiction</td>\n      <td>JohnCarter DejahThoris Sola</td>\n    </tr>\n  </tbody>\n</table>\n</div>"
          },
          "metadata": {},
          "execution_count": 79
        }
      ]
    },
    {
      "source": [
        "### Now for crew. \n",
        "#### Crew is selected because of following reason.\n",
        "1) generally same crew (director) are for movies with similar genre.\n",
        "2) movies filtered by main crew. (preferred)"
      ],
      "cell_type": "markdown",
      "metadata": {}
    },
    {
      "cell_type": "code",
      "metadata": {
        "id": "thkt9NXAgdvk",
        "colab_type": "code",
        "colab": {}
      },
      "source": [
        "crew_list=[]                          #list to store crew\n",
        "for st in credits['crew']:\n",
        "  fst=json.loads(str(st))\n",
        "  flag=0\n",
        "  for i in fst:\n",
        "    if i['job']=='Director':\n",
        "      crew_list.append([i['name']])     #getting director name\n",
        "      flag=1\n",
        "      break\n",
        "  if flag==0:\n",
        "    crew_list.append(['nan'])\n",
        "\n",
        "\n",
        "\n"
      ],
      "execution_count": 80,
      "outputs": []
    },
    {
      "cell_type": "code",
      "metadata": {
        "id": "J8pQv4aw9X2y",
        "colab_type": "code",
        "colab": {
          "base_uri": "https://localhost:8080/",
          "height": 1000
        },
        "outputId": "84c4e003-3a02-4249-a686-ef3e9bf4e486"
      },
      "source": [
        "crew_list[:20]                       # famous directors"
      ],
      "execution_count": 81,
      "outputs": [
        {
          "output_type": "execute_result",
          "data": {
            "text/plain": "[['James Cameron'],\n ['Gore Verbinski'],\n ['Sam Mendes'],\n ['Christopher Nolan'],\n ['Andrew Stanton'],\n ['Sam Raimi'],\n ['Byron Howard'],\n ['Joss Whedon'],\n ['David Yates'],\n ['Zack Snyder'],\n ['Bryan Singer'],\n ['Marc Forster'],\n ['Gore Verbinski'],\n ['Gore Verbinski'],\n ['Zack Snyder'],\n ['Andrew Adamson'],\n ['Joss Whedon'],\n ['Rob Marshall'],\n ['Barry Sonnenfeld'],\n ['Peter Jackson']]"
          },
          "metadata": {},
          "execution_count": 81
        }
      ]
    },
    {
      "cell_type": "code",
      "metadata": {
        "id": "vTLSYqU6-lf0",
        "colab_type": "code",
        "colab": {}
      },
      "source": [
        "df['crew_list'] =pd.DataFrame(crew_list,columns=['crew_list'])"
      ],
      "execution_count": 82,
      "outputs": []
    },
    {
      "cell_type": "code",
      "metadata": {
        "id": "BzU_BSrM-srf",
        "colab_type": "code",
        "colab": {
          "base_uri": "https://localhost:8080/",
          "height": 323
        },
        "outputId": "f48ffe06-d30d-4801-87e9-fa254982a131"
      },
      "source": [
        "df.head()"
      ],
      "execution_count": 83,
      "outputs": [
        {
          "output_type": "execute_result",
          "data": {
            "text/plain": "                                              genres      id  \\\n0  [{\"id\": 28, \"name\": \"Action\"}, {\"id\": 12, \"nam...   19995   \n1  [{\"id\": 12, \"name\": \"Adventure\"}, {\"id\": 14, \"...     285   \n2  [{\"id\": 28, \"name\": \"Action\"}, {\"id\": 12, \"nam...  206647   \n3  [{\"id\": 28, \"name\": \"Action\"}, {\"id\": 80, \"nam...   49026   \n4  [{\"id\": 28, \"name\": \"Action\"}, {\"id\": 12, \"nam...   49529   \n\n  original_language                                     title  \\\n0                en                                    Avatar   \n1                en  Pirates of the Caribbean: At World's End   \n2                en                                   Spectre   \n3                en                     The Dark Knight Rises   \n4                en                               John Carter   \n\n                                production_companies  \\\n0  [{\"name\": \"Ingenious Film Partners\", \"id\": 289...   \n1  [{\"name\": \"Walt Disney Pictures\", \"id\": 2}, {\"...   \n2  [{\"name\": \"Columbia Pictures\", \"id\": 5}, {\"nam...   \n3  [{\"name\": \"Legendary Pictures\", \"id\": 923}, {\"...   \n4        [{\"name\": \"Walt Disney Pictures\", \"id\": 2}]   \n\n                                  genre_list  \\\n0  Action Adventure Fantasy Science Fiction    \n1                  Adventure Fantasy Action    \n2                    Action Adventure Crime    \n3               Action Crime Drama Thriller    \n4          Action Adventure Science Fiction    \n\n                                         cast_list          crew_list  \n0             JakeSully Neytiri Dr.GraceAugustine       James Cameron  \n1    CaptainJackSparrow WillTurner ElizabethSwann      Gore Verbinski  \n2                     JamesBond Blofeld Madeleine          Sam Mendes  \n3  BruceWayne/Batman AlfredPennyworth JamesGordon   Christopher Nolan  \n4                     JohnCarter DejahThoris Sola      Andrew Stanton  ",
            "text/html": "<div>\n<style scoped>\n    .dataframe tbody tr th:only-of-type {\n        vertical-align: middle;\n    }\n\n    .dataframe tbody tr th {\n        vertical-align: top;\n    }\n\n    .dataframe thead th {\n        text-align: right;\n    }\n</style>\n<table border=\"1\" class=\"dataframe\">\n  <thead>\n    <tr style=\"text-align: right;\">\n      <th></th>\n      <th>genres</th>\n      <th>id</th>\n      <th>original_language</th>\n      <th>title</th>\n      <th>production_companies</th>\n      <th>genre_list</th>\n      <th>cast_list</th>\n      <th>crew_list</th>\n    </tr>\n  </thead>\n  <tbody>\n    <tr>\n      <th>0</th>\n      <td>[{\"id\": 28, \"name\": \"Action\"}, {\"id\": 12, \"nam...</td>\n      <td>19995</td>\n      <td>en</td>\n      <td>Avatar</td>\n      <td>[{\"name\": \"Ingenious Film Partners\", \"id\": 289...</td>\n      <td>Action Adventure Fantasy Science Fiction</td>\n      <td>JakeSully Neytiri Dr.GraceAugustine</td>\n      <td>James Cameron</td>\n    </tr>\n    <tr>\n      <th>1</th>\n      <td>[{\"id\": 12, \"name\": \"Adventure\"}, {\"id\": 14, \"...</td>\n      <td>285</td>\n      <td>en</td>\n      <td>Pirates of the Caribbean: At World's End</td>\n      <td>[{\"name\": \"Walt Disney Pictures\", \"id\": 2}, {\"...</td>\n      <td>Adventure Fantasy Action</td>\n      <td>CaptainJackSparrow WillTurner ElizabethSwann</td>\n      <td>Gore Verbinski</td>\n    </tr>\n    <tr>\n      <th>2</th>\n      <td>[{\"id\": 28, \"name\": \"Action\"}, {\"id\": 12, \"nam...</td>\n      <td>206647</td>\n      <td>en</td>\n      <td>Spectre</td>\n      <td>[{\"name\": \"Columbia Pictures\", \"id\": 5}, {\"nam...</td>\n      <td>Action Adventure Crime</td>\n      <td>JamesBond Blofeld Madeleine</td>\n      <td>Sam Mendes</td>\n    </tr>\n    <tr>\n      <th>3</th>\n      <td>[{\"id\": 28, \"name\": \"Action\"}, {\"id\": 80, \"nam...</td>\n      <td>49026</td>\n      <td>en</td>\n      <td>The Dark Knight Rises</td>\n      <td>[{\"name\": \"Legendary Pictures\", \"id\": 923}, {\"...</td>\n      <td>Action Crime Drama Thriller</td>\n      <td>BruceWayne/Batman AlfredPennyworth JamesGordon</td>\n      <td>Christopher Nolan</td>\n    </tr>\n    <tr>\n      <th>4</th>\n      <td>[{\"id\": 28, \"name\": \"Action\"}, {\"id\": 12, \"nam...</td>\n      <td>49529</td>\n      <td>en</td>\n      <td>John Carter</td>\n      <td>[{\"name\": \"Walt Disney Pictures\", \"id\": 2}]</td>\n      <td>Action Adventure Science Fiction</td>\n      <td>JohnCarter DejahThoris Sola</td>\n      <td>Andrew Stanton</td>\n    </tr>\n  </tbody>\n</table>\n</div>"
          },
          "metadata": {},
          "execution_count": 83
        }
      ]
    },
    {
      "cell_type": "code",
      "metadata": {
        "id": "2Ym-gE0G_Eam",
        "colab_type": "code",
        "colab": {
          "base_uri": "https://localhost:8080/",
          "height": 170
        },
        "outputId": "75ccd25d-72cc-4790-cf42-4decde9bc544"
      },
      "source": [
        "df.isnull().sum()            # no empty values\n"
      ],
      "execution_count": 84,
      "outputs": [
        {
          "output_type": "execute_result",
          "data": {
            "text/plain": "genres                  0\nid                      0\noriginal_language       0\ntitle                   0\nproduction_companies    0\ngenre_list              0\ncast_list               0\ncrew_list               0\ndtype: int64"
          },
          "metadata": {},
          "execution_count": 84
        }
      ]
    },
    {
      "source": [
        "### Now for companies.\n",
        "#### Companies are selected because of following reason.\n",
        "1) Mostly same production company will work for future movies and directors"
      ],
      "cell_type": "markdown",
      "metadata": {}
    },
    {
      "cell_type": "code",
      "metadata": {
        "id": "FUvKp9TQhCQj",
        "colab_type": "code",
        "colab": {}
      },
      "source": [
        "comp_list=[]           # comp list\n",
        "for st in movies['production_companies']:\n",
        "  fst=json.loads(str(st))\n",
        "  x=\"\"\n",
        "  for i in fst:\n",
        "    if i['name']:\n",
        "      x=x+\"\".join(i['name'].split(' '))+\" \"\n",
        "  comp_list.append([x])\n",
        "\n",
        "    \n"
      ],
      "execution_count": 85,
      "outputs": []
    },
    {
      "cell_type": "code",
      "metadata": {
        "id": "aJEomUWGj0WO",
        "colab_type": "code",
        "colab": {
          "base_uri": "https://localhost:8080/",
          "height": 1000
        },
        "outputId": "6f142a99-6528-4ec7-b089-64b4fc1f7de3"
      },
      "source": [
        "comp_list[:20]"
      ],
      "execution_count": 86,
      "outputs": [
        {
          "output_type": "execute_result",
          "data": {
            "text/plain": "[['IngeniousFilmPartners TwentiethCenturyFoxFilmCorporation DuneEntertainment LightstormEntertainment '],\n ['WaltDisneyPictures JerryBruckheimerFilms SecondMateProductions '],\n ['ColumbiaPictures Danjaq B24 '],\n ['LegendaryPictures WarnerBros. DCEntertainment Syncopy '],\n ['WaltDisneyPictures '],\n ['ColumbiaPictures LauraZiskinProductions MarvelEnterprises '],\n ['WaltDisneyPictures WaltDisneyAnimationStudios '],\n ['MarvelStudios PrimeFocus RevolutionSunStudios '],\n ['WarnerBros. HeydayFilms '],\n ['DCComics AtlasEntertainment WarnerBros. DCEntertainment Cruel&UnusualFilms RatPac-DuneEntertainment '],\n ['DCComics LegendaryPictures WarnerBros. BadHatHarryProductions '],\n ['EonProductions '],\n ['WaltDisneyPictures JerryBruckheimerFilms SecondMateProductions '],\n ['WaltDisneyPictures JerryBruckheimerFilms InfinitumNihil SilverBulletProductions(II) BlindWinkProductions ClassicMedia '],\n ['LegendaryPictures WarnerBros. DCEntertainment Syncopy CruelandUnusualFilms '],\n ['WaltDisney WaldenMedia StillkingFilms OzumiFilms Propeler SilverbellFilms RevolutionSunStudios '],\n ['ParamountPictures MarvelStudios '],\n ['WaltDisneyPictures JerryBruckheimerFilms MovingPictureCompany(MPC) '],\n ['AmblinEntertainment MediaMagikEntertainment ImagenationAbuDhabiFZ HemisphereMediaCapital Parkes/MacDonaldProductions '],\n ['WingNutFilms NewLineCinema WarnerBros.Pictures 3Foot7 Metro-Goldwyn-Mayer(MGM) ']]"
          },
          "metadata": {},
          "execution_count": 86
        }
      ]
    },
    {
      "cell_type": "code",
      "metadata": {
        "id": "rDOTbyjzA9VV",
        "colab_type": "code",
        "colab": {}
      },
      "source": [
        "df['comp_list'] =pd.DataFrame(comp_list,columns=['comp_list'])"
      ],
      "execution_count": 87,
      "outputs": []
    },
    {
      "cell_type": "code",
      "metadata": {
        "id": "KCTL5OCwBmm7",
        "colab_type": "code",
        "colab": {
          "base_uri": "https://localhost:8080/",
          "height": 374
        },
        "outputId": "faccf48c-74ed-42af-d2fb-7983bd2d0d2d"
      },
      "source": [
        "df.head()"
      ],
      "execution_count": 88,
      "outputs": [
        {
          "output_type": "execute_result",
          "data": {
            "text/plain": "                                              genres      id  \\\n0  [{\"id\": 28, \"name\": \"Action\"}, {\"id\": 12, \"nam...   19995   \n1  [{\"id\": 12, \"name\": \"Adventure\"}, {\"id\": 14, \"...     285   \n2  [{\"id\": 28, \"name\": \"Action\"}, {\"id\": 12, \"nam...  206647   \n3  [{\"id\": 28, \"name\": \"Action\"}, {\"id\": 80, \"nam...   49026   \n4  [{\"id\": 28, \"name\": \"Action\"}, {\"id\": 12, \"nam...   49529   \n\n  original_language                                     title  \\\n0                en                                    Avatar   \n1                en  Pirates of the Caribbean: At World's End   \n2                en                                   Spectre   \n3                en                     The Dark Knight Rises   \n4                en                               John Carter   \n\n                                production_companies  \\\n0  [{\"name\": \"Ingenious Film Partners\", \"id\": 289...   \n1  [{\"name\": \"Walt Disney Pictures\", \"id\": 2}, {\"...   \n2  [{\"name\": \"Columbia Pictures\", \"id\": 5}, {\"nam...   \n3  [{\"name\": \"Legendary Pictures\", \"id\": 923}, {\"...   \n4        [{\"name\": \"Walt Disney Pictures\", \"id\": 2}]   \n\n                                  genre_list  \\\n0  Action Adventure Fantasy Science Fiction    \n1                  Adventure Fantasy Action    \n2                    Action Adventure Crime    \n3               Action Crime Drama Thriller    \n4          Action Adventure Science Fiction    \n\n                                         cast_list          crew_list  \\\n0             JakeSully Neytiri Dr.GraceAugustine       James Cameron   \n1    CaptainJackSparrow WillTurner ElizabethSwann      Gore Verbinski   \n2                     JamesBond Blofeld Madeleine          Sam Mendes   \n3  BruceWayne/Batman AlfredPennyworth JamesGordon   Christopher Nolan   \n4                     JohnCarter DejahThoris Sola      Andrew Stanton   \n\n                                           comp_list  \n0  IngeniousFilmPartners TwentiethCenturyFoxFilmC...  \n1  WaltDisneyPictures JerryBruckheimerFilms Secon...  \n2                       ColumbiaPictures Danjaq B24   \n3  LegendaryPictures WarnerBros. DCEntertainment ...  \n4                                WaltDisneyPictures   ",
            "text/html": "<div>\n<style scoped>\n    .dataframe tbody tr th:only-of-type {\n        vertical-align: middle;\n    }\n\n    .dataframe tbody tr th {\n        vertical-align: top;\n    }\n\n    .dataframe thead th {\n        text-align: right;\n    }\n</style>\n<table border=\"1\" class=\"dataframe\">\n  <thead>\n    <tr style=\"text-align: right;\">\n      <th></th>\n      <th>genres</th>\n      <th>id</th>\n      <th>original_language</th>\n      <th>title</th>\n      <th>production_companies</th>\n      <th>genre_list</th>\n      <th>cast_list</th>\n      <th>crew_list</th>\n      <th>comp_list</th>\n    </tr>\n  </thead>\n  <tbody>\n    <tr>\n      <th>0</th>\n      <td>[{\"id\": 28, \"name\": \"Action\"}, {\"id\": 12, \"nam...</td>\n      <td>19995</td>\n      <td>en</td>\n      <td>Avatar</td>\n      <td>[{\"name\": \"Ingenious Film Partners\", \"id\": 289...</td>\n      <td>Action Adventure Fantasy Science Fiction</td>\n      <td>JakeSully Neytiri Dr.GraceAugustine</td>\n      <td>James Cameron</td>\n      <td>IngeniousFilmPartners TwentiethCenturyFoxFilmC...</td>\n    </tr>\n    <tr>\n      <th>1</th>\n      <td>[{\"id\": 12, \"name\": \"Adventure\"}, {\"id\": 14, \"...</td>\n      <td>285</td>\n      <td>en</td>\n      <td>Pirates of the Caribbean: At World's End</td>\n      <td>[{\"name\": \"Walt Disney Pictures\", \"id\": 2}, {\"...</td>\n      <td>Adventure Fantasy Action</td>\n      <td>CaptainJackSparrow WillTurner ElizabethSwann</td>\n      <td>Gore Verbinski</td>\n      <td>WaltDisneyPictures JerryBruckheimerFilms Secon...</td>\n    </tr>\n    <tr>\n      <th>2</th>\n      <td>[{\"id\": 28, \"name\": \"Action\"}, {\"id\": 12, \"nam...</td>\n      <td>206647</td>\n      <td>en</td>\n      <td>Spectre</td>\n      <td>[{\"name\": \"Columbia Pictures\", \"id\": 5}, {\"nam...</td>\n      <td>Action Adventure Crime</td>\n      <td>JamesBond Blofeld Madeleine</td>\n      <td>Sam Mendes</td>\n      <td>ColumbiaPictures Danjaq B24</td>\n    </tr>\n    <tr>\n      <th>3</th>\n      <td>[{\"id\": 28, \"name\": \"Action\"}, {\"id\": 80, \"nam...</td>\n      <td>49026</td>\n      <td>en</td>\n      <td>The Dark Knight Rises</td>\n      <td>[{\"name\": \"Legendary Pictures\", \"id\": 923}, {\"...</td>\n      <td>Action Crime Drama Thriller</td>\n      <td>BruceWayne/Batman AlfredPennyworth JamesGordon</td>\n      <td>Christopher Nolan</td>\n      <td>LegendaryPictures WarnerBros. DCEntertainment ...</td>\n    </tr>\n    <tr>\n      <th>4</th>\n      <td>[{\"id\": 28, \"name\": \"Action\"}, {\"id\": 12, \"nam...</td>\n      <td>49529</td>\n      <td>en</td>\n      <td>John Carter</td>\n      <td>[{\"name\": \"Walt Disney Pictures\", \"id\": 2}]</td>\n      <td>Action Adventure Science Fiction</td>\n      <td>JohnCarter DejahThoris Sola</td>\n      <td>Andrew Stanton</td>\n      <td>WaltDisneyPictures</td>\n    </tr>\n  </tbody>\n</table>\n</div>"
          },
          "metadata": {},
          "execution_count": 88
        }
      ]
    },
    {
      "source": [
        "#### dropping JSON data"
      ],
      "cell_type": "markdown",
      "metadata": {}
    },
    {
      "cell_type": "code",
      "metadata": {
        "id": "TclTTWnlBoan",
        "colab_type": "code",
        "colab": {}
      },
      "source": [
        "df.drop(['genres','production_companies'],inplace=True,axis=1)"
      ],
      "execution_count": 89,
      "outputs": []
    },
    {
      "cell_type": "code",
      "metadata": {
        "id": "IkW-7zv0B3Cb",
        "colab_type": "code",
        "colab": {
          "base_uri": "https://localhost:8080/",
          "height": 289
        },
        "outputId": "ca6d2dde-78c0-4738-b15a-44478009bc77"
      },
      "source": [
        "df.head()\n"
      ],
      "execution_count": 90,
      "outputs": [
        {
          "output_type": "execute_result",
          "data": {
            "text/plain": "       id original_language                                     title  \\\n0   19995                en                                    Avatar   \n1     285                en  Pirates of the Caribbean: At World's End   \n2  206647                en                                   Spectre   \n3   49026                en                     The Dark Knight Rises   \n4   49529                en                               John Carter   \n\n                                  genre_list  \\\n0  Action Adventure Fantasy Science Fiction    \n1                  Adventure Fantasy Action    \n2                    Action Adventure Crime    \n3               Action Crime Drama Thriller    \n4          Action Adventure Science Fiction    \n\n                                         cast_list          crew_list  \\\n0             JakeSully Neytiri Dr.GraceAugustine       James Cameron   \n1    CaptainJackSparrow WillTurner ElizabethSwann      Gore Verbinski   \n2                     JamesBond Blofeld Madeleine          Sam Mendes   \n3  BruceWayne/Batman AlfredPennyworth JamesGordon   Christopher Nolan   \n4                     JohnCarter DejahThoris Sola      Andrew Stanton   \n\n                                           comp_list  \n0  IngeniousFilmPartners TwentiethCenturyFoxFilmC...  \n1  WaltDisneyPictures JerryBruckheimerFilms Secon...  \n2                       ColumbiaPictures Danjaq B24   \n3  LegendaryPictures WarnerBros. DCEntertainment ...  \n4                                WaltDisneyPictures   ",
            "text/html": "<div>\n<style scoped>\n    .dataframe tbody tr th:only-of-type {\n        vertical-align: middle;\n    }\n\n    .dataframe tbody tr th {\n        vertical-align: top;\n    }\n\n    .dataframe thead th {\n        text-align: right;\n    }\n</style>\n<table border=\"1\" class=\"dataframe\">\n  <thead>\n    <tr style=\"text-align: right;\">\n      <th></th>\n      <th>id</th>\n      <th>original_language</th>\n      <th>title</th>\n      <th>genre_list</th>\n      <th>cast_list</th>\n      <th>crew_list</th>\n      <th>comp_list</th>\n    </tr>\n  </thead>\n  <tbody>\n    <tr>\n      <th>0</th>\n      <td>19995</td>\n      <td>en</td>\n      <td>Avatar</td>\n      <td>Action Adventure Fantasy Science Fiction</td>\n      <td>JakeSully Neytiri Dr.GraceAugustine</td>\n      <td>James Cameron</td>\n      <td>IngeniousFilmPartners TwentiethCenturyFoxFilmC...</td>\n    </tr>\n    <tr>\n      <th>1</th>\n      <td>285</td>\n      <td>en</td>\n      <td>Pirates of the Caribbean: At World's End</td>\n      <td>Adventure Fantasy Action</td>\n      <td>CaptainJackSparrow WillTurner ElizabethSwann</td>\n      <td>Gore Verbinski</td>\n      <td>WaltDisneyPictures JerryBruckheimerFilms Secon...</td>\n    </tr>\n    <tr>\n      <th>2</th>\n      <td>206647</td>\n      <td>en</td>\n      <td>Spectre</td>\n      <td>Action Adventure Crime</td>\n      <td>JamesBond Blofeld Madeleine</td>\n      <td>Sam Mendes</td>\n      <td>ColumbiaPictures Danjaq B24</td>\n    </tr>\n    <tr>\n      <th>3</th>\n      <td>49026</td>\n      <td>en</td>\n      <td>The Dark Knight Rises</td>\n      <td>Action Crime Drama Thriller</td>\n      <td>BruceWayne/Batman AlfredPennyworth JamesGordon</td>\n      <td>Christopher Nolan</td>\n      <td>LegendaryPictures WarnerBros. DCEntertainment ...</td>\n    </tr>\n    <tr>\n      <th>4</th>\n      <td>49529</td>\n      <td>en</td>\n      <td>John Carter</td>\n      <td>Action Adventure Science Fiction</td>\n      <td>JohnCarter DejahThoris Sola</td>\n      <td>Andrew Stanton</td>\n      <td>WaltDisneyPictures</td>\n    </tr>\n  </tbody>\n</table>\n</div>"
          },
          "metadata": {},
          "execution_count": 90
        }
      ]
    },
    {
      "cell_type": "code",
      "metadata": {
        "id": "CICne6iFB4f0",
        "colab_type": "code",
        "colab": {}
      },
      "source": [
        "df.to_csv('first.csv',index=False)"
      ],
      "execution_count": 91,
      "outputs": []
    },
    {
      "cell_type": "code",
      "metadata": {
        "id": "pZdhIMrDHR9G",
        "colab_type": "code",
        "colab": {}
      },
      "source": [
        "df_comb =df.copy()"
      ],
      "execution_count": 92,
      "outputs": []
    },
    {
      "cell_type": "code",
      "metadata": {
        "id": "kXW0V6JmHZ7a",
        "colab_type": "code",
        "colab": {
          "base_uri": "https://localhost:8080/",
          "height": 725
        },
        "outputId": "cdd9ea66-9591-421d-838b-0ba0340a22b6"
      },
      "source": [
        "df_comb"
      ],
      "execution_count": 93,
      "outputs": [
        {
          "output_type": "execute_result",
          "data": {
            "text/plain": "          id original_language                                     title  \\\n0      19995                en                                    Avatar   \n1        285                en  Pirates of the Caribbean: At World's End   \n2     206647                en                                   Spectre   \n3      49026                en                     The Dark Knight Rises   \n4      49529                en                               John Carter   \n...      ...               ...                                       ...   \n4798    9367                es                               El Mariachi   \n4799   72766                en                                 Newlyweds   \n4800  231617                en                 Signed, Sealed, Delivered   \n4801  126186                en                          Shanghai Calling   \n4802   25975                en                         My Date with Drew   \n\n                                     genre_list  \\\n0     Action Adventure Fantasy Science Fiction    \n1                     Adventure Fantasy Action    \n2                       Action Adventure Crime    \n3                  Action Crime Drama Thriller    \n4             Action Adventure Science Fiction    \n...                                         ...   \n4798                     Action Crime Thriller    \n4799                            Comedy Romance    \n4800             Comedy Drama Romance TV Movie    \n4801                                        nan   \n4802                               Documentary    \n\n                                            cast_list          crew_list  \\\n0                JakeSully Neytiri Dr.GraceAugustine       James Cameron   \n1       CaptainJackSparrow WillTurner ElizabethSwann      Gore Verbinski   \n2                        JamesBond Blofeld Madeleine          Sam Mendes   \n3     BruceWayne/Batman AlfredPennyworth JamesGordon   Christopher Nolan   \n4                        JohnCarter DejahThoris Sola      Andrew Stanton   \n...                                               ...                ...   \n4798               ElMariachi Bigotón Mauricio(Moco)    Robert Rodriguez   \n4799                              Buzzy Linda Marsha        Edward Burns   \n4800        OliverO’Toole ShaneMcInerney RitaHaywith         Scott Smith   \n4801                               Sam Amanda Donald         Daniel Hsia   \n4802                         Herself Himself Himself    Brian Herzlinger   \n\n                                              comp_list  \n0     IngeniousFilmPartners TwentiethCenturyFoxFilmC...  \n1     WaltDisneyPictures JerryBruckheimerFilms Secon...  \n2                          ColumbiaPictures Danjaq B24   \n3     LegendaryPictures WarnerBros. DCEntertainment ...  \n4                                   WaltDisneyPictures   \n...                                                 ...  \n4798                                  ColumbiaPictures   \n4799                                                     \n4800  FrontStreetPictures MuseEntertainmentEnterprises   \n4801                                                     \n4802             rustybearentertainment luckycrowfilms   \n\n[4803 rows x 7 columns]",
            "text/html": "<div>\n<style scoped>\n    .dataframe tbody tr th:only-of-type {\n        vertical-align: middle;\n    }\n\n    .dataframe tbody tr th {\n        vertical-align: top;\n    }\n\n    .dataframe thead th {\n        text-align: right;\n    }\n</style>\n<table border=\"1\" class=\"dataframe\">\n  <thead>\n    <tr style=\"text-align: right;\">\n      <th></th>\n      <th>id</th>\n      <th>original_language</th>\n      <th>title</th>\n      <th>genre_list</th>\n      <th>cast_list</th>\n      <th>crew_list</th>\n      <th>comp_list</th>\n    </tr>\n  </thead>\n  <tbody>\n    <tr>\n      <th>0</th>\n      <td>19995</td>\n      <td>en</td>\n      <td>Avatar</td>\n      <td>Action Adventure Fantasy Science Fiction</td>\n      <td>JakeSully Neytiri Dr.GraceAugustine</td>\n      <td>James Cameron</td>\n      <td>IngeniousFilmPartners TwentiethCenturyFoxFilmC...</td>\n    </tr>\n    <tr>\n      <th>1</th>\n      <td>285</td>\n      <td>en</td>\n      <td>Pirates of the Caribbean: At World's End</td>\n      <td>Adventure Fantasy Action</td>\n      <td>CaptainJackSparrow WillTurner ElizabethSwann</td>\n      <td>Gore Verbinski</td>\n      <td>WaltDisneyPictures JerryBruckheimerFilms Secon...</td>\n    </tr>\n    <tr>\n      <th>2</th>\n      <td>206647</td>\n      <td>en</td>\n      <td>Spectre</td>\n      <td>Action Adventure Crime</td>\n      <td>JamesBond Blofeld Madeleine</td>\n      <td>Sam Mendes</td>\n      <td>ColumbiaPictures Danjaq B24</td>\n    </tr>\n    <tr>\n      <th>3</th>\n      <td>49026</td>\n      <td>en</td>\n      <td>The Dark Knight Rises</td>\n      <td>Action Crime Drama Thriller</td>\n      <td>BruceWayne/Batman AlfredPennyworth JamesGordon</td>\n      <td>Christopher Nolan</td>\n      <td>LegendaryPictures WarnerBros. DCEntertainment ...</td>\n    </tr>\n    <tr>\n      <th>4</th>\n      <td>49529</td>\n      <td>en</td>\n      <td>John Carter</td>\n      <td>Action Adventure Science Fiction</td>\n      <td>JohnCarter DejahThoris Sola</td>\n      <td>Andrew Stanton</td>\n      <td>WaltDisneyPictures</td>\n    </tr>\n    <tr>\n      <th>...</th>\n      <td>...</td>\n      <td>...</td>\n      <td>...</td>\n      <td>...</td>\n      <td>...</td>\n      <td>...</td>\n      <td>...</td>\n    </tr>\n    <tr>\n      <th>4798</th>\n      <td>9367</td>\n      <td>es</td>\n      <td>El Mariachi</td>\n      <td>Action Crime Thriller</td>\n      <td>ElMariachi Bigotón Mauricio(Moco)</td>\n      <td>Robert Rodriguez</td>\n      <td>ColumbiaPictures</td>\n    </tr>\n    <tr>\n      <th>4799</th>\n      <td>72766</td>\n      <td>en</td>\n      <td>Newlyweds</td>\n      <td>Comedy Romance</td>\n      <td>Buzzy Linda Marsha</td>\n      <td>Edward Burns</td>\n      <td></td>\n    </tr>\n    <tr>\n      <th>4800</th>\n      <td>231617</td>\n      <td>en</td>\n      <td>Signed, Sealed, Delivered</td>\n      <td>Comedy Drama Romance TV Movie</td>\n      <td>OliverO’Toole ShaneMcInerney RitaHaywith</td>\n      <td>Scott Smith</td>\n      <td>FrontStreetPictures MuseEntertainmentEnterprises</td>\n    </tr>\n    <tr>\n      <th>4801</th>\n      <td>126186</td>\n      <td>en</td>\n      <td>Shanghai Calling</td>\n      <td>nan</td>\n      <td>Sam Amanda Donald</td>\n      <td>Daniel Hsia</td>\n      <td></td>\n    </tr>\n    <tr>\n      <th>4802</th>\n      <td>25975</td>\n      <td>en</td>\n      <td>My Date with Drew</td>\n      <td>Documentary</td>\n      <td>Herself Himself Himself</td>\n      <td>Brian Herzlinger</td>\n      <td>rustybearentertainment luckycrowfilms</td>\n    </tr>\n  </tbody>\n</table>\n<p>4803 rows × 7 columns</p>\n</div>"
          },
          "metadata": {},
          "execution_count": 93
        }
      ]
    },
    {
      "source": [
        "### Combining columns to use a single string. It will help to produce vector easily further for similarity"
      ],
      "cell_type": "markdown",
      "metadata": {}
    },
    {
      "cell_type": "code",
      "metadata": {
        "id": "3dwaHAagHbm3",
        "colab_type": "code",
        "colab": {}
      },
      "source": [
        "df_comb['comb'] =df_comb['genre_list']+df_comb['cast_list']+df_comb['crew_list']+df_comb['comp_list']+df_comb['original_language']"
      ],
      "execution_count": 94,
      "outputs": []
    },
    {
      "source": [
        "## We will use WORD to VEC for converting words to vectors and the applying cosine similarity"
      ],
      "cell_type": "markdown",
      "metadata": {}
    },
    {
      "cell_type": "code",
      "metadata": {
        "id": "k1OVdhP_H1hi",
        "colab_type": "code",
        "colab": {}
      },
      "source": [
        "from sklearn.feature_extraction.text import CountVectorizer\n",
        "from sklearn.metrics.pairwise import cosine_similarity\n",
        "import numpy as np\n"
      ],
      "execution_count": 95,
      "outputs": []
    },
    {
      "cell_type": "code",
      "metadata": {
        "id": "or7cLaoZH3uV",
        "colab_type": "code",
        "colab": {}
      },
      "source": [
        "cv=CountVectorizer()\n",
        "count_matrix = cv.fit_transform(df_comb['comb'])"
      ],
      "execution_count": 96,
      "outputs": []
    },
    {
      "cell_type": "code",
      "metadata": {
        "id": "cZZMBT41LNb6",
        "colab_type": "code",
        "colab": {}
      },
      "source": [
        "similarity =cosine_similarity(count_matrix)"
      ],
      "execution_count": 97,
      "outputs": []
    },
    {
      "source": [
        "## Finally Let's built a function for recommending movies using similarity"
      ],
      "cell_type": "markdown",
      "metadata": {}
    },
    {
      "cell_type": "code",
      "metadata": {
        "id": "9s0y7RWDMtr5",
        "colab_type": "code",
        "colab": {}
      },
      "source": [
        "def recommend(movie):\n",
        "  i=df_comb.loc[df_comb['title']==movie].index[0]\n",
        "  List =list(enumerate(similarity[i]))\n",
        "  List_sorted =sorted(List,reverse=True,key=lambda x:x[1])\n",
        "  Final_list=List_sorted[1:15]        # 1:15 because 0 will be the movie itself because of 1 correlation.\n",
        "  recommend_list =[]\n",
        "  for i in range(len(Final_list)):\n",
        "    a=Final_list[i][0]\n",
        "    recommend_list.append(df_comb['title'][a])\n",
        "\n",
        "  return recommend_list\n"
      ],
      "execution_count": 98,
      "outputs": []
    },
    {
      "source": [
        "#### Let's  see for superman Returns "
      ],
      "cell_type": "markdown",
      "metadata": {}
    },
    {
      "cell_type": "code",
      "metadata": {
        "id": "K4ihaXCAQ5Se",
        "colab_type": "code",
        "colab": {
          "base_uri": "https://localhost:8080/",
          "height": 255
        },
        "outputId": "64e0db0f-f053-4006-948d-48acb8930920",
        "tags": []
      },
      "source": [
        "my_movies = recommend(\"Superman Returns\")\n",
        "for m in my_movies:\n",
        "  print(m)"
      ],
      "execution_count": 99,
      "outputs": [
        {
          "output_type": "stream",
          "name": "stdout",
          "text": "Superman IV: The Quest for Peace\nSuperman II\nSuperman\nMan of Steel\nSuperman III\nJack the Giant Slayer\nJupiter Ascending\nThe Time Machine\nBeastmaster 2: Through the Portal of Time\nMad Max: Fury Road\nThe Shadow\nSuicide Squad\nBatman v Superman: Dawn of Justice\nThe Wolverine\n"
        }
      ]
    },
    {
      "source": [
        "### It works!!!!! \n",
        "### Now Let's check for Pirates of the Caribbean: At World's End"
      ],
      "cell_type": "markdown",
      "metadata": {}
    },
    {
      "cell_type": "code",
      "execution_count": 100,
      "metadata": {
        "tags": []
      },
      "outputs": [
        {
          "output_type": "stream",
          "name": "stdout",
          "text": "Pirates of the Caribbean: Dead Man's Chest\nPirates of the Caribbean: The Curse of the Black Pearl\nPirates of the Caribbean: On Stranger Tides\nPrince of Persia: The Sands of Time\nThe Lone Ranger\nThe Barbarians\nThor: The Dark World\nThor\nThe 13th Warrior\nConan the Destroyer\nThe Sorcerer's Apprentice\nThe Lord of the Rings: The Return of the King\nConan the Barbarian\nCirque du Freak: The Vampire's Assistant\n"
        }
      ],
      "source": [
        "my_movies = recommend(\"Pirates of the Caribbean: At World's End\")\n",
        "for m in my_movies:\n",
        "  print(m)"
      ]
    },
    {
      "source": [
        "## great accuracy"
      ],
      "cell_type": "markdown",
      "metadata": {}
    },
    {
      "cell_type": "code",
      "metadata": {
        "id": "62UV6ocpRFbC",
        "colab_type": "code",
        "colab": {}
      },
      "source": [
        "df_comb.to_csv('final_movie_data.csv',index=False)"
      ],
      "execution_count": 101,
      "outputs": []
    }
  ]
}