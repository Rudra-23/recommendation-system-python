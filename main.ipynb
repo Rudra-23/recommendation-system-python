{
  "nbformat": 4,
  "nbformat_minor": 2,
  "metadata": {
    "colab": {
      "name": "movie.ipynb",
      "provenance": []
    },
    "kernelspec": {
      "name": "python3",
      "display_name": "Python 3.9.6 64-bit"
    },
    "language_info": {
      "name": "python",
      "version": "3.9.6",
      "mimetype": "text/x-python",
      "codemirror_mode": {
        "name": "ipython",
        "version": 3
      },
      "pygments_lexer": "ipython3",
      "nbconvert_exporter": "python",
      "file_extension": ".py"
    },
    "interpreter": {
      "hash": "a3a4b090d1bdfb007c1f787e1ed8a3f005c1459e484a92176c7b7a3e001bd3ca"
    }
  },
  "cells": [
    {
      "cell_type": "code",
      "execution_count": 1,
      "source": [
        "import pandas as pd\r\n"
      ],
      "outputs": [],
      "metadata": {
        "id": "O_0JA4H6Wi2d",
        "colab_type": "code",
        "colab": {}
      }
    },
    {
      "cell_type": "markdown",
      "source": [
        "## Reading movies and credits dataset from TMDB"
      ],
      "metadata": {}
    },
    {
      "cell_type": "code",
      "execution_count": 2,
      "source": [
        "credits =pd.read_csv('Dataset/tmdb_5000_credits.csv')\r\n",
        "movies =pd.read_csv('Dataset/tmdb_5000_movies.csv')"
      ],
      "outputs": [],
      "metadata": {
        "id": "BG5dRxAtXR66",
        "colab_type": "code",
        "colab": {}
      }
    },
    {
      "cell_type": "code",
      "execution_count": 3,
      "source": [
        "movies.head()"
      ],
      "outputs": [
        {
          "output_type": "execute_result",
          "data": {
            "text/html": [
              "<div>\n",
              "<style scoped>\n",
              "    .dataframe tbody tr th:only-of-type {\n",
              "        vertical-align: middle;\n",
              "    }\n",
              "\n",
              "    .dataframe tbody tr th {\n",
              "        vertical-align: top;\n",
              "    }\n",
              "\n",
              "    .dataframe thead th {\n",
              "        text-align: right;\n",
              "    }\n",
              "</style>\n",
              "<table border=\"1\" class=\"dataframe\">\n",
              "  <thead>\n",
              "    <tr style=\"text-align: right;\">\n",
              "      <th></th>\n",
              "      <th>budget</th>\n",
              "      <th>genres</th>\n",
              "      <th>homepage</th>\n",
              "      <th>id</th>\n",
              "      <th>keywords</th>\n",
              "      <th>original_language</th>\n",
              "      <th>original_title</th>\n",
              "      <th>overview</th>\n",
              "      <th>popularity</th>\n",
              "      <th>production_companies</th>\n",
              "      <th>production_countries</th>\n",
              "      <th>release_date</th>\n",
              "      <th>revenue</th>\n",
              "      <th>runtime</th>\n",
              "      <th>spoken_languages</th>\n",
              "      <th>status</th>\n",
              "      <th>tagline</th>\n",
              "      <th>title</th>\n",
              "      <th>vote_average</th>\n",
              "      <th>vote_count</th>\n",
              "    </tr>\n",
              "  </thead>\n",
              "  <tbody>\n",
              "    <tr>\n",
              "      <th>0</th>\n",
              "      <td>237000000</td>\n",
              "      <td>[{\"id\": 28, \"name\": \"Action\"}, {\"id\": 12, \"nam...</td>\n",
              "      <td>http://www.avatarmovie.com/</td>\n",
              "      <td>19995</td>\n",
              "      <td>[{\"id\": 1463, \"name\": \"culture clash\"}, {\"id\":...</td>\n",
              "      <td>en</td>\n",
              "      <td>Avatar</td>\n",
              "      <td>In the 22nd century, a paraplegic Marine is di...</td>\n",
              "      <td>150.437577</td>\n",
              "      <td>[{\"name\": \"Ingenious Film Partners\", \"id\": 289...</td>\n",
              "      <td>[{\"iso_3166_1\": \"US\", \"name\": \"United States o...</td>\n",
              "      <td>2009-12-10</td>\n",
              "      <td>2787965087</td>\n",
              "      <td>162.0</td>\n",
              "      <td>[{\"iso_639_1\": \"en\", \"name\": \"English\"}, {\"iso...</td>\n",
              "      <td>Released</td>\n",
              "      <td>Enter the World of Pandora.</td>\n",
              "      <td>Avatar</td>\n",
              "      <td>7.2</td>\n",
              "      <td>11800</td>\n",
              "    </tr>\n",
              "    <tr>\n",
              "      <th>1</th>\n",
              "      <td>300000000</td>\n",
              "      <td>[{\"id\": 12, \"name\": \"Adventure\"}, {\"id\": 14, \"...</td>\n",
              "      <td>http://disney.go.com/disneypictures/pirates/</td>\n",
              "      <td>285</td>\n",
              "      <td>[{\"id\": 270, \"name\": \"ocean\"}, {\"id\": 726, \"na...</td>\n",
              "      <td>en</td>\n",
              "      <td>Pirates of the Caribbean: At World's End</td>\n",
              "      <td>Captain Barbossa, long believed to be dead, ha...</td>\n",
              "      <td>139.082615</td>\n",
              "      <td>[{\"name\": \"Walt Disney Pictures\", \"id\": 2}, {\"...</td>\n",
              "      <td>[{\"iso_3166_1\": \"US\", \"name\": \"United States o...</td>\n",
              "      <td>2007-05-19</td>\n",
              "      <td>961000000</td>\n",
              "      <td>169.0</td>\n",
              "      <td>[{\"iso_639_1\": \"en\", \"name\": \"English\"}]</td>\n",
              "      <td>Released</td>\n",
              "      <td>At the end of the world, the adventure begins.</td>\n",
              "      <td>Pirates of the Caribbean: At World's End</td>\n",
              "      <td>6.9</td>\n",
              "      <td>4500</td>\n",
              "    </tr>\n",
              "    <tr>\n",
              "      <th>2</th>\n",
              "      <td>245000000</td>\n",
              "      <td>[{\"id\": 28, \"name\": \"Action\"}, {\"id\": 12, \"nam...</td>\n",
              "      <td>http://www.sonypictures.com/movies/spectre/</td>\n",
              "      <td>206647</td>\n",
              "      <td>[{\"id\": 470, \"name\": \"spy\"}, {\"id\": 818, \"name...</td>\n",
              "      <td>en</td>\n",
              "      <td>Spectre</td>\n",
              "      <td>A cryptic message from Bond’s past sends him o...</td>\n",
              "      <td>107.376788</td>\n",
              "      <td>[{\"name\": \"Columbia Pictures\", \"id\": 5}, {\"nam...</td>\n",
              "      <td>[{\"iso_3166_1\": \"GB\", \"name\": \"United Kingdom\"...</td>\n",
              "      <td>2015-10-26</td>\n",
              "      <td>880674609</td>\n",
              "      <td>148.0</td>\n",
              "      <td>[{\"iso_639_1\": \"fr\", \"name\": \"Fran\\u00e7ais\"},...</td>\n",
              "      <td>Released</td>\n",
              "      <td>A Plan No One Escapes</td>\n",
              "      <td>Spectre</td>\n",
              "      <td>6.3</td>\n",
              "      <td>4466</td>\n",
              "    </tr>\n",
              "    <tr>\n",
              "      <th>3</th>\n",
              "      <td>250000000</td>\n",
              "      <td>[{\"id\": 28, \"name\": \"Action\"}, {\"id\": 80, \"nam...</td>\n",
              "      <td>http://www.thedarkknightrises.com/</td>\n",
              "      <td>49026</td>\n",
              "      <td>[{\"id\": 849, \"name\": \"dc comics\"}, {\"id\": 853,...</td>\n",
              "      <td>en</td>\n",
              "      <td>The Dark Knight Rises</td>\n",
              "      <td>Following the death of District Attorney Harve...</td>\n",
              "      <td>112.312950</td>\n",
              "      <td>[{\"name\": \"Legendary Pictures\", \"id\": 923}, {\"...</td>\n",
              "      <td>[{\"iso_3166_1\": \"US\", \"name\": \"United States o...</td>\n",
              "      <td>2012-07-16</td>\n",
              "      <td>1084939099</td>\n",
              "      <td>165.0</td>\n",
              "      <td>[{\"iso_639_1\": \"en\", \"name\": \"English\"}]</td>\n",
              "      <td>Released</td>\n",
              "      <td>The Legend Ends</td>\n",
              "      <td>The Dark Knight Rises</td>\n",
              "      <td>7.6</td>\n",
              "      <td>9106</td>\n",
              "    </tr>\n",
              "    <tr>\n",
              "      <th>4</th>\n",
              "      <td>260000000</td>\n",
              "      <td>[{\"id\": 28, \"name\": \"Action\"}, {\"id\": 12, \"nam...</td>\n",
              "      <td>http://movies.disney.com/john-carter</td>\n",
              "      <td>49529</td>\n",
              "      <td>[{\"id\": 818, \"name\": \"based on novel\"}, {\"id\":...</td>\n",
              "      <td>en</td>\n",
              "      <td>John Carter</td>\n",
              "      <td>John Carter is a war-weary, former military ca...</td>\n",
              "      <td>43.926995</td>\n",
              "      <td>[{\"name\": \"Walt Disney Pictures\", \"id\": 2}]</td>\n",
              "      <td>[{\"iso_3166_1\": \"US\", \"name\": \"United States o...</td>\n",
              "      <td>2012-03-07</td>\n",
              "      <td>284139100</td>\n",
              "      <td>132.0</td>\n",
              "      <td>[{\"iso_639_1\": \"en\", \"name\": \"English\"}]</td>\n",
              "      <td>Released</td>\n",
              "      <td>Lost in our world, found in another.</td>\n",
              "      <td>John Carter</td>\n",
              "      <td>6.1</td>\n",
              "      <td>2124</td>\n",
              "    </tr>\n",
              "  </tbody>\n",
              "</table>\n",
              "</div>"
            ],
            "text/plain": [
              "      budget                                             genres  \\\n",
              "0  237000000  [{\"id\": 28, \"name\": \"Action\"}, {\"id\": 12, \"nam...   \n",
              "1  300000000  [{\"id\": 12, \"name\": \"Adventure\"}, {\"id\": 14, \"...   \n",
              "2  245000000  [{\"id\": 28, \"name\": \"Action\"}, {\"id\": 12, \"nam...   \n",
              "3  250000000  [{\"id\": 28, \"name\": \"Action\"}, {\"id\": 80, \"nam...   \n",
              "4  260000000  [{\"id\": 28, \"name\": \"Action\"}, {\"id\": 12, \"nam...   \n",
              "\n",
              "                                       homepage      id  \\\n",
              "0                   http://www.avatarmovie.com/   19995   \n",
              "1  http://disney.go.com/disneypictures/pirates/     285   \n",
              "2   http://www.sonypictures.com/movies/spectre/  206647   \n",
              "3            http://www.thedarkknightrises.com/   49026   \n",
              "4          http://movies.disney.com/john-carter   49529   \n",
              "\n",
              "                                            keywords original_language  \\\n",
              "0  [{\"id\": 1463, \"name\": \"culture clash\"}, {\"id\":...                en   \n",
              "1  [{\"id\": 270, \"name\": \"ocean\"}, {\"id\": 726, \"na...                en   \n",
              "2  [{\"id\": 470, \"name\": \"spy\"}, {\"id\": 818, \"name...                en   \n",
              "3  [{\"id\": 849, \"name\": \"dc comics\"}, {\"id\": 853,...                en   \n",
              "4  [{\"id\": 818, \"name\": \"based on novel\"}, {\"id\":...                en   \n",
              "\n",
              "                             original_title  \\\n",
              "0                                    Avatar   \n",
              "1  Pirates of the Caribbean: At World's End   \n",
              "2                                   Spectre   \n",
              "3                     The Dark Knight Rises   \n",
              "4                               John Carter   \n",
              "\n",
              "                                            overview  popularity  \\\n",
              "0  In the 22nd century, a paraplegic Marine is di...  150.437577   \n",
              "1  Captain Barbossa, long believed to be dead, ha...  139.082615   \n",
              "2  A cryptic message from Bond’s past sends him o...  107.376788   \n",
              "3  Following the death of District Attorney Harve...  112.312950   \n",
              "4  John Carter is a war-weary, former military ca...   43.926995   \n",
              "\n",
              "                                production_companies  \\\n",
              "0  [{\"name\": \"Ingenious Film Partners\", \"id\": 289...   \n",
              "1  [{\"name\": \"Walt Disney Pictures\", \"id\": 2}, {\"...   \n",
              "2  [{\"name\": \"Columbia Pictures\", \"id\": 5}, {\"nam...   \n",
              "3  [{\"name\": \"Legendary Pictures\", \"id\": 923}, {\"...   \n",
              "4        [{\"name\": \"Walt Disney Pictures\", \"id\": 2}]   \n",
              "\n",
              "                                production_countries release_date     revenue  \\\n",
              "0  [{\"iso_3166_1\": \"US\", \"name\": \"United States o...   2009-12-10  2787965087   \n",
              "1  [{\"iso_3166_1\": \"US\", \"name\": \"United States o...   2007-05-19   961000000   \n",
              "2  [{\"iso_3166_1\": \"GB\", \"name\": \"United Kingdom\"...   2015-10-26   880674609   \n",
              "3  [{\"iso_3166_1\": \"US\", \"name\": \"United States o...   2012-07-16  1084939099   \n",
              "4  [{\"iso_3166_1\": \"US\", \"name\": \"United States o...   2012-03-07   284139100   \n",
              "\n",
              "   runtime                                   spoken_languages    status  \\\n",
              "0    162.0  [{\"iso_639_1\": \"en\", \"name\": \"English\"}, {\"iso...  Released   \n",
              "1    169.0           [{\"iso_639_1\": \"en\", \"name\": \"English\"}]  Released   \n",
              "2    148.0  [{\"iso_639_1\": \"fr\", \"name\": \"Fran\\u00e7ais\"},...  Released   \n",
              "3    165.0           [{\"iso_639_1\": \"en\", \"name\": \"English\"}]  Released   \n",
              "4    132.0           [{\"iso_639_1\": \"en\", \"name\": \"English\"}]  Released   \n",
              "\n",
              "                                          tagline  \\\n",
              "0                     Enter the World of Pandora.   \n",
              "1  At the end of the world, the adventure begins.   \n",
              "2                           A Plan No One Escapes   \n",
              "3                                 The Legend Ends   \n",
              "4            Lost in our world, found in another.   \n",
              "\n",
              "                                      title  vote_average  vote_count  \n",
              "0                                    Avatar           7.2       11800  \n",
              "1  Pirates of the Caribbean: At World's End           6.9        4500  \n",
              "2                                   Spectre           6.3        4466  \n",
              "3                     The Dark Knight Rises           7.6        9106  \n",
              "4                               John Carter           6.1        2124  "
            ]
          },
          "metadata": {},
          "execution_count": 3
        }
      ],
      "metadata": {
        "id": "zZdr4bqwXnvS",
        "colab_type": "code",
        "colab": {
          "base_uri": "https://localhost:8080/",
          "height": 1000
        },
        "outputId": "97a4dce1-de2f-42f0-dbbf-4f1b82d0e56a"
      }
    },
    {
      "cell_type": "code",
      "execution_count": 4,
      "source": [
        "movies.columns"
      ],
      "outputs": [
        {
          "output_type": "execute_result",
          "data": {
            "text/plain": [
              "Index(['budget', 'genres', 'homepage', 'id', 'keywords', 'original_language',\n",
              "       'original_title', 'overview', 'popularity', 'production_companies',\n",
              "       'production_countries', 'release_date', 'revenue', 'runtime',\n",
              "       'spoken_languages', 'status', 'tagline', 'title', 'vote_average',\n",
              "       'vote_count'],\n",
              "      dtype='object')"
            ]
          },
          "metadata": {},
          "execution_count": 4
        }
      ],
      "metadata": {}
    },
    {
      "cell_type": "markdown",
      "source": [
        "### Selecting the important columns that can be the important factors for recommendation"
      ],
      "metadata": {}
    },
    {
      "cell_type": "code",
      "execution_count": 5,
      "source": [
        "df =movies[['genres','id','original_language','title','production_companies','overview']].copy()"
      ],
      "outputs": [],
      "metadata": {
        "id": "VgE9FHBlbJnX",
        "colab_type": "code",
        "colab": {}
      }
    },
    {
      "cell_type": "code",
      "execution_count": 6,
      "source": [
        "credits.head()\r\n"
      ],
      "outputs": [
        {
          "output_type": "execute_result",
          "data": {
            "text/html": [
              "<div>\n",
              "<style scoped>\n",
              "    .dataframe tbody tr th:only-of-type {\n",
              "        vertical-align: middle;\n",
              "    }\n",
              "\n",
              "    .dataframe tbody tr th {\n",
              "        vertical-align: top;\n",
              "    }\n",
              "\n",
              "    .dataframe thead th {\n",
              "        text-align: right;\n",
              "    }\n",
              "</style>\n",
              "<table border=\"1\" class=\"dataframe\">\n",
              "  <thead>\n",
              "    <tr style=\"text-align: right;\">\n",
              "      <th></th>\n",
              "      <th>movie_id</th>\n",
              "      <th>title</th>\n",
              "      <th>cast</th>\n",
              "      <th>crew</th>\n",
              "    </tr>\n",
              "  </thead>\n",
              "  <tbody>\n",
              "    <tr>\n",
              "      <th>0</th>\n",
              "      <td>19995</td>\n",
              "      <td>Avatar</td>\n",
              "      <td>[{\"cast_id\": 242, \"character\": \"Jake Sully\", \"...</td>\n",
              "      <td>[{\"credit_id\": \"52fe48009251416c750aca23\", \"de...</td>\n",
              "    </tr>\n",
              "    <tr>\n",
              "      <th>1</th>\n",
              "      <td>285</td>\n",
              "      <td>Pirates of the Caribbean: At World's End</td>\n",
              "      <td>[{\"cast_id\": 4, \"character\": \"Captain Jack Spa...</td>\n",
              "      <td>[{\"credit_id\": \"52fe4232c3a36847f800b579\", \"de...</td>\n",
              "    </tr>\n",
              "    <tr>\n",
              "      <th>2</th>\n",
              "      <td>206647</td>\n",
              "      <td>Spectre</td>\n",
              "      <td>[{\"cast_id\": 1, \"character\": \"James Bond\", \"cr...</td>\n",
              "      <td>[{\"credit_id\": \"54805967c3a36829b5002c41\", \"de...</td>\n",
              "    </tr>\n",
              "    <tr>\n",
              "      <th>3</th>\n",
              "      <td>49026</td>\n",
              "      <td>The Dark Knight Rises</td>\n",
              "      <td>[{\"cast_id\": 2, \"character\": \"Bruce Wayne / Ba...</td>\n",
              "      <td>[{\"credit_id\": \"52fe4781c3a36847f81398c3\", \"de...</td>\n",
              "    </tr>\n",
              "    <tr>\n",
              "      <th>4</th>\n",
              "      <td>49529</td>\n",
              "      <td>John Carter</td>\n",
              "      <td>[{\"cast_id\": 5, \"character\": \"John Carter\", \"c...</td>\n",
              "      <td>[{\"credit_id\": \"52fe479ac3a36847f813eaa3\", \"de...</td>\n",
              "    </tr>\n",
              "  </tbody>\n",
              "</table>\n",
              "</div>"
            ],
            "text/plain": [
              "   movie_id                                     title  \\\n",
              "0     19995                                    Avatar   \n",
              "1       285  Pirates of the Caribbean: At World's End   \n",
              "2    206647                                   Spectre   \n",
              "3     49026                     The Dark Knight Rises   \n",
              "4     49529                               John Carter   \n",
              "\n",
              "                                                cast  \\\n",
              "0  [{\"cast_id\": 242, \"character\": \"Jake Sully\", \"...   \n",
              "1  [{\"cast_id\": 4, \"character\": \"Captain Jack Spa...   \n",
              "2  [{\"cast_id\": 1, \"character\": \"James Bond\", \"cr...   \n",
              "3  [{\"cast_id\": 2, \"character\": \"Bruce Wayne / Ba...   \n",
              "4  [{\"cast_id\": 5, \"character\": \"John Carter\", \"c...   \n",
              "\n",
              "                                                crew  \n",
              "0  [{\"credit_id\": \"52fe48009251416c750aca23\", \"de...  \n",
              "1  [{\"credit_id\": \"52fe4232c3a36847f800b579\", \"de...  \n",
              "2  [{\"credit_id\": \"54805967c3a36829b5002c41\", \"de...  \n",
              "3  [{\"credit_id\": \"52fe4781c3a36847f81398c3\", \"de...  \n",
              "4  [{\"credit_id\": \"52fe479ac3a36847f813eaa3\", \"de...  "
            ]
          },
          "metadata": {},
          "execution_count": 6
        }
      ],
      "metadata": {
        "id": "nSsDs-DHYTKE",
        "colab_type": "code",
        "colab": {
          "base_uri": "https://localhost:8080/",
          "height": 419
        },
        "outputId": "de687170-4315-4e44-ffc9-0ef143251c20"
      }
    },
    {
      "cell_type": "markdown",
      "source": [
        "### we observe that production_companies,cast,crew and genre  are in JSON format\n",
        "#### checking the JSON string"
      ],
      "metadata": {}
    },
    {
      "cell_type": "code",
      "execution_count": 7,
      "source": [
        "jstr=str(df['genres'][0])\r\n",
        "print(jstr)"
      ],
      "outputs": [
        {
          "output_type": "stream",
          "name": "stdout",
          "text": [
            "[{\"id\": 28, \"name\": \"Action\"}, {\"id\": 12, \"name\": \"Adventure\"}, {\"id\": 14, \"name\": \"Fantasy\"}, {\"id\": 878, \"name\": \"Science Fiction\"}]\n"
          ]
        }
      ],
      "metadata": {
        "id": "7DSQAiMlYhir",
        "colab_type": "code",
        "colab": {},
        "tags": []
      }
    },
    {
      "cell_type": "markdown",
      "source": [
        "### Now let's see the range of time for all the movies in our dataset.\n",
        "#### Looks like only till year 2017. we need to add latest movies afterwards."
      ],
      "metadata": {}
    },
    {
      "cell_type": "code",
      "execution_count": 8,
      "source": [
        "mx,mn =-9999,9999\r\n",
        "for i in movies.release_date:\r\n",
        "  if str(i)!='nan':\r\n",
        "    val=int(str(i).split('-')[0])\r\n",
        "  if mx <val:\r\n",
        "    mx=val\r\n",
        "  if mn>val:\r\n",
        "    mn=val\r\n",
        "mx,mn"
      ],
      "outputs": [
        {
          "output_type": "execute_result",
          "data": {
            "text/plain": [
              "(2017, 1916)"
            ]
          },
          "metadata": {},
          "execution_count": 8
        }
      ],
      "metadata": {
        "id": "oqtAMiQhkweM",
        "colab_type": "code",
        "colab": {
          "base_uri": "https://localhost:8080/",
          "height": 34
        },
        "outputId": "7954d541-b79f-45b6-b2aa-60834c1c2bb5"
      }
    },
    {
      "cell_type": "code",
      "execution_count": 9,
      "source": [
        "import json \r\n",
        "final_json =json.loads(jstr)\r\n",
        "final_json"
      ],
      "outputs": [
        {
          "output_type": "execute_result",
          "data": {
            "text/plain": [
              "[{'id': 28, 'name': 'Action'},\n",
              " {'id': 12, 'name': 'Adventure'},\n",
              " {'id': 14, 'name': 'Fantasy'},\n",
              " {'id': 878, 'name': 'Science Fiction'}]"
            ]
          },
          "metadata": {},
          "execution_count": 9
        }
      ],
      "metadata": {
        "id": "shXU8yGLdm4O",
        "colab_type": "code",
        "colab": {
          "base_uri": "https://localhost:8080/",
          "height": 85
        },
        "outputId": "896a1319-f081-4713-8c94-11d9f1f16eb5"
      }
    },
    {
      "cell_type": "markdown",
      "source": [
        "## Let extract some features and analyse each for our system. "
      ],
      "metadata": {}
    },
    {
      "cell_type": "code",
      "execution_count": 10,
      "source": [
        "genre_list=[]                 # list to store genres for each movie\r\n",
        "for st in df['genres']:\r\n",
        "  fst=json.loads(str(st))    # string to JSON format \r\n",
        "  x=\"\"\r\n",
        "  for i in fst:\r\n",
        "    x=x+i['name']+\" \"\r\n",
        "  if x!=\"\":\r\n",
        "    genre_list.append([x])\r\n",
        "  else:\r\n",
        "    genre_list.append(['nan'])         # nan for empty value\r\n"
      ],
      "outputs": [],
      "metadata": {
        "id": "Y73Cmc-AeGAE",
        "colab_type": "code",
        "colab": {}
      }
    },
    {
      "cell_type": "markdown",
      "source": [
        "### Extract the genre's from all the movies \n",
        "#### They play a important role finding similarity b/w movies"
      ],
      "metadata": {}
    },
    {
      "cell_type": "code",
      "execution_count": 11,
      "source": [
        "genre_list[:20]"
      ],
      "outputs": [
        {
          "output_type": "execute_result",
          "data": {
            "text/plain": [
              "[['Action Adventure Fantasy Science Fiction '],\n",
              " ['Adventure Fantasy Action '],\n",
              " ['Action Adventure Crime '],\n",
              " ['Action Crime Drama Thriller '],\n",
              " ['Action Adventure Science Fiction '],\n",
              " ['Fantasy Action Adventure '],\n",
              " ['Animation Family '],\n",
              " ['Action Adventure Science Fiction '],\n",
              " ['Adventure Fantasy Family '],\n",
              " ['Action Adventure Fantasy '],\n",
              " ['Adventure Fantasy Action Science Fiction '],\n",
              " ['Adventure Action Thriller Crime '],\n",
              " ['Adventure Fantasy Action '],\n",
              " ['Action Adventure Western '],\n",
              " ['Action Adventure Fantasy Science Fiction '],\n",
              " ['Adventure Family Fantasy '],\n",
              " ['Science Fiction Action Adventure '],\n",
              " ['Adventure Action Fantasy '],\n",
              " ['Action Comedy Science Fiction '],\n",
              " ['Action Adventure Fantasy ']]"
            ]
          },
          "metadata": {},
          "execution_count": 11
        }
      ],
      "metadata": {}
    },
    {
      "cell_type": "code",
      "execution_count": 12,
      "source": [
        "df['genre_list'] =pd.DataFrame(genre_list,columns=['genre_list'])"
      ],
      "outputs": [],
      "metadata": {
        "id": "LqOAor1T5HNg",
        "colab_type": "code",
        "colab": {}
      }
    },
    {
      "cell_type": "code",
      "execution_count": 13,
      "source": [
        "df.head()"
      ],
      "outputs": [
        {
          "output_type": "execute_result",
          "data": {
            "text/html": [
              "<div>\n",
              "<style scoped>\n",
              "    .dataframe tbody tr th:only-of-type {\n",
              "        vertical-align: middle;\n",
              "    }\n",
              "\n",
              "    .dataframe tbody tr th {\n",
              "        vertical-align: top;\n",
              "    }\n",
              "\n",
              "    .dataframe thead th {\n",
              "        text-align: right;\n",
              "    }\n",
              "</style>\n",
              "<table border=\"1\" class=\"dataframe\">\n",
              "  <thead>\n",
              "    <tr style=\"text-align: right;\">\n",
              "      <th></th>\n",
              "      <th>genres</th>\n",
              "      <th>id</th>\n",
              "      <th>original_language</th>\n",
              "      <th>title</th>\n",
              "      <th>production_companies</th>\n",
              "      <th>overview</th>\n",
              "      <th>genre_list</th>\n",
              "    </tr>\n",
              "  </thead>\n",
              "  <tbody>\n",
              "    <tr>\n",
              "      <th>0</th>\n",
              "      <td>[{\"id\": 28, \"name\": \"Action\"}, {\"id\": 12, \"nam...</td>\n",
              "      <td>19995</td>\n",
              "      <td>en</td>\n",
              "      <td>Avatar</td>\n",
              "      <td>[{\"name\": \"Ingenious Film Partners\", \"id\": 289...</td>\n",
              "      <td>In the 22nd century, a paraplegic Marine is di...</td>\n",
              "      <td>Action Adventure Fantasy Science Fiction</td>\n",
              "    </tr>\n",
              "    <tr>\n",
              "      <th>1</th>\n",
              "      <td>[{\"id\": 12, \"name\": \"Adventure\"}, {\"id\": 14, \"...</td>\n",
              "      <td>285</td>\n",
              "      <td>en</td>\n",
              "      <td>Pirates of the Caribbean: At World's End</td>\n",
              "      <td>[{\"name\": \"Walt Disney Pictures\", \"id\": 2}, {\"...</td>\n",
              "      <td>Captain Barbossa, long believed to be dead, ha...</td>\n",
              "      <td>Adventure Fantasy Action</td>\n",
              "    </tr>\n",
              "    <tr>\n",
              "      <th>2</th>\n",
              "      <td>[{\"id\": 28, \"name\": \"Action\"}, {\"id\": 12, \"nam...</td>\n",
              "      <td>206647</td>\n",
              "      <td>en</td>\n",
              "      <td>Spectre</td>\n",
              "      <td>[{\"name\": \"Columbia Pictures\", \"id\": 5}, {\"nam...</td>\n",
              "      <td>A cryptic message from Bond’s past sends him o...</td>\n",
              "      <td>Action Adventure Crime</td>\n",
              "    </tr>\n",
              "    <tr>\n",
              "      <th>3</th>\n",
              "      <td>[{\"id\": 28, \"name\": \"Action\"}, {\"id\": 80, \"nam...</td>\n",
              "      <td>49026</td>\n",
              "      <td>en</td>\n",
              "      <td>The Dark Knight Rises</td>\n",
              "      <td>[{\"name\": \"Legendary Pictures\", \"id\": 923}, {\"...</td>\n",
              "      <td>Following the death of District Attorney Harve...</td>\n",
              "      <td>Action Crime Drama Thriller</td>\n",
              "    </tr>\n",
              "    <tr>\n",
              "      <th>4</th>\n",
              "      <td>[{\"id\": 28, \"name\": \"Action\"}, {\"id\": 12, \"nam...</td>\n",
              "      <td>49529</td>\n",
              "      <td>en</td>\n",
              "      <td>John Carter</td>\n",
              "      <td>[{\"name\": \"Walt Disney Pictures\", \"id\": 2}]</td>\n",
              "      <td>John Carter is a war-weary, former military ca...</td>\n",
              "      <td>Action Adventure Science Fiction</td>\n",
              "    </tr>\n",
              "  </tbody>\n",
              "</table>\n",
              "</div>"
            ],
            "text/plain": [
              "                                              genres      id  \\\n",
              "0  [{\"id\": 28, \"name\": \"Action\"}, {\"id\": 12, \"nam...   19995   \n",
              "1  [{\"id\": 12, \"name\": \"Adventure\"}, {\"id\": 14, \"...     285   \n",
              "2  [{\"id\": 28, \"name\": \"Action\"}, {\"id\": 12, \"nam...  206647   \n",
              "3  [{\"id\": 28, \"name\": \"Action\"}, {\"id\": 80, \"nam...   49026   \n",
              "4  [{\"id\": 28, \"name\": \"Action\"}, {\"id\": 12, \"nam...   49529   \n",
              "\n",
              "  original_language                                     title  \\\n",
              "0                en                                    Avatar   \n",
              "1                en  Pirates of the Caribbean: At World's End   \n",
              "2                en                                   Spectre   \n",
              "3                en                     The Dark Knight Rises   \n",
              "4                en                               John Carter   \n",
              "\n",
              "                                production_companies  \\\n",
              "0  [{\"name\": \"Ingenious Film Partners\", \"id\": 289...   \n",
              "1  [{\"name\": \"Walt Disney Pictures\", \"id\": 2}, {\"...   \n",
              "2  [{\"name\": \"Columbia Pictures\", \"id\": 5}, {\"nam...   \n",
              "3  [{\"name\": \"Legendary Pictures\", \"id\": 923}, {\"...   \n",
              "4        [{\"name\": \"Walt Disney Pictures\", \"id\": 2}]   \n",
              "\n",
              "                                            overview  \\\n",
              "0  In the 22nd century, a paraplegic Marine is di...   \n",
              "1  Captain Barbossa, long believed to be dead, ha...   \n",
              "2  A cryptic message from Bond’s past sends him o...   \n",
              "3  Following the death of District Attorney Harve...   \n",
              "4  John Carter is a war-weary, former military ca...   \n",
              "\n",
              "                                  genre_list  \n",
              "0  Action Adventure Fantasy Science Fiction   \n",
              "1                  Adventure Fantasy Action   \n",
              "2                    Action Adventure Crime   \n",
              "3               Action Crime Drama Thriller   \n",
              "4          Action Adventure Science Fiction   "
            ]
          },
          "metadata": {},
          "execution_count": 13
        }
      ],
      "metadata": {
        "id": "sMN-LRJm5g-l",
        "colab_type": "code",
        "colab": {
          "base_uri": "https://localhost:8080/",
          "height": 289
        },
        "outputId": "bcb9c1d3-82bd-447e-c22b-d33e1c4115f5"
      }
    },
    {
      "cell_type": "code",
      "execution_count": 14,
      "source": [
        "len(genre_list)"
      ],
      "outputs": [
        {
          "output_type": "execute_result",
          "data": {
            "text/plain": [
              "4803"
            ]
          },
          "metadata": {},
          "execution_count": 14
        }
      ],
      "metadata": {
        "id": "SyP-Krqt4zxm",
        "colab_type": "code",
        "colab": {
          "base_uri": "https://localhost:8080/",
          "height": 34
        },
        "outputId": "59318af1-c215-4c86-a80c-ad1295a54374"
      }
    },
    {
      "cell_type": "markdown",
      "source": [
        "### Now for cast. \n",
        "#### Cast is selected because of following reason.\n",
        "1) generally same cast is for upcoming movies.\n",
        "2) movies filtered by main cast."
      ],
      "metadata": {}
    },
    {
      "cell_type": "code",
      "execution_count": 15,
      "source": [
        "cast_list=[]                    #  list for storing cast\r\n",
        "for st in credits['cast']:\r\n",
        "  fst=json.loads(str(st))      # string to JSON\r\n",
        "  x=\"\"\r\n",
        "  for i in fst[0:3]:\r\n",
        "    i['name']=\" \".join(i['name'].split(' '))    \r\n",
        "    x=x+i['name']+\" \"\r\n",
        "  if x!=\"\":\r\n",
        "    cast_list.append([x])\r\n",
        "  else:\r\n",
        "    cast_list.append(['nan'])\r\n"
      ],
      "outputs": [],
      "metadata": {
        "id": "5aJACCyves1H",
        "colab_type": "code",
        "colab": {}
      }
    },
    {
      "cell_type": "code",
      "execution_count": 16,
      "source": [
        "cast_list[:20]"
      ],
      "outputs": [
        {
          "output_type": "execute_result",
          "data": {
            "text/plain": [
              "[['Sam Worthington Zoe Saldana Sigourney Weaver '],\n",
              " ['Johnny Depp Orlando Bloom Keira Knightley '],\n",
              " ['Daniel Craig Christoph Waltz Léa Seydoux '],\n",
              " ['Christian Bale Michael Caine Gary Oldman '],\n",
              " ['Taylor Kitsch Lynn Collins Samantha Morton '],\n",
              " ['Tobey Maguire Kirsten Dunst James Franco '],\n",
              " ['Zachary Levi Mandy Moore Donna Murphy '],\n",
              " ['Robert Downey Jr. Chris Hemsworth Mark Ruffalo '],\n",
              " ['Daniel Radcliffe Rupert Grint Emma Watson '],\n",
              " ['Ben Affleck Henry Cavill Gal Gadot '],\n",
              " ['Brandon Routh Kevin Spacey Kate Bosworth '],\n",
              " ['Daniel Craig Olga Kurylenko Mathieu Amalric '],\n",
              " ['Johnny Depp Orlando Bloom Keira Knightley '],\n",
              " ['Johnny Depp Armie Hammer William Fichtner '],\n",
              " ['Henry Cavill Amy Adams Michael Shannon '],\n",
              " ['Ben Barnes William Moseley Anna Popplewell '],\n",
              " ['Robert Downey Jr. Chris Evans Mark Ruffalo '],\n",
              " ['Johnny Depp Penélope Cruz Ian McShane '],\n",
              " ['Will Smith Tommy Lee Jones Josh Brolin '],\n",
              " ['Martin Freeman Ian McKellen Richard Armitage ']]"
            ]
          },
          "metadata": {},
          "execution_count": 16
        }
      ],
      "metadata": {
        "id": "bpZVQcI56EVy",
        "colab_type": "code",
        "colab": {
          "base_uri": "https://localhost:8080/",
          "height": 1000
        },
        "outputId": "2a2ed384-b689-4f40-aed1-2342472c0c84"
      }
    },
    {
      "cell_type": "code",
      "execution_count": 17,
      "source": [
        "df['cast_list'] =pd.DataFrame(cast_list,columns=['cast_list'])"
      ],
      "outputs": [],
      "metadata": {
        "id": "PwhfdJMf8HUI",
        "colab_type": "code",
        "colab": {}
      }
    },
    {
      "cell_type": "code",
      "execution_count": 18,
      "source": [
        "df.head()"
      ],
      "outputs": [
        {
          "output_type": "execute_result",
          "data": {
            "text/html": [
              "<div>\n",
              "<style scoped>\n",
              "    .dataframe tbody tr th:only-of-type {\n",
              "        vertical-align: middle;\n",
              "    }\n",
              "\n",
              "    .dataframe tbody tr th {\n",
              "        vertical-align: top;\n",
              "    }\n",
              "\n",
              "    .dataframe thead th {\n",
              "        text-align: right;\n",
              "    }\n",
              "</style>\n",
              "<table border=\"1\" class=\"dataframe\">\n",
              "  <thead>\n",
              "    <tr style=\"text-align: right;\">\n",
              "      <th></th>\n",
              "      <th>genres</th>\n",
              "      <th>id</th>\n",
              "      <th>original_language</th>\n",
              "      <th>title</th>\n",
              "      <th>production_companies</th>\n",
              "      <th>overview</th>\n",
              "      <th>genre_list</th>\n",
              "      <th>cast_list</th>\n",
              "    </tr>\n",
              "  </thead>\n",
              "  <tbody>\n",
              "    <tr>\n",
              "      <th>0</th>\n",
              "      <td>[{\"id\": 28, \"name\": \"Action\"}, {\"id\": 12, \"nam...</td>\n",
              "      <td>19995</td>\n",
              "      <td>en</td>\n",
              "      <td>Avatar</td>\n",
              "      <td>[{\"name\": \"Ingenious Film Partners\", \"id\": 289...</td>\n",
              "      <td>In the 22nd century, a paraplegic Marine is di...</td>\n",
              "      <td>Action Adventure Fantasy Science Fiction</td>\n",
              "      <td>Sam Worthington Zoe Saldana Sigourney Weaver</td>\n",
              "    </tr>\n",
              "    <tr>\n",
              "      <th>1</th>\n",
              "      <td>[{\"id\": 12, \"name\": \"Adventure\"}, {\"id\": 14, \"...</td>\n",
              "      <td>285</td>\n",
              "      <td>en</td>\n",
              "      <td>Pirates of the Caribbean: At World's End</td>\n",
              "      <td>[{\"name\": \"Walt Disney Pictures\", \"id\": 2}, {\"...</td>\n",
              "      <td>Captain Barbossa, long believed to be dead, ha...</td>\n",
              "      <td>Adventure Fantasy Action</td>\n",
              "      <td>Johnny Depp Orlando Bloom Keira Knightley</td>\n",
              "    </tr>\n",
              "    <tr>\n",
              "      <th>2</th>\n",
              "      <td>[{\"id\": 28, \"name\": \"Action\"}, {\"id\": 12, \"nam...</td>\n",
              "      <td>206647</td>\n",
              "      <td>en</td>\n",
              "      <td>Spectre</td>\n",
              "      <td>[{\"name\": \"Columbia Pictures\", \"id\": 5}, {\"nam...</td>\n",
              "      <td>A cryptic message from Bond’s past sends him o...</td>\n",
              "      <td>Action Adventure Crime</td>\n",
              "      <td>Daniel Craig Christoph Waltz Léa Seydoux</td>\n",
              "    </tr>\n",
              "    <tr>\n",
              "      <th>3</th>\n",
              "      <td>[{\"id\": 28, \"name\": \"Action\"}, {\"id\": 80, \"nam...</td>\n",
              "      <td>49026</td>\n",
              "      <td>en</td>\n",
              "      <td>The Dark Knight Rises</td>\n",
              "      <td>[{\"name\": \"Legendary Pictures\", \"id\": 923}, {\"...</td>\n",
              "      <td>Following the death of District Attorney Harve...</td>\n",
              "      <td>Action Crime Drama Thriller</td>\n",
              "      <td>Christian Bale Michael Caine Gary Oldman</td>\n",
              "    </tr>\n",
              "    <tr>\n",
              "      <th>4</th>\n",
              "      <td>[{\"id\": 28, \"name\": \"Action\"}, {\"id\": 12, \"nam...</td>\n",
              "      <td>49529</td>\n",
              "      <td>en</td>\n",
              "      <td>John Carter</td>\n",
              "      <td>[{\"name\": \"Walt Disney Pictures\", \"id\": 2}]</td>\n",
              "      <td>John Carter is a war-weary, former military ca...</td>\n",
              "      <td>Action Adventure Science Fiction</td>\n",
              "      <td>Taylor Kitsch Lynn Collins Samantha Morton</td>\n",
              "    </tr>\n",
              "  </tbody>\n",
              "</table>\n",
              "</div>"
            ],
            "text/plain": [
              "                                              genres      id  \\\n",
              "0  [{\"id\": 28, \"name\": \"Action\"}, {\"id\": 12, \"nam...   19995   \n",
              "1  [{\"id\": 12, \"name\": \"Adventure\"}, {\"id\": 14, \"...     285   \n",
              "2  [{\"id\": 28, \"name\": \"Action\"}, {\"id\": 12, \"nam...  206647   \n",
              "3  [{\"id\": 28, \"name\": \"Action\"}, {\"id\": 80, \"nam...   49026   \n",
              "4  [{\"id\": 28, \"name\": \"Action\"}, {\"id\": 12, \"nam...   49529   \n",
              "\n",
              "  original_language                                     title  \\\n",
              "0                en                                    Avatar   \n",
              "1                en  Pirates of the Caribbean: At World's End   \n",
              "2                en                                   Spectre   \n",
              "3                en                     The Dark Knight Rises   \n",
              "4                en                               John Carter   \n",
              "\n",
              "                                production_companies  \\\n",
              "0  [{\"name\": \"Ingenious Film Partners\", \"id\": 289...   \n",
              "1  [{\"name\": \"Walt Disney Pictures\", \"id\": 2}, {\"...   \n",
              "2  [{\"name\": \"Columbia Pictures\", \"id\": 5}, {\"nam...   \n",
              "3  [{\"name\": \"Legendary Pictures\", \"id\": 923}, {\"...   \n",
              "4        [{\"name\": \"Walt Disney Pictures\", \"id\": 2}]   \n",
              "\n",
              "                                            overview  \\\n",
              "0  In the 22nd century, a paraplegic Marine is di...   \n",
              "1  Captain Barbossa, long believed to be dead, ha...   \n",
              "2  A cryptic message from Bond’s past sends him o...   \n",
              "3  Following the death of District Attorney Harve...   \n",
              "4  John Carter is a war-weary, former military ca...   \n",
              "\n",
              "                                  genre_list  \\\n",
              "0  Action Adventure Fantasy Science Fiction    \n",
              "1                  Adventure Fantasy Action    \n",
              "2                    Action Adventure Crime    \n",
              "3               Action Crime Drama Thriller    \n",
              "4          Action Adventure Science Fiction    \n",
              "\n",
              "                                       cast_list  \n",
              "0  Sam Worthington Zoe Saldana Sigourney Weaver   \n",
              "1     Johnny Depp Orlando Bloom Keira Knightley   \n",
              "2      Daniel Craig Christoph Waltz Léa Seydoux   \n",
              "3      Christian Bale Michael Caine Gary Oldman   \n",
              "4    Taylor Kitsch Lynn Collins Samantha Morton   "
            ]
          },
          "metadata": {},
          "execution_count": 18
        }
      ],
      "metadata": {
        "id": "P0DFcve_8Nfa",
        "colab_type": "code",
        "colab": {
          "base_uri": "https://localhost:8080/",
          "height": 289
        },
        "outputId": "b21ddc31-02d3-4fee-8aae-2cbd18612f3a"
      }
    },
    {
      "cell_type": "markdown",
      "source": [
        "### Now for crew. \n",
        "#### Crew is selected because of following reason.\n",
        "1) generally same crew (director) are for movies with similar genre.\n",
        "2) movies filtered by main crew. (preferred)"
      ],
      "metadata": {}
    },
    {
      "cell_type": "code",
      "execution_count": 19,
      "source": [
        "crew_list=[]                          #list to store crew\r\n",
        "for st in credits['crew']:\r\n",
        "  fst=json.loads(str(st))\r\n",
        "  flag=0\r\n",
        "  for i in fst:\r\n",
        "    if i['job']=='Director':\r\n",
        "      crew_list.append([i['name']])     #getting director name\r\n",
        "      flag=1\r\n",
        "      break\r\n",
        "  if flag==0:\r\n",
        "    crew_list.append(['nan'])\r\n",
        "\r\n",
        "\r\n",
        "\r\n"
      ],
      "outputs": [],
      "metadata": {
        "id": "thkt9NXAgdvk",
        "colab_type": "code",
        "colab": {}
      }
    },
    {
      "cell_type": "code",
      "execution_count": 20,
      "source": [
        "crew_list[:20]                       # famous directors"
      ],
      "outputs": [
        {
          "output_type": "execute_result",
          "data": {
            "text/plain": [
              "[['James Cameron'],\n",
              " ['Gore Verbinski'],\n",
              " ['Sam Mendes'],\n",
              " ['Christopher Nolan'],\n",
              " ['Andrew Stanton'],\n",
              " ['Sam Raimi'],\n",
              " ['Byron Howard'],\n",
              " ['Joss Whedon'],\n",
              " ['David Yates'],\n",
              " ['Zack Snyder'],\n",
              " ['Bryan Singer'],\n",
              " ['Marc Forster'],\n",
              " ['Gore Verbinski'],\n",
              " ['Gore Verbinski'],\n",
              " ['Zack Snyder'],\n",
              " ['Andrew Adamson'],\n",
              " ['Joss Whedon'],\n",
              " ['Rob Marshall'],\n",
              " ['Barry Sonnenfeld'],\n",
              " ['Peter Jackson']]"
            ]
          },
          "metadata": {},
          "execution_count": 20
        }
      ],
      "metadata": {
        "id": "J8pQv4aw9X2y",
        "colab_type": "code",
        "colab": {
          "base_uri": "https://localhost:8080/",
          "height": 1000
        },
        "outputId": "84c4e003-3a02-4249-a686-ef3e9bf4e486"
      }
    },
    {
      "cell_type": "code",
      "execution_count": 21,
      "source": [
        "df['crew_list'] =pd.DataFrame(crew_list,columns=['crew_list'])"
      ],
      "outputs": [],
      "metadata": {
        "id": "vTLSYqU6-lf0",
        "colab_type": "code",
        "colab": {}
      }
    },
    {
      "cell_type": "code",
      "execution_count": 22,
      "source": [
        "df.head()"
      ],
      "outputs": [
        {
          "output_type": "execute_result",
          "data": {
            "text/html": [
              "<div>\n",
              "<style scoped>\n",
              "    .dataframe tbody tr th:only-of-type {\n",
              "        vertical-align: middle;\n",
              "    }\n",
              "\n",
              "    .dataframe tbody tr th {\n",
              "        vertical-align: top;\n",
              "    }\n",
              "\n",
              "    .dataframe thead th {\n",
              "        text-align: right;\n",
              "    }\n",
              "</style>\n",
              "<table border=\"1\" class=\"dataframe\">\n",
              "  <thead>\n",
              "    <tr style=\"text-align: right;\">\n",
              "      <th></th>\n",
              "      <th>genres</th>\n",
              "      <th>id</th>\n",
              "      <th>original_language</th>\n",
              "      <th>title</th>\n",
              "      <th>production_companies</th>\n",
              "      <th>overview</th>\n",
              "      <th>genre_list</th>\n",
              "      <th>cast_list</th>\n",
              "      <th>crew_list</th>\n",
              "    </tr>\n",
              "  </thead>\n",
              "  <tbody>\n",
              "    <tr>\n",
              "      <th>0</th>\n",
              "      <td>[{\"id\": 28, \"name\": \"Action\"}, {\"id\": 12, \"nam...</td>\n",
              "      <td>19995</td>\n",
              "      <td>en</td>\n",
              "      <td>Avatar</td>\n",
              "      <td>[{\"name\": \"Ingenious Film Partners\", \"id\": 289...</td>\n",
              "      <td>In the 22nd century, a paraplegic Marine is di...</td>\n",
              "      <td>Action Adventure Fantasy Science Fiction</td>\n",
              "      <td>Sam Worthington Zoe Saldana Sigourney Weaver</td>\n",
              "      <td>James Cameron</td>\n",
              "    </tr>\n",
              "    <tr>\n",
              "      <th>1</th>\n",
              "      <td>[{\"id\": 12, \"name\": \"Adventure\"}, {\"id\": 14, \"...</td>\n",
              "      <td>285</td>\n",
              "      <td>en</td>\n",
              "      <td>Pirates of the Caribbean: At World's End</td>\n",
              "      <td>[{\"name\": \"Walt Disney Pictures\", \"id\": 2}, {\"...</td>\n",
              "      <td>Captain Barbossa, long believed to be dead, ha...</td>\n",
              "      <td>Adventure Fantasy Action</td>\n",
              "      <td>Johnny Depp Orlando Bloom Keira Knightley</td>\n",
              "      <td>Gore Verbinski</td>\n",
              "    </tr>\n",
              "    <tr>\n",
              "      <th>2</th>\n",
              "      <td>[{\"id\": 28, \"name\": \"Action\"}, {\"id\": 12, \"nam...</td>\n",
              "      <td>206647</td>\n",
              "      <td>en</td>\n",
              "      <td>Spectre</td>\n",
              "      <td>[{\"name\": \"Columbia Pictures\", \"id\": 5}, {\"nam...</td>\n",
              "      <td>A cryptic message from Bond’s past sends him o...</td>\n",
              "      <td>Action Adventure Crime</td>\n",
              "      <td>Daniel Craig Christoph Waltz Léa Seydoux</td>\n",
              "      <td>Sam Mendes</td>\n",
              "    </tr>\n",
              "    <tr>\n",
              "      <th>3</th>\n",
              "      <td>[{\"id\": 28, \"name\": \"Action\"}, {\"id\": 80, \"nam...</td>\n",
              "      <td>49026</td>\n",
              "      <td>en</td>\n",
              "      <td>The Dark Knight Rises</td>\n",
              "      <td>[{\"name\": \"Legendary Pictures\", \"id\": 923}, {\"...</td>\n",
              "      <td>Following the death of District Attorney Harve...</td>\n",
              "      <td>Action Crime Drama Thriller</td>\n",
              "      <td>Christian Bale Michael Caine Gary Oldman</td>\n",
              "      <td>Christopher Nolan</td>\n",
              "    </tr>\n",
              "    <tr>\n",
              "      <th>4</th>\n",
              "      <td>[{\"id\": 28, \"name\": \"Action\"}, {\"id\": 12, \"nam...</td>\n",
              "      <td>49529</td>\n",
              "      <td>en</td>\n",
              "      <td>John Carter</td>\n",
              "      <td>[{\"name\": \"Walt Disney Pictures\", \"id\": 2}]</td>\n",
              "      <td>John Carter is a war-weary, former military ca...</td>\n",
              "      <td>Action Adventure Science Fiction</td>\n",
              "      <td>Taylor Kitsch Lynn Collins Samantha Morton</td>\n",
              "      <td>Andrew Stanton</td>\n",
              "    </tr>\n",
              "  </tbody>\n",
              "</table>\n",
              "</div>"
            ],
            "text/plain": [
              "                                              genres      id  \\\n",
              "0  [{\"id\": 28, \"name\": \"Action\"}, {\"id\": 12, \"nam...   19995   \n",
              "1  [{\"id\": 12, \"name\": \"Adventure\"}, {\"id\": 14, \"...     285   \n",
              "2  [{\"id\": 28, \"name\": \"Action\"}, {\"id\": 12, \"nam...  206647   \n",
              "3  [{\"id\": 28, \"name\": \"Action\"}, {\"id\": 80, \"nam...   49026   \n",
              "4  [{\"id\": 28, \"name\": \"Action\"}, {\"id\": 12, \"nam...   49529   \n",
              "\n",
              "  original_language                                     title  \\\n",
              "0                en                                    Avatar   \n",
              "1                en  Pirates of the Caribbean: At World's End   \n",
              "2                en                                   Spectre   \n",
              "3                en                     The Dark Knight Rises   \n",
              "4                en                               John Carter   \n",
              "\n",
              "                                production_companies  \\\n",
              "0  [{\"name\": \"Ingenious Film Partners\", \"id\": 289...   \n",
              "1  [{\"name\": \"Walt Disney Pictures\", \"id\": 2}, {\"...   \n",
              "2  [{\"name\": \"Columbia Pictures\", \"id\": 5}, {\"nam...   \n",
              "3  [{\"name\": \"Legendary Pictures\", \"id\": 923}, {\"...   \n",
              "4        [{\"name\": \"Walt Disney Pictures\", \"id\": 2}]   \n",
              "\n",
              "                                            overview  \\\n",
              "0  In the 22nd century, a paraplegic Marine is di...   \n",
              "1  Captain Barbossa, long believed to be dead, ha...   \n",
              "2  A cryptic message from Bond’s past sends him o...   \n",
              "3  Following the death of District Attorney Harve...   \n",
              "4  John Carter is a war-weary, former military ca...   \n",
              "\n",
              "                                  genre_list  \\\n",
              "0  Action Adventure Fantasy Science Fiction    \n",
              "1                  Adventure Fantasy Action    \n",
              "2                    Action Adventure Crime    \n",
              "3               Action Crime Drama Thriller    \n",
              "4          Action Adventure Science Fiction    \n",
              "\n",
              "                                       cast_list          crew_list  \n",
              "0  Sam Worthington Zoe Saldana Sigourney Weaver       James Cameron  \n",
              "1     Johnny Depp Orlando Bloom Keira Knightley      Gore Verbinski  \n",
              "2      Daniel Craig Christoph Waltz Léa Seydoux          Sam Mendes  \n",
              "3      Christian Bale Michael Caine Gary Oldman   Christopher Nolan  \n",
              "4    Taylor Kitsch Lynn Collins Samantha Morton      Andrew Stanton  "
            ]
          },
          "metadata": {},
          "execution_count": 22
        }
      ],
      "metadata": {
        "id": "BzU_BSrM-srf",
        "colab_type": "code",
        "colab": {
          "base_uri": "https://localhost:8080/",
          "height": 323
        },
        "outputId": "f48ffe06-d30d-4801-87e9-fa254982a131"
      }
    },
    {
      "cell_type": "code",
      "execution_count": 23,
      "source": [
        "df.isnull().sum()            # no empty values\r\n"
      ],
      "outputs": [
        {
          "output_type": "execute_result",
          "data": {
            "text/plain": [
              "genres                  0\n",
              "id                      0\n",
              "original_language       0\n",
              "title                   0\n",
              "production_companies    0\n",
              "overview                3\n",
              "genre_list              0\n",
              "cast_list               0\n",
              "crew_list               0\n",
              "dtype: int64"
            ]
          },
          "metadata": {},
          "execution_count": 23
        }
      ],
      "metadata": {
        "id": "2Ym-gE0G_Eam",
        "colab_type": "code",
        "colab": {
          "base_uri": "https://localhost:8080/",
          "height": 170
        },
        "outputId": "75ccd25d-72cc-4790-cf42-4decde9bc544"
      }
    },
    {
      "cell_type": "markdown",
      "source": [
        "### Now for companies.\n",
        "#### Companies are selected because of following reason.\n",
        "1) Mostly same production company will work for future movies and directors"
      ],
      "metadata": {}
    },
    {
      "cell_type": "code",
      "execution_count": 24,
      "source": [
        "comp_list=[]           # comp list\r\n",
        "for st in movies['production_companies']:\r\n",
        "  fst=json.loads(str(st))\r\n",
        "  x=\"\"\r\n",
        "  for i in fst:\r\n",
        "    if i['name']:\r\n",
        "      x=x+\"\".join(i['name'].split(' '))+\" \"\r\n",
        "  comp_list.append([x])\r\n",
        "\r\n",
        "    \r\n"
      ],
      "outputs": [],
      "metadata": {
        "id": "FUvKp9TQhCQj",
        "colab_type": "code",
        "colab": {}
      }
    },
    {
      "cell_type": "code",
      "execution_count": 25,
      "source": [
        "comp_list[:20]"
      ],
      "outputs": [
        {
          "output_type": "execute_result",
          "data": {
            "text/plain": [
              "[['IngeniousFilmPartners TwentiethCenturyFoxFilmCorporation DuneEntertainment LightstormEntertainment '],\n",
              " ['WaltDisneyPictures JerryBruckheimerFilms SecondMateProductions '],\n",
              " ['ColumbiaPictures Danjaq B24 '],\n",
              " ['LegendaryPictures WarnerBros. DCEntertainment Syncopy '],\n",
              " ['WaltDisneyPictures '],\n",
              " ['ColumbiaPictures LauraZiskinProductions MarvelEnterprises '],\n",
              " ['WaltDisneyPictures WaltDisneyAnimationStudios '],\n",
              " ['MarvelStudios PrimeFocus RevolutionSunStudios '],\n",
              " ['WarnerBros. HeydayFilms '],\n",
              " ['DCComics AtlasEntertainment WarnerBros. DCEntertainment Cruel&UnusualFilms RatPac-DuneEntertainment '],\n",
              " ['DCComics LegendaryPictures WarnerBros. BadHatHarryProductions '],\n",
              " ['EonProductions '],\n",
              " ['WaltDisneyPictures JerryBruckheimerFilms SecondMateProductions '],\n",
              " ['WaltDisneyPictures JerryBruckheimerFilms InfinitumNihil SilverBulletProductions(II) BlindWinkProductions ClassicMedia '],\n",
              " ['LegendaryPictures WarnerBros. DCEntertainment Syncopy CruelandUnusualFilms '],\n",
              " ['WaltDisney WaldenMedia StillkingFilms OzumiFilms Propeler SilverbellFilms RevolutionSunStudios '],\n",
              " ['ParamountPictures MarvelStudios '],\n",
              " ['WaltDisneyPictures JerryBruckheimerFilms MovingPictureCompany(MPC) '],\n",
              " ['AmblinEntertainment MediaMagikEntertainment ImagenationAbuDhabiFZ HemisphereMediaCapital Parkes/MacDonaldProductions '],\n",
              " ['WingNutFilms NewLineCinema WarnerBros.Pictures 3Foot7 Metro-Goldwyn-Mayer(MGM) ']]"
            ]
          },
          "metadata": {},
          "execution_count": 25
        }
      ],
      "metadata": {
        "id": "aJEomUWGj0WO",
        "colab_type": "code",
        "colab": {
          "base_uri": "https://localhost:8080/",
          "height": 1000
        },
        "outputId": "6f142a99-6528-4ec7-b089-64b4fc1f7de3"
      }
    },
    {
      "cell_type": "code",
      "execution_count": 26,
      "source": [
        "df['comp_list'] =pd.DataFrame(comp_list,columns=['comp_list'])"
      ],
      "outputs": [],
      "metadata": {
        "id": "rDOTbyjzA9VV",
        "colab_type": "code",
        "colab": {}
      }
    },
    {
      "cell_type": "code",
      "execution_count": 27,
      "source": [
        "df.head()"
      ],
      "outputs": [
        {
          "output_type": "execute_result",
          "data": {
            "text/html": [
              "<div>\n",
              "<style scoped>\n",
              "    .dataframe tbody tr th:only-of-type {\n",
              "        vertical-align: middle;\n",
              "    }\n",
              "\n",
              "    .dataframe tbody tr th {\n",
              "        vertical-align: top;\n",
              "    }\n",
              "\n",
              "    .dataframe thead th {\n",
              "        text-align: right;\n",
              "    }\n",
              "</style>\n",
              "<table border=\"1\" class=\"dataframe\">\n",
              "  <thead>\n",
              "    <tr style=\"text-align: right;\">\n",
              "      <th></th>\n",
              "      <th>genres</th>\n",
              "      <th>id</th>\n",
              "      <th>original_language</th>\n",
              "      <th>title</th>\n",
              "      <th>production_companies</th>\n",
              "      <th>overview</th>\n",
              "      <th>genre_list</th>\n",
              "      <th>cast_list</th>\n",
              "      <th>crew_list</th>\n",
              "      <th>comp_list</th>\n",
              "    </tr>\n",
              "  </thead>\n",
              "  <tbody>\n",
              "    <tr>\n",
              "      <th>0</th>\n",
              "      <td>[{\"id\": 28, \"name\": \"Action\"}, {\"id\": 12, \"nam...</td>\n",
              "      <td>19995</td>\n",
              "      <td>en</td>\n",
              "      <td>Avatar</td>\n",
              "      <td>[{\"name\": \"Ingenious Film Partners\", \"id\": 289...</td>\n",
              "      <td>In the 22nd century, a paraplegic Marine is di...</td>\n",
              "      <td>Action Adventure Fantasy Science Fiction</td>\n",
              "      <td>Sam Worthington Zoe Saldana Sigourney Weaver</td>\n",
              "      <td>James Cameron</td>\n",
              "      <td>IngeniousFilmPartners TwentiethCenturyFoxFilmC...</td>\n",
              "    </tr>\n",
              "    <tr>\n",
              "      <th>1</th>\n",
              "      <td>[{\"id\": 12, \"name\": \"Adventure\"}, {\"id\": 14, \"...</td>\n",
              "      <td>285</td>\n",
              "      <td>en</td>\n",
              "      <td>Pirates of the Caribbean: At World's End</td>\n",
              "      <td>[{\"name\": \"Walt Disney Pictures\", \"id\": 2}, {\"...</td>\n",
              "      <td>Captain Barbossa, long believed to be dead, ha...</td>\n",
              "      <td>Adventure Fantasy Action</td>\n",
              "      <td>Johnny Depp Orlando Bloom Keira Knightley</td>\n",
              "      <td>Gore Verbinski</td>\n",
              "      <td>WaltDisneyPictures JerryBruckheimerFilms Secon...</td>\n",
              "    </tr>\n",
              "    <tr>\n",
              "      <th>2</th>\n",
              "      <td>[{\"id\": 28, \"name\": \"Action\"}, {\"id\": 12, \"nam...</td>\n",
              "      <td>206647</td>\n",
              "      <td>en</td>\n",
              "      <td>Spectre</td>\n",
              "      <td>[{\"name\": \"Columbia Pictures\", \"id\": 5}, {\"nam...</td>\n",
              "      <td>A cryptic message from Bond’s past sends him o...</td>\n",
              "      <td>Action Adventure Crime</td>\n",
              "      <td>Daniel Craig Christoph Waltz Léa Seydoux</td>\n",
              "      <td>Sam Mendes</td>\n",
              "      <td>ColumbiaPictures Danjaq B24</td>\n",
              "    </tr>\n",
              "    <tr>\n",
              "      <th>3</th>\n",
              "      <td>[{\"id\": 28, \"name\": \"Action\"}, {\"id\": 80, \"nam...</td>\n",
              "      <td>49026</td>\n",
              "      <td>en</td>\n",
              "      <td>The Dark Knight Rises</td>\n",
              "      <td>[{\"name\": \"Legendary Pictures\", \"id\": 923}, {\"...</td>\n",
              "      <td>Following the death of District Attorney Harve...</td>\n",
              "      <td>Action Crime Drama Thriller</td>\n",
              "      <td>Christian Bale Michael Caine Gary Oldman</td>\n",
              "      <td>Christopher Nolan</td>\n",
              "      <td>LegendaryPictures WarnerBros. DCEntertainment ...</td>\n",
              "    </tr>\n",
              "    <tr>\n",
              "      <th>4</th>\n",
              "      <td>[{\"id\": 28, \"name\": \"Action\"}, {\"id\": 12, \"nam...</td>\n",
              "      <td>49529</td>\n",
              "      <td>en</td>\n",
              "      <td>John Carter</td>\n",
              "      <td>[{\"name\": \"Walt Disney Pictures\", \"id\": 2}]</td>\n",
              "      <td>John Carter is a war-weary, former military ca...</td>\n",
              "      <td>Action Adventure Science Fiction</td>\n",
              "      <td>Taylor Kitsch Lynn Collins Samantha Morton</td>\n",
              "      <td>Andrew Stanton</td>\n",
              "      <td>WaltDisneyPictures</td>\n",
              "    </tr>\n",
              "  </tbody>\n",
              "</table>\n",
              "</div>"
            ],
            "text/plain": [
              "                                              genres      id  \\\n",
              "0  [{\"id\": 28, \"name\": \"Action\"}, {\"id\": 12, \"nam...   19995   \n",
              "1  [{\"id\": 12, \"name\": \"Adventure\"}, {\"id\": 14, \"...     285   \n",
              "2  [{\"id\": 28, \"name\": \"Action\"}, {\"id\": 12, \"nam...  206647   \n",
              "3  [{\"id\": 28, \"name\": \"Action\"}, {\"id\": 80, \"nam...   49026   \n",
              "4  [{\"id\": 28, \"name\": \"Action\"}, {\"id\": 12, \"nam...   49529   \n",
              "\n",
              "  original_language                                     title  \\\n",
              "0                en                                    Avatar   \n",
              "1                en  Pirates of the Caribbean: At World's End   \n",
              "2                en                                   Spectre   \n",
              "3                en                     The Dark Knight Rises   \n",
              "4                en                               John Carter   \n",
              "\n",
              "                                production_companies  \\\n",
              "0  [{\"name\": \"Ingenious Film Partners\", \"id\": 289...   \n",
              "1  [{\"name\": \"Walt Disney Pictures\", \"id\": 2}, {\"...   \n",
              "2  [{\"name\": \"Columbia Pictures\", \"id\": 5}, {\"nam...   \n",
              "3  [{\"name\": \"Legendary Pictures\", \"id\": 923}, {\"...   \n",
              "4        [{\"name\": \"Walt Disney Pictures\", \"id\": 2}]   \n",
              "\n",
              "                                            overview  \\\n",
              "0  In the 22nd century, a paraplegic Marine is di...   \n",
              "1  Captain Barbossa, long believed to be dead, ha...   \n",
              "2  A cryptic message from Bond’s past sends him o...   \n",
              "3  Following the death of District Attorney Harve...   \n",
              "4  John Carter is a war-weary, former military ca...   \n",
              "\n",
              "                                  genre_list  \\\n",
              "0  Action Adventure Fantasy Science Fiction    \n",
              "1                  Adventure Fantasy Action    \n",
              "2                    Action Adventure Crime    \n",
              "3               Action Crime Drama Thriller    \n",
              "4          Action Adventure Science Fiction    \n",
              "\n",
              "                                       cast_list          crew_list  \\\n",
              "0  Sam Worthington Zoe Saldana Sigourney Weaver       James Cameron   \n",
              "1     Johnny Depp Orlando Bloom Keira Knightley      Gore Verbinski   \n",
              "2      Daniel Craig Christoph Waltz Léa Seydoux          Sam Mendes   \n",
              "3      Christian Bale Michael Caine Gary Oldman   Christopher Nolan   \n",
              "4    Taylor Kitsch Lynn Collins Samantha Morton      Andrew Stanton   \n",
              "\n",
              "                                           comp_list  \n",
              "0  IngeniousFilmPartners TwentiethCenturyFoxFilmC...  \n",
              "1  WaltDisneyPictures JerryBruckheimerFilms Secon...  \n",
              "2                       ColumbiaPictures Danjaq B24   \n",
              "3  LegendaryPictures WarnerBros. DCEntertainment ...  \n",
              "4                                WaltDisneyPictures   "
            ]
          },
          "metadata": {},
          "execution_count": 27
        }
      ],
      "metadata": {
        "id": "KCTL5OCwBmm7",
        "colab_type": "code",
        "colab": {
          "base_uri": "https://localhost:8080/",
          "height": 374
        },
        "outputId": "faccf48c-74ed-42af-d2fb-7983bd2d0d2d"
      }
    },
    {
      "cell_type": "markdown",
      "source": [
        "#### dropping JSON data"
      ],
      "metadata": {}
    },
    {
      "cell_type": "code",
      "execution_count": 28,
      "source": [
        "df.drop(['genres','production_companies'],inplace=True,axis=1)"
      ],
      "outputs": [],
      "metadata": {
        "id": "TclTTWnlBoan",
        "colab_type": "code",
        "colab": {}
      }
    },
    {
      "cell_type": "code",
      "execution_count": 29,
      "source": [
        "df.head()\r\n"
      ],
      "outputs": [
        {
          "output_type": "execute_result",
          "data": {
            "text/html": [
              "<div>\n",
              "<style scoped>\n",
              "    .dataframe tbody tr th:only-of-type {\n",
              "        vertical-align: middle;\n",
              "    }\n",
              "\n",
              "    .dataframe tbody tr th {\n",
              "        vertical-align: top;\n",
              "    }\n",
              "\n",
              "    .dataframe thead th {\n",
              "        text-align: right;\n",
              "    }\n",
              "</style>\n",
              "<table border=\"1\" class=\"dataframe\">\n",
              "  <thead>\n",
              "    <tr style=\"text-align: right;\">\n",
              "      <th></th>\n",
              "      <th>id</th>\n",
              "      <th>original_language</th>\n",
              "      <th>title</th>\n",
              "      <th>overview</th>\n",
              "      <th>genre_list</th>\n",
              "      <th>cast_list</th>\n",
              "      <th>crew_list</th>\n",
              "      <th>comp_list</th>\n",
              "    </tr>\n",
              "  </thead>\n",
              "  <tbody>\n",
              "    <tr>\n",
              "      <th>0</th>\n",
              "      <td>19995</td>\n",
              "      <td>en</td>\n",
              "      <td>Avatar</td>\n",
              "      <td>In the 22nd century, a paraplegic Marine is di...</td>\n",
              "      <td>Action Adventure Fantasy Science Fiction</td>\n",
              "      <td>Sam Worthington Zoe Saldana Sigourney Weaver</td>\n",
              "      <td>James Cameron</td>\n",
              "      <td>IngeniousFilmPartners TwentiethCenturyFoxFilmC...</td>\n",
              "    </tr>\n",
              "    <tr>\n",
              "      <th>1</th>\n",
              "      <td>285</td>\n",
              "      <td>en</td>\n",
              "      <td>Pirates of the Caribbean: At World's End</td>\n",
              "      <td>Captain Barbossa, long believed to be dead, ha...</td>\n",
              "      <td>Adventure Fantasy Action</td>\n",
              "      <td>Johnny Depp Orlando Bloom Keira Knightley</td>\n",
              "      <td>Gore Verbinski</td>\n",
              "      <td>WaltDisneyPictures JerryBruckheimerFilms Secon...</td>\n",
              "    </tr>\n",
              "    <tr>\n",
              "      <th>2</th>\n",
              "      <td>206647</td>\n",
              "      <td>en</td>\n",
              "      <td>Spectre</td>\n",
              "      <td>A cryptic message from Bond’s past sends him o...</td>\n",
              "      <td>Action Adventure Crime</td>\n",
              "      <td>Daniel Craig Christoph Waltz Léa Seydoux</td>\n",
              "      <td>Sam Mendes</td>\n",
              "      <td>ColumbiaPictures Danjaq B24</td>\n",
              "    </tr>\n",
              "    <tr>\n",
              "      <th>3</th>\n",
              "      <td>49026</td>\n",
              "      <td>en</td>\n",
              "      <td>The Dark Knight Rises</td>\n",
              "      <td>Following the death of District Attorney Harve...</td>\n",
              "      <td>Action Crime Drama Thriller</td>\n",
              "      <td>Christian Bale Michael Caine Gary Oldman</td>\n",
              "      <td>Christopher Nolan</td>\n",
              "      <td>LegendaryPictures WarnerBros. DCEntertainment ...</td>\n",
              "    </tr>\n",
              "    <tr>\n",
              "      <th>4</th>\n",
              "      <td>49529</td>\n",
              "      <td>en</td>\n",
              "      <td>John Carter</td>\n",
              "      <td>John Carter is a war-weary, former military ca...</td>\n",
              "      <td>Action Adventure Science Fiction</td>\n",
              "      <td>Taylor Kitsch Lynn Collins Samantha Morton</td>\n",
              "      <td>Andrew Stanton</td>\n",
              "      <td>WaltDisneyPictures</td>\n",
              "    </tr>\n",
              "  </tbody>\n",
              "</table>\n",
              "</div>"
            ],
            "text/plain": [
              "       id original_language                                     title  \\\n",
              "0   19995                en                                    Avatar   \n",
              "1     285                en  Pirates of the Caribbean: At World's End   \n",
              "2  206647                en                                   Spectre   \n",
              "3   49026                en                     The Dark Knight Rises   \n",
              "4   49529                en                               John Carter   \n",
              "\n",
              "                                            overview  \\\n",
              "0  In the 22nd century, a paraplegic Marine is di...   \n",
              "1  Captain Barbossa, long believed to be dead, ha...   \n",
              "2  A cryptic message from Bond’s past sends him o...   \n",
              "3  Following the death of District Attorney Harve...   \n",
              "4  John Carter is a war-weary, former military ca...   \n",
              "\n",
              "                                  genre_list  \\\n",
              "0  Action Adventure Fantasy Science Fiction    \n",
              "1                  Adventure Fantasy Action    \n",
              "2                    Action Adventure Crime    \n",
              "3               Action Crime Drama Thriller    \n",
              "4          Action Adventure Science Fiction    \n",
              "\n",
              "                                       cast_list          crew_list  \\\n",
              "0  Sam Worthington Zoe Saldana Sigourney Weaver       James Cameron   \n",
              "1     Johnny Depp Orlando Bloom Keira Knightley      Gore Verbinski   \n",
              "2      Daniel Craig Christoph Waltz Léa Seydoux          Sam Mendes   \n",
              "3      Christian Bale Michael Caine Gary Oldman   Christopher Nolan   \n",
              "4    Taylor Kitsch Lynn Collins Samantha Morton      Andrew Stanton   \n",
              "\n",
              "                                           comp_list  \n",
              "0  IngeniousFilmPartners TwentiethCenturyFoxFilmC...  \n",
              "1  WaltDisneyPictures JerryBruckheimerFilms Secon...  \n",
              "2                       ColumbiaPictures Danjaq B24   \n",
              "3  LegendaryPictures WarnerBros. DCEntertainment ...  \n",
              "4                                WaltDisneyPictures   "
            ]
          },
          "metadata": {},
          "execution_count": 29
        }
      ],
      "metadata": {
        "id": "IkW-7zv0B3Cb",
        "colab_type": "code",
        "colab": {
          "base_uri": "https://localhost:8080/",
          "height": 289
        },
        "outputId": "ca6d2dde-78c0-4738-b15a-44478009bc77"
      }
    },
    {
      "cell_type": "code",
      "execution_count": 30,
      "source": [
        "df.columns"
      ],
      "outputs": [
        {
          "output_type": "execute_result",
          "data": {
            "text/plain": [
              "Index(['id', 'original_language', 'title', 'overview', 'genre_list',\n",
              "       'cast_list', 'crew_list', 'comp_list'],\n",
              "      dtype='object')"
            ]
          },
          "metadata": {},
          "execution_count": 30
        }
      ],
      "metadata": {}
    },
    {
      "cell_type": "code",
      "execution_count": 31,
      "source": [
        "df_comb =df.copy()"
      ],
      "outputs": [],
      "metadata": {
        "id": "pZdhIMrDHR9G",
        "colab_type": "code",
        "colab": {}
      }
    },
    {
      "cell_type": "code",
      "execution_count": 32,
      "source": [
        "df_comb"
      ],
      "outputs": [
        {
          "output_type": "execute_result",
          "data": {
            "text/html": [
              "<div>\n",
              "<style scoped>\n",
              "    .dataframe tbody tr th:only-of-type {\n",
              "        vertical-align: middle;\n",
              "    }\n",
              "\n",
              "    .dataframe tbody tr th {\n",
              "        vertical-align: top;\n",
              "    }\n",
              "\n",
              "    .dataframe thead th {\n",
              "        text-align: right;\n",
              "    }\n",
              "</style>\n",
              "<table border=\"1\" class=\"dataframe\">\n",
              "  <thead>\n",
              "    <tr style=\"text-align: right;\">\n",
              "      <th></th>\n",
              "      <th>id</th>\n",
              "      <th>original_language</th>\n",
              "      <th>title</th>\n",
              "      <th>overview</th>\n",
              "      <th>genre_list</th>\n",
              "      <th>cast_list</th>\n",
              "      <th>crew_list</th>\n",
              "      <th>comp_list</th>\n",
              "    </tr>\n",
              "  </thead>\n",
              "  <tbody>\n",
              "    <tr>\n",
              "      <th>0</th>\n",
              "      <td>19995</td>\n",
              "      <td>en</td>\n",
              "      <td>Avatar</td>\n",
              "      <td>In the 22nd century, a paraplegic Marine is di...</td>\n",
              "      <td>Action Adventure Fantasy Science Fiction</td>\n",
              "      <td>Sam Worthington Zoe Saldana Sigourney Weaver</td>\n",
              "      <td>James Cameron</td>\n",
              "      <td>IngeniousFilmPartners TwentiethCenturyFoxFilmC...</td>\n",
              "    </tr>\n",
              "    <tr>\n",
              "      <th>1</th>\n",
              "      <td>285</td>\n",
              "      <td>en</td>\n",
              "      <td>Pirates of the Caribbean: At World's End</td>\n",
              "      <td>Captain Barbossa, long believed to be dead, ha...</td>\n",
              "      <td>Adventure Fantasy Action</td>\n",
              "      <td>Johnny Depp Orlando Bloom Keira Knightley</td>\n",
              "      <td>Gore Verbinski</td>\n",
              "      <td>WaltDisneyPictures JerryBruckheimerFilms Secon...</td>\n",
              "    </tr>\n",
              "    <tr>\n",
              "      <th>2</th>\n",
              "      <td>206647</td>\n",
              "      <td>en</td>\n",
              "      <td>Spectre</td>\n",
              "      <td>A cryptic message from Bond’s past sends him o...</td>\n",
              "      <td>Action Adventure Crime</td>\n",
              "      <td>Daniel Craig Christoph Waltz Léa Seydoux</td>\n",
              "      <td>Sam Mendes</td>\n",
              "      <td>ColumbiaPictures Danjaq B24</td>\n",
              "    </tr>\n",
              "    <tr>\n",
              "      <th>3</th>\n",
              "      <td>49026</td>\n",
              "      <td>en</td>\n",
              "      <td>The Dark Knight Rises</td>\n",
              "      <td>Following the death of District Attorney Harve...</td>\n",
              "      <td>Action Crime Drama Thriller</td>\n",
              "      <td>Christian Bale Michael Caine Gary Oldman</td>\n",
              "      <td>Christopher Nolan</td>\n",
              "      <td>LegendaryPictures WarnerBros. DCEntertainment ...</td>\n",
              "    </tr>\n",
              "    <tr>\n",
              "      <th>4</th>\n",
              "      <td>49529</td>\n",
              "      <td>en</td>\n",
              "      <td>John Carter</td>\n",
              "      <td>John Carter is a war-weary, former military ca...</td>\n",
              "      <td>Action Adventure Science Fiction</td>\n",
              "      <td>Taylor Kitsch Lynn Collins Samantha Morton</td>\n",
              "      <td>Andrew Stanton</td>\n",
              "      <td>WaltDisneyPictures</td>\n",
              "    </tr>\n",
              "    <tr>\n",
              "      <th>...</th>\n",
              "      <td>...</td>\n",
              "      <td>...</td>\n",
              "      <td>...</td>\n",
              "      <td>...</td>\n",
              "      <td>...</td>\n",
              "      <td>...</td>\n",
              "      <td>...</td>\n",
              "      <td>...</td>\n",
              "    </tr>\n",
              "    <tr>\n",
              "      <th>4798</th>\n",
              "      <td>9367</td>\n",
              "      <td>es</td>\n",
              "      <td>El Mariachi</td>\n",
              "      <td>El Mariachi just wants to play his guitar and ...</td>\n",
              "      <td>Action Crime Thriller</td>\n",
              "      <td>Carlos Gallardo Jaime de Hoyos Peter Marquardt</td>\n",
              "      <td>Robert Rodriguez</td>\n",
              "      <td>ColumbiaPictures</td>\n",
              "    </tr>\n",
              "    <tr>\n",
              "      <th>4799</th>\n",
              "      <td>72766</td>\n",
              "      <td>en</td>\n",
              "      <td>Newlyweds</td>\n",
              "      <td>A newlywed couple's honeymoon is upended by th...</td>\n",
              "      <td>Comedy Romance</td>\n",
              "      <td>Edward Burns Kerry Bishé Marsha Dietlein</td>\n",
              "      <td>Edward Burns</td>\n",
              "      <td></td>\n",
              "    </tr>\n",
              "    <tr>\n",
              "      <th>4800</th>\n",
              "      <td>231617</td>\n",
              "      <td>en</td>\n",
              "      <td>Signed, Sealed, Delivered</td>\n",
              "      <td>\"Signed, Sealed, Delivered\" introduces a dedic...</td>\n",
              "      <td>Comedy Drama Romance TV Movie</td>\n",
              "      <td>Eric Mabius Kristin Booth Crystal Lowe</td>\n",
              "      <td>Scott Smith</td>\n",
              "      <td>FrontStreetPictures MuseEntertainmentEnterprises</td>\n",
              "    </tr>\n",
              "    <tr>\n",
              "      <th>4801</th>\n",
              "      <td>126186</td>\n",
              "      <td>en</td>\n",
              "      <td>Shanghai Calling</td>\n",
              "      <td>When ambitious New York attorney Sam is sent t...</td>\n",
              "      <td>nan</td>\n",
              "      <td>Daniel Henney Eliza Coupe Bill Paxton</td>\n",
              "      <td>Daniel Hsia</td>\n",
              "      <td></td>\n",
              "    </tr>\n",
              "    <tr>\n",
              "      <th>4802</th>\n",
              "      <td>25975</td>\n",
              "      <td>en</td>\n",
              "      <td>My Date with Drew</td>\n",
              "      <td>Ever since the second grade when he first saw ...</td>\n",
              "      <td>Documentary</td>\n",
              "      <td>Drew Barrymore Brian Herzlinger Corey Feldman</td>\n",
              "      <td>Brian Herzlinger</td>\n",
              "      <td>rustybearentertainment luckycrowfilms</td>\n",
              "    </tr>\n",
              "  </tbody>\n",
              "</table>\n",
              "<p>4803 rows × 8 columns</p>\n",
              "</div>"
            ],
            "text/plain": [
              "          id original_language                                     title  \\\n",
              "0      19995                en                                    Avatar   \n",
              "1        285                en  Pirates of the Caribbean: At World's End   \n",
              "2     206647                en                                   Spectre   \n",
              "3      49026                en                     The Dark Knight Rises   \n",
              "4      49529                en                               John Carter   \n",
              "...      ...               ...                                       ...   \n",
              "4798    9367                es                               El Mariachi   \n",
              "4799   72766                en                                 Newlyweds   \n",
              "4800  231617                en                 Signed, Sealed, Delivered   \n",
              "4801  126186                en                          Shanghai Calling   \n",
              "4802   25975                en                         My Date with Drew   \n",
              "\n",
              "                                               overview  \\\n",
              "0     In the 22nd century, a paraplegic Marine is di...   \n",
              "1     Captain Barbossa, long believed to be dead, ha...   \n",
              "2     A cryptic message from Bond’s past sends him o...   \n",
              "3     Following the death of District Attorney Harve...   \n",
              "4     John Carter is a war-weary, former military ca...   \n",
              "...                                                 ...   \n",
              "4798  El Mariachi just wants to play his guitar and ...   \n",
              "4799  A newlywed couple's honeymoon is upended by th...   \n",
              "4800  \"Signed, Sealed, Delivered\" introduces a dedic...   \n",
              "4801  When ambitious New York attorney Sam is sent t...   \n",
              "4802  Ever since the second grade when he first saw ...   \n",
              "\n",
              "                                     genre_list  \\\n",
              "0     Action Adventure Fantasy Science Fiction    \n",
              "1                     Adventure Fantasy Action    \n",
              "2                       Action Adventure Crime    \n",
              "3                  Action Crime Drama Thriller    \n",
              "4             Action Adventure Science Fiction    \n",
              "...                                         ...   \n",
              "4798                     Action Crime Thriller    \n",
              "4799                            Comedy Romance    \n",
              "4800             Comedy Drama Romance TV Movie    \n",
              "4801                                        nan   \n",
              "4802                               Documentary    \n",
              "\n",
              "                                            cast_list          crew_list  \\\n",
              "0       Sam Worthington Zoe Saldana Sigourney Weaver       James Cameron   \n",
              "1          Johnny Depp Orlando Bloom Keira Knightley      Gore Verbinski   \n",
              "2           Daniel Craig Christoph Waltz Léa Seydoux          Sam Mendes   \n",
              "3           Christian Bale Michael Caine Gary Oldman   Christopher Nolan   \n",
              "4         Taylor Kitsch Lynn Collins Samantha Morton      Andrew Stanton   \n",
              "...                                               ...                ...   \n",
              "4798  Carlos Gallardo Jaime de Hoyos Peter Marquardt    Robert Rodriguez   \n",
              "4799        Edward Burns Kerry Bishé Marsha Dietlein        Edward Burns   \n",
              "4800          Eric Mabius Kristin Booth Crystal Lowe         Scott Smith   \n",
              "4801           Daniel Henney Eliza Coupe Bill Paxton         Daniel Hsia   \n",
              "4802   Drew Barrymore Brian Herzlinger Corey Feldman    Brian Herzlinger   \n",
              "\n",
              "                                              comp_list  \n",
              "0     IngeniousFilmPartners TwentiethCenturyFoxFilmC...  \n",
              "1     WaltDisneyPictures JerryBruckheimerFilms Secon...  \n",
              "2                          ColumbiaPictures Danjaq B24   \n",
              "3     LegendaryPictures WarnerBros. DCEntertainment ...  \n",
              "4                                   WaltDisneyPictures   \n",
              "...                                                 ...  \n",
              "4798                                  ColumbiaPictures   \n",
              "4799                                                     \n",
              "4800  FrontStreetPictures MuseEntertainmentEnterprises   \n",
              "4801                                                     \n",
              "4802             rustybearentertainment luckycrowfilms   \n",
              "\n",
              "[4803 rows x 8 columns]"
            ]
          },
          "metadata": {},
          "execution_count": 32
        }
      ],
      "metadata": {
        "id": "kXW0V6JmHZ7a",
        "colab_type": "code",
        "colab": {
          "base_uri": "https://localhost:8080/",
          "height": 725
        },
        "outputId": "cdd9ea66-9591-421d-838b-0ba0340a22b6"
      }
    },
    {
      "cell_type": "markdown",
      "source": [
        "### Combining columns to use a single string. It will help to produce vector easily further for similarity"
      ],
      "metadata": {}
    },
    {
      "cell_type": "code",
      "execution_count": 33,
      "source": [
        "df_comb['comb'] =df_comb['genre_list']+df_comb['cast_list']+df_comb['crew_list']+df_comb['original_language']"
      ],
      "outputs": [],
      "metadata": {
        "id": "3dwaHAagHbm3",
        "colab_type": "code",
        "colab": {}
      }
    },
    {
      "cell_type": "markdown",
      "source": [
        "## We will use bag of words for converting words to vectors and the applying cosine similarity"
      ],
      "metadata": {}
    },
    {
      "cell_type": "code",
      "execution_count": 34,
      "source": [
        "from sklearn.feature_extraction.text import CountVectorizer\r\n",
        "from sklearn.metrics.pairwise import cosine_similarity\r\n",
        "import numpy as np\r\n"
      ],
      "outputs": [],
      "metadata": {
        "id": "k1OVdhP_H1hi",
        "colab_type": "code",
        "colab": {}
      }
    },
    {
      "cell_type": "code",
      "execution_count": 35,
      "source": [
        "cv=CountVectorizer()\r\n",
        "count_matrix = cv.fit_transform(df_comb['comb'])"
      ],
      "outputs": [],
      "metadata": {
        "id": "or7cLaoZH3uV",
        "colab_type": "code",
        "colab": {}
      }
    },
    {
      "cell_type": "code",
      "execution_count": 36,
      "source": [
        "similarity =cosine_similarity(count_matrix)"
      ],
      "outputs": [],
      "metadata": {
        "id": "cZZMBT41LNb6",
        "colab_type": "code",
        "colab": {}
      }
    },
    {
      "cell_type": "markdown",
      "source": [
        "## Finally Let's built a function for recommending movies using similarity"
      ],
      "metadata": {}
    },
    {
      "cell_type": "code",
      "execution_count": 37,
      "source": [
        "def recommend(movie):\r\n",
        "  i=df_comb.loc[df_comb['title']==movie].index[0]\r\n",
        "  List =list(enumerate(similarity[i]))\r\n",
        "  List_sorted =sorted(List,reverse=True,key=lambda x:x[1])\r\n",
        "  Final_list=List_sorted[1:15]        # 1:15 because 0 will be the movie itself because of 1 correlation.\r\n",
        "  recommend_list =[]\r\n",
        "  for i in range(len(Final_list)):\r\n",
        "    a=Final_list[i][0]\r\n",
        "    recommend_list.append(df_comb['title'][a])\r\n",
        "\r\n",
        "  return recommend_list\r\n"
      ],
      "outputs": [],
      "metadata": {
        "id": "9s0y7RWDMtr5",
        "colab_type": "code",
        "colab": {}
      }
    },
    {
      "cell_type": "markdown",
      "source": [
        "#### Let's  see for skyfall"
      ],
      "metadata": {}
    },
    {
      "cell_type": "code",
      "execution_count": 38,
      "source": [
        "my_movies = recommend(\"Skyfall\")\r\n",
        "for m in my_movies:\r\n",
        "  print(m)"
      ],
      "outputs": [
        {
          "output_type": "stream",
          "name": "stdout",
          "text": [
            "Spectre\n",
            "Casino Royale\n",
            "Quantum of Solace\n",
            "Munich\n",
            "Jurassic Park III\n",
            "Action Jackson\n",
            "Safe House\n",
            "Road House\n",
            "Spider-Man 3\n",
            "The Golden Compass\n",
            "Spider-Man 2\n",
            "Terminator Salvation\n",
            "Mission: Impossible - Rogue Nation\n",
            "Mission: Impossible III\n"
          ]
        }
      ],
      "metadata": {
        "id": "K4ihaXCAQ5Se",
        "colab_type": "code",
        "colab": {
          "base_uri": "https://localhost:8080/",
          "height": 255
        },
        "outputId": "64e0db0f-f053-4006-948d-48acb8930920",
        "tags": []
      }
    },
    {
      "cell_type": "markdown",
      "source": [
        "### It works!!!!! \n",
        "### Now Let's check for Pirates of the Caribbean: At World's End"
      ],
      "metadata": {}
    },
    {
      "cell_type": "code",
      "execution_count": 39,
      "source": [
        "my_movies = recommend(\"Pirates of the Caribbean: At World's End\")\r\n",
        "for m in my_movies:\r\n",
        "  print(m)"
      ],
      "outputs": [
        {
          "output_type": "stream",
          "name": "stdout",
          "text": [
            "Pirates of the Caribbean: Dead Man's Chest\n",
            "Pirates of the Caribbean: The Curse of the Black Pearl\n",
            "The Lone Ranger\n",
            "Pirates of the Caribbean: On Stranger Tides\n",
            "Rango\n",
            "Alice in Wonderland\n",
            "The Three Musketeers\n",
            "The Imaginarium of Doctor Parnassus\n",
            "Charlie and the Chocolate Factory\n",
            "Kingdom of Heaven\n",
            "Alice Through the Looking Glass\n",
            "Once Upon a Time in Mexico\n",
            "Mortdecai\n",
            "Domino\n"
          ]
        }
      ],
      "metadata": {
        "tags": []
      }
    },
    {
      "cell_type": "code",
      "execution_count": 40,
      "source": [
        "df_comb.to_csv('Dataset/movie_data_before_2017.csv',index=False)"
      ],
      "outputs": [],
      "metadata": {
        "id": "62UV6ocpRFbC",
        "colab_type": "code",
        "colab": {}
      }
    }
  ]
}