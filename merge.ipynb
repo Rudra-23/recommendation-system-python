{
 "cells": [
  {
   "cell_type": "markdown",
   "source": [
    "# This module presents merging of movies released after 2017 till 2019"
   ],
   "metadata": {}
  },
  {
   "cell_type": "code",
   "execution_count": 1,
   "source": [
    "import pandas as pd\r\n",
    "\r\n",
    "df17= pd.read_csv('2017m1.csv')\r\n",
    "df18 =pd.read_csv('2018m1.csv')\r\n",
    "df19 =pd.read_csv('2019m1.csv')"
   ],
   "outputs": [],
   "metadata": {}
  },
  {
   "cell_type": "markdown",
   "source": [
    "### Importing data of 2017-19 movies"
   ],
   "metadata": {}
  },
  {
   "cell_type": "code",
   "execution_count": 2,
   "source": [
    "df17.drop('Unnamed: 0',axis=1,inplace =True)\r\n",
    "df18.drop('Unnamed: 0',axis=1,inplace =True)\r\n",
    "df19.drop('Unnamed: 0',axis=1,inplace =True)\r\n"
   ],
   "outputs": [],
   "metadata": {}
  },
  {
   "cell_type": "markdown",
   "source": [
    "# 2017 movie List"
   ],
   "metadata": {}
  },
  {
   "cell_type": "code",
   "execution_count": 3,
   "source": [
    "df17.head()"
   ],
   "outputs": [
    {
     "output_type": "execute_result",
     "data": {
      "text/html": [
       "<div>\n",
       "<style scoped>\n",
       "    .dataframe tbody tr th:only-of-type {\n",
       "        vertical-align: middle;\n",
       "    }\n",
       "\n",
       "    .dataframe tbody tr th {\n",
       "        vertical-align: top;\n",
       "    }\n",
       "\n",
       "    .dataframe thead th {\n",
       "        text-align: right;\n",
       "    }\n",
       "</style>\n",
       "<table border=\"1\" class=\"dataframe\">\n",
       "  <thead>\n",
       "    <tr style=\"text-align: right;\">\n",
       "      <th></th>\n",
       "      <th>title</th>\n",
       "      <th>genre</th>\n",
       "      <th>overview</th>\n",
       "      <th>cast</th>\n",
       "      <th>director</th>\n",
       "      <th>lang</th>\n",
       "      <th>comp</th>\n",
       "    </tr>\n",
       "  </thead>\n",
       "  <tbody>\n",
       "    <tr>\n",
       "      <th>0</th>\n",
       "      <td>Kingsman: The Golden Circle</td>\n",
       "      <td>Action, Adventure, Comedy</td>\n",
       "      <td>After the Kingsman's headquarters are destroye...</td>\n",
       "      <td>Taron Egerton Colin Firth Mark Strong Channing...</td>\n",
       "      <td>Matthew Vaughn</td>\n",
       "      <td>en</td>\n",
       "      <td>unknown</td>\n",
       "    </tr>\n",
       "    <tr>\n",
       "      <th>1</th>\n",
       "      <td>Blade Runner 2049</td>\n",
       "      <td>Action, Drama, Mystery</td>\n",
       "      <td>Young Blade Runner K's discovery of a long-bur...</td>\n",
       "      <td>Harrison Ford Ryan Gosling Ana de Armas Dave B...</td>\n",
       "      <td>Denis Villeneuve</td>\n",
       "      <td>en</td>\n",
       "      <td>unknown</td>\n",
       "    </tr>\n",
       "    <tr>\n",
       "      <th>2</th>\n",
       "      <td>Dunkirk</td>\n",
       "      <td>Action, Drama, History</td>\n",
       "      <td>Allied soldiers from Belgium, the British Empi...</td>\n",
       "      <td>Fionn Whitehead Barry Keoghan Mark Rylance Tom...</td>\n",
       "      <td>Christopher Nolan</td>\n",
       "      <td>en</td>\n",
       "      <td>unknown</td>\n",
       "    </tr>\n",
       "    <tr>\n",
       "      <th>3</th>\n",
       "      <td>Thor: Ragnarok</td>\n",
       "      <td>Action, Adventure, Comedy</td>\n",
       "      <td>Imprisoned on the planet Sakaar, Thor must rac...</td>\n",
       "      <td>Chris Hemsworth Tom Hiddleston Cate Blanchett ...</td>\n",
       "      <td>Taika Waititi</td>\n",
       "      <td>en</td>\n",
       "      <td>unknown</td>\n",
       "    </tr>\n",
       "    <tr>\n",
       "      <th>4</th>\n",
       "      <td>It</td>\n",
       "      <td>Horror</td>\n",
       "      <td>In the summer of 1989, a group of bullied kids...</td>\n",
       "      <td>Bill Skarsgård Jaeden Martell Finn Wolfhard So...</td>\n",
       "      <td>Andy Muschietti</td>\n",
       "      <td>en</td>\n",
       "      <td>unknown</td>\n",
       "    </tr>\n",
       "  </tbody>\n",
       "</table>\n",
       "</div>"
      ],
      "text/plain": [
       "                         title                      genre  \\\n",
       "0  Kingsman: The Golden Circle  Action, Adventure, Comedy   \n",
       "1            Blade Runner 2049     Action, Drama, Mystery   \n",
       "2                      Dunkirk     Action, Drama, History   \n",
       "3               Thor: Ragnarok  Action, Adventure, Comedy   \n",
       "4                           It                     Horror   \n",
       "\n",
       "                                            overview  \\\n",
       "0  After the Kingsman's headquarters are destroye...   \n",
       "1  Young Blade Runner K's discovery of a long-bur...   \n",
       "2  Allied soldiers from Belgium, the British Empi...   \n",
       "3  Imprisoned on the planet Sakaar, Thor must rac...   \n",
       "4  In the summer of 1989, a group of bullied kids...   \n",
       "\n",
       "                                                cast           director lang  \\\n",
       "0  Taron Egerton Colin Firth Mark Strong Channing...     Matthew Vaughn   en   \n",
       "1  Harrison Ford Ryan Gosling Ana de Armas Dave B...   Denis Villeneuve   en   \n",
       "2  Fionn Whitehead Barry Keoghan Mark Rylance Tom...  Christopher Nolan   en   \n",
       "3  Chris Hemsworth Tom Hiddleston Cate Blanchett ...      Taika Waititi   en   \n",
       "4  Bill Skarsgård Jaeden Martell Finn Wolfhard So...    Andy Muschietti   en   \n",
       "\n",
       "      comp  \n",
       "0  unknown  \n",
       "1  unknown  \n",
       "2  unknown  \n",
       "3  unknown  \n",
       "4  unknown  "
      ]
     },
     "metadata": {},
     "execution_count": 3
    }
   ],
   "metadata": {}
  },
  {
   "cell_type": "markdown",
   "source": [
    "# 2018 movie List"
   ],
   "metadata": {}
  },
  {
   "cell_type": "code",
   "execution_count": 4,
   "source": [
    "df18.head()"
   ],
   "outputs": [
    {
     "output_type": "execute_result",
     "data": {
      "text/html": [
       "<div>\n",
       "<style scoped>\n",
       "    .dataframe tbody tr th:only-of-type {\n",
       "        vertical-align: middle;\n",
       "    }\n",
       "\n",
       "    .dataframe tbody tr th {\n",
       "        vertical-align: top;\n",
       "    }\n",
       "\n",
       "    .dataframe thead th {\n",
       "        text-align: right;\n",
       "    }\n",
       "</style>\n",
       "<table border=\"1\" class=\"dataframe\">\n",
       "  <thead>\n",
       "    <tr style=\"text-align: right;\">\n",
       "      <th></th>\n",
       "      <th>title</th>\n",
       "      <th>genre</th>\n",
       "      <th>overview</th>\n",
       "      <th>cast</th>\n",
       "      <th>director</th>\n",
       "      <th>lang</th>\n",
       "      <th>comp</th>\n",
       "    </tr>\n",
       "  </thead>\n",
       "  <tbody>\n",
       "    <tr>\n",
       "      <th>0</th>\n",
       "      <td>Black Panther</td>\n",
       "      <td>Action, Adventure, Sci-Fi</td>\n",
       "      <td>T'Challa, heir to the hidden but advanced king...</td>\n",
       "      <td>Chadwick Boseman Michael B. Jordan Lupita Nyon...</td>\n",
       "      <td>Ryan Coogler</td>\n",
       "      <td>en</td>\n",
       "      <td>unknown</td>\n",
       "    </tr>\n",
       "    <tr>\n",
       "      <th>1</th>\n",
       "      <td>Deadpool 2</td>\n",
       "      <td>Action, Adventure, Comedy</td>\n",
       "      <td>Foul-mouthed mutant mercenary Wade Wilson (a.k...</td>\n",
       "      <td>Ryan Reynolds Josh Brolin Morena Baccarin Juli...</td>\n",
       "      <td>David Leitch</td>\n",
       "      <td>en</td>\n",
       "      <td>unknown</td>\n",
       "    </tr>\n",
       "    <tr>\n",
       "      <th>2</th>\n",
       "      <td>Avengers: Infinity War</td>\n",
       "      <td>Action, Adventure, Sci-Fi</td>\n",
       "      <td>The Avengers and their allies must be willing ...</td>\n",
       "      <td>Joe Russo Robert Downey Jr. Chris Hemsworth Ma...</td>\n",
       "      <td>Anthony Russo</td>\n",
       "      <td>en</td>\n",
       "      <td>unknown</td>\n",
       "    </tr>\n",
       "    <tr>\n",
       "      <th>3</th>\n",
       "      <td>Hereditary</td>\n",
       "      <td>Drama, Horror, Mystery</td>\n",
       "      <td>A grieving family is haunted by tragic and dis...</td>\n",
       "      <td>Toni Collette Milly Shapiro Gabriel Byrne Alex...</td>\n",
       "      <td>Ari Aster</td>\n",
       "      <td>en</td>\n",
       "      <td>unknown</td>\n",
       "    </tr>\n",
       "    <tr>\n",
       "      <th>4</th>\n",
       "      <td>A Star Is Born</td>\n",
       "      <td>Drama, Music, Romance</td>\n",
       "      <td>A musician helps a young singer find fame as a...</td>\n",
       "      <td>Lady Gaga Bradley Cooper Sam Elliott Greg Grun...</td>\n",
       "      <td>Bradley Cooper</td>\n",
       "      <td>en</td>\n",
       "      <td>unknown</td>\n",
       "    </tr>\n",
       "  </tbody>\n",
       "</table>\n",
       "</div>"
      ],
      "text/plain": [
       "                    title                      genre  \\\n",
       "0           Black Panther  Action, Adventure, Sci-Fi   \n",
       "1              Deadpool 2  Action, Adventure, Comedy   \n",
       "2  Avengers: Infinity War  Action, Adventure, Sci-Fi   \n",
       "3              Hereditary     Drama, Horror, Mystery   \n",
       "4          A Star Is Born      Drama, Music, Romance   \n",
       "\n",
       "                                            overview  \\\n",
       "0  T'Challa, heir to the hidden but advanced king...   \n",
       "1  Foul-mouthed mutant mercenary Wade Wilson (a.k...   \n",
       "2  The Avengers and their allies must be willing ...   \n",
       "3  A grieving family is haunted by tragic and dis...   \n",
       "4  A musician helps a young singer find fame as a...   \n",
       "\n",
       "                                                cast        director lang  \\\n",
       "0  Chadwick Boseman Michael B. Jordan Lupita Nyon...    Ryan Coogler   en   \n",
       "1  Ryan Reynolds Josh Brolin Morena Baccarin Juli...    David Leitch   en   \n",
       "2  Joe Russo Robert Downey Jr. Chris Hemsworth Ma...   Anthony Russo   en   \n",
       "3  Toni Collette Milly Shapiro Gabriel Byrne Alex...       Ari Aster   en   \n",
       "4  Lady Gaga Bradley Cooper Sam Elliott Greg Grun...  Bradley Cooper   en   \n",
       "\n",
       "      comp  \n",
       "0  unknown  \n",
       "1  unknown  \n",
       "2  unknown  \n",
       "3  unknown  \n",
       "4  unknown  "
      ]
     },
     "metadata": {},
     "execution_count": 4
    }
   ],
   "metadata": {}
  },
  {
   "cell_type": "markdown",
   "source": [
    "# 2019 movie list"
   ],
   "metadata": {}
  },
  {
   "cell_type": "code",
   "execution_count": 5,
   "source": [
    "df19.head()"
   ],
   "outputs": [
    {
     "output_type": "execute_result",
     "data": {
      "text/html": [
       "<div>\n",
       "<style scoped>\n",
       "    .dataframe tbody tr th:only-of-type {\n",
       "        vertical-align: middle;\n",
       "    }\n",
       "\n",
       "    .dataframe tbody tr th {\n",
       "        vertical-align: top;\n",
       "    }\n",
       "\n",
       "    .dataframe thead th {\n",
       "        text-align: right;\n",
       "    }\n",
       "</style>\n",
       "<table border=\"1\" class=\"dataframe\">\n",
       "  <thead>\n",
       "    <tr style=\"text-align: right;\">\n",
       "      <th></th>\n",
       "      <th>title</th>\n",
       "      <th>genre</th>\n",
       "      <th>overview</th>\n",
       "      <th>cast</th>\n",
       "      <th>director</th>\n",
       "      <th>lang</th>\n",
       "      <th>comp</th>\n",
       "    </tr>\n",
       "  </thead>\n",
       "  <tbody>\n",
       "    <tr>\n",
       "      <th>0</th>\n",
       "      <td>Knives Out</td>\n",
       "      <td>Comedy, Crime, Drama</td>\n",
       "      <td>A detective investigates the death of a patria...</td>\n",
       "      <td>Daniel Craig Chris Evans Ana de Armas Jamie Le...</td>\n",
       "      <td>Rian Johnson</td>\n",
       "      <td>en</td>\n",
       "      <td>unknown</td>\n",
       "    </tr>\n",
       "    <tr>\n",
       "      <th>1</th>\n",
       "      <td>Joker</td>\n",
       "      <td>Crime, Drama, Thriller</td>\n",
       "      <td>In Gotham City, mentally troubled comedian Art...</td>\n",
       "      <td>Joaquin Phoenix Robert De Niro Zazie Beetz Fra...</td>\n",
       "      <td>Todd Phillips</td>\n",
       "      <td>en</td>\n",
       "      <td>unknown</td>\n",
       "    </tr>\n",
       "    <tr>\n",
       "      <th>2</th>\n",
       "      <td>Avengers: Endgame</td>\n",
       "      <td>Action, Adventure, Drama</td>\n",
       "      <td>After the devastating events of Avengers: Infi...</td>\n",
       "      <td>Joe Russo Robert Downey Jr. Chris Evans Mark R...</td>\n",
       "      <td>Anthony Russo</td>\n",
       "      <td>en</td>\n",
       "      <td>unknown</td>\n",
       "    </tr>\n",
       "    <tr>\n",
       "      <th>3</th>\n",
       "      <td>Ford v Ferrari</td>\n",
       "      <td>Action, Biography, Drama</td>\n",
       "      <td>American car designer Carroll Shelby and drive...</td>\n",
       "      <td>Matt Damon Christian Bale Jon Bernthal Caitrio...</td>\n",
       "      <td>James Mangold</td>\n",
       "      <td>en</td>\n",
       "      <td>unknown</td>\n",
       "    </tr>\n",
       "    <tr>\n",
       "      <th>4</th>\n",
       "      <td>Once Upon a Time... in Hollywood</td>\n",
       "      <td>Comedy, Drama</td>\n",
       "      <td>A faded television actor and his stunt double ...</td>\n",
       "      <td>Leonardo DiCaprio Brad Pitt Margot Robbie Emil...</td>\n",
       "      <td>Quentin Tarantino</td>\n",
       "      <td>en</td>\n",
       "      <td>unknown</td>\n",
       "    </tr>\n",
       "  </tbody>\n",
       "</table>\n",
       "</div>"
      ],
      "text/plain": [
       "                              title                     genre  \\\n",
       "0                        Knives Out      Comedy, Crime, Drama   \n",
       "1                             Joker    Crime, Drama, Thriller   \n",
       "2                 Avengers: Endgame  Action, Adventure, Drama   \n",
       "3                    Ford v Ferrari  Action, Biography, Drama   \n",
       "4  Once Upon a Time... in Hollywood             Comedy, Drama   \n",
       "\n",
       "                                            overview  \\\n",
       "0  A detective investigates the death of a patria...   \n",
       "1  In Gotham City, mentally troubled comedian Art...   \n",
       "2  After the devastating events of Avengers: Infi...   \n",
       "3  American car designer Carroll Shelby and drive...   \n",
       "4  A faded television actor and his stunt double ...   \n",
       "\n",
       "                                                cast           director lang  \\\n",
       "0  Daniel Craig Chris Evans Ana de Armas Jamie Le...       Rian Johnson   en   \n",
       "1  Joaquin Phoenix Robert De Niro Zazie Beetz Fra...      Todd Phillips   en   \n",
       "2  Joe Russo Robert Downey Jr. Chris Evans Mark R...      Anthony Russo   en   \n",
       "3  Matt Damon Christian Bale Jon Bernthal Caitrio...      James Mangold   en   \n",
       "4  Leonardo DiCaprio Brad Pitt Margot Robbie Emil...  Quentin Tarantino   en   \n",
       "\n",
       "      comp  \n",
       "0  unknown  \n",
       "1  unknown  \n",
       "2  unknown  \n",
       "3  unknown  \n",
       "4  unknown  "
      ]
     },
     "metadata": {},
     "execution_count": 5
    }
   ],
   "metadata": {}
  },
  {
   "cell_type": "markdown",
   "source": [
    "# Appending all the movies into a single data frame for further process"
   ],
   "metadata": {}
  },
  {
   "cell_type": "code",
   "execution_count": 6,
   "source": [
    "df=df17.append(df18)"
   ],
   "outputs": [],
   "metadata": {}
  },
  {
   "cell_type": "code",
   "execution_count": 7,
   "source": [
    "df =df.append(df19)"
   ],
   "outputs": [],
   "metadata": {}
  },
  {
   "cell_type": "code",
   "execution_count": 8,
   "source": [
    "df.head()"
   ],
   "outputs": [
    {
     "output_type": "execute_result",
     "data": {
      "text/html": [
       "<div>\n",
       "<style scoped>\n",
       "    .dataframe tbody tr th:only-of-type {\n",
       "        vertical-align: middle;\n",
       "    }\n",
       "\n",
       "    .dataframe tbody tr th {\n",
       "        vertical-align: top;\n",
       "    }\n",
       "\n",
       "    .dataframe thead th {\n",
       "        text-align: right;\n",
       "    }\n",
       "</style>\n",
       "<table border=\"1\" class=\"dataframe\">\n",
       "  <thead>\n",
       "    <tr style=\"text-align: right;\">\n",
       "      <th></th>\n",
       "      <th>title</th>\n",
       "      <th>genre</th>\n",
       "      <th>overview</th>\n",
       "      <th>cast</th>\n",
       "      <th>director</th>\n",
       "      <th>lang</th>\n",
       "      <th>comp</th>\n",
       "    </tr>\n",
       "  </thead>\n",
       "  <tbody>\n",
       "    <tr>\n",
       "      <th>0</th>\n",
       "      <td>Kingsman: The Golden Circle</td>\n",
       "      <td>Action, Adventure, Comedy</td>\n",
       "      <td>After the Kingsman's headquarters are destroye...</td>\n",
       "      <td>Taron Egerton Colin Firth Mark Strong Channing...</td>\n",
       "      <td>Matthew Vaughn</td>\n",
       "      <td>en</td>\n",
       "      <td>unknown</td>\n",
       "    </tr>\n",
       "    <tr>\n",
       "      <th>1</th>\n",
       "      <td>Blade Runner 2049</td>\n",
       "      <td>Action, Drama, Mystery</td>\n",
       "      <td>Young Blade Runner K's discovery of a long-bur...</td>\n",
       "      <td>Harrison Ford Ryan Gosling Ana de Armas Dave B...</td>\n",
       "      <td>Denis Villeneuve</td>\n",
       "      <td>en</td>\n",
       "      <td>unknown</td>\n",
       "    </tr>\n",
       "    <tr>\n",
       "      <th>2</th>\n",
       "      <td>Dunkirk</td>\n",
       "      <td>Action, Drama, History</td>\n",
       "      <td>Allied soldiers from Belgium, the British Empi...</td>\n",
       "      <td>Fionn Whitehead Barry Keoghan Mark Rylance Tom...</td>\n",
       "      <td>Christopher Nolan</td>\n",
       "      <td>en</td>\n",
       "      <td>unknown</td>\n",
       "    </tr>\n",
       "    <tr>\n",
       "      <th>3</th>\n",
       "      <td>Thor: Ragnarok</td>\n",
       "      <td>Action, Adventure, Comedy</td>\n",
       "      <td>Imprisoned on the planet Sakaar, Thor must rac...</td>\n",
       "      <td>Chris Hemsworth Tom Hiddleston Cate Blanchett ...</td>\n",
       "      <td>Taika Waititi</td>\n",
       "      <td>en</td>\n",
       "      <td>unknown</td>\n",
       "    </tr>\n",
       "    <tr>\n",
       "      <th>4</th>\n",
       "      <td>It</td>\n",
       "      <td>Horror</td>\n",
       "      <td>In the summer of 1989, a group of bullied kids...</td>\n",
       "      <td>Bill Skarsgård Jaeden Martell Finn Wolfhard So...</td>\n",
       "      <td>Andy Muschietti</td>\n",
       "      <td>en</td>\n",
       "      <td>unknown</td>\n",
       "    </tr>\n",
       "  </tbody>\n",
       "</table>\n",
       "</div>"
      ],
      "text/plain": [
       "                         title                      genre  \\\n",
       "0  Kingsman: The Golden Circle  Action, Adventure, Comedy   \n",
       "1            Blade Runner 2049     Action, Drama, Mystery   \n",
       "2                      Dunkirk     Action, Drama, History   \n",
       "3               Thor: Ragnarok  Action, Adventure, Comedy   \n",
       "4                           It                     Horror   \n",
       "\n",
       "                                            overview  \\\n",
       "0  After the Kingsman's headquarters are destroye...   \n",
       "1  Young Blade Runner K's discovery of a long-bur...   \n",
       "2  Allied soldiers from Belgium, the British Empi...   \n",
       "3  Imprisoned on the planet Sakaar, Thor must rac...   \n",
       "4  In the summer of 1989, a group of bullied kids...   \n",
       "\n",
       "                                                cast           director lang  \\\n",
       "0  Taron Egerton Colin Firth Mark Strong Channing...     Matthew Vaughn   en   \n",
       "1  Harrison Ford Ryan Gosling Ana de Armas Dave B...   Denis Villeneuve   en   \n",
       "2  Fionn Whitehead Barry Keoghan Mark Rylance Tom...  Christopher Nolan   en   \n",
       "3  Chris Hemsworth Tom Hiddleston Cate Blanchett ...      Taika Waititi   en   \n",
       "4  Bill Skarsgård Jaeden Martell Finn Wolfhard So...    Andy Muschietti   en   \n",
       "\n",
       "      comp  \n",
       "0  unknown  \n",
       "1  unknown  \n",
       "2  unknown  \n",
       "3  unknown  \n",
       "4  unknown  "
      ]
     },
     "metadata": {},
     "execution_count": 8
    }
   ],
   "metadata": {}
  },
  {
   "cell_type": "markdown",
   "source": [
    "## Preprocessing and cleaning of new data.\r\n",
    "### 1. changing values to match the format used with the movies before 2017\r\n",
    "### 2. Checking for null values and correcting some errors/noices from the scraped data. "
   ],
   "metadata": {}
  },
  {
   "cell_type": "code",
   "execution_count": 9,
   "source": [
    "df.isnull().sum()"
   ],
   "outputs": [
    {
     "output_type": "execute_result",
     "data": {
      "text/plain": [
       "title       0\n",
       "genre       0\n",
       "overview    0\n",
       "cast        0\n",
       "director    0\n",
       "lang        0\n",
       "comp        0\n",
       "dtype: int64"
      ]
     },
     "metadata": {},
     "execution_count": 9
    }
   ],
   "metadata": {}
  },
  {
   "cell_type": "code",
   "execution_count": 10,
   "source": [
    "genre_list =[]\r\n",
    "for x in df.genre:\r\n",
    "    l =x.split(',')\r\n",
    "    s=\"\"\r\n",
    "    for i in l:\r\n",
    "        i = i.strip()\r\n",
    "        if i =='Sci-Fi':\r\n",
    "            i='Science Fiction'\r\n",
    "        s=s+i+\" \"\r\n",
    "    genre_list.append(s)\r\n",
    "        \r\n",
    "        \r\n",
    "    "
   ],
   "outputs": [],
   "metadata": {}
  },
  {
   "cell_type": "code",
   "execution_count": 11,
   "source": [
    "genre_list[:5]"
   ],
   "outputs": [
    {
     "output_type": "execute_result",
     "data": {
      "text/plain": [
       "['Action Adventure Comedy ',\n",
       " 'Action Drama Mystery ',\n",
       " 'Action Drama History ',\n",
       " 'Action Adventure Comedy ',\n",
       " 'Horror ']"
      ]
     },
     "metadata": {},
     "execution_count": 11
    }
   ],
   "metadata": {}
  },
  {
   "cell_type": "code",
   "execution_count": 12,
   "source": [
    "df['genre_list']=pd.DataFrame(genre_list,columns=['genre_list'])"
   ],
   "outputs": [],
   "metadata": {}
  },
  {
   "cell_type": "code",
   "execution_count": 13,
   "source": [
    "df['crew_list']=df['director']\r\n",
    "df['cast_list'] = df['cast']\r\n",
    "df['original_language'] = df['lang']\r\n",
    "df['comp_list'] = df['comp']"
   ],
   "outputs": [],
   "metadata": {}
  },
  {
   "cell_type": "code",
   "execution_count": 14,
   "source": [
    "df.head()"
   ],
   "outputs": [
    {
     "output_type": "execute_result",
     "data": {
      "text/html": [
       "<div>\n",
       "<style scoped>\n",
       "    .dataframe tbody tr th:only-of-type {\n",
       "        vertical-align: middle;\n",
       "    }\n",
       "\n",
       "    .dataframe tbody tr th {\n",
       "        vertical-align: top;\n",
       "    }\n",
       "\n",
       "    .dataframe thead th {\n",
       "        text-align: right;\n",
       "    }\n",
       "</style>\n",
       "<table border=\"1\" class=\"dataframe\">\n",
       "  <thead>\n",
       "    <tr style=\"text-align: right;\">\n",
       "      <th></th>\n",
       "      <th>title</th>\n",
       "      <th>genre</th>\n",
       "      <th>overview</th>\n",
       "      <th>cast</th>\n",
       "      <th>director</th>\n",
       "      <th>lang</th>\n",
       "      <th>comp</th>\n",
       "      <th>genre_list</th>\n",
       "      <th>crew_list</th>\n",
       "      <th>cast_list</th>\n",
       "      <th>original_language</th>\n",
       "      <th>comp_list</th>\n",
       "    </tr>\n",
       "  </thead>\n",
       "  <tbody>\n",
       "    <tr>\n",
       "      <th>0</th>\n",
       "      <td>Kingsman: The Golden Circle</td>\n",
       "      <td>Action, Adventure, Comedy</td>\n",
       "      <td>After the Kingsman's headquarters are destroye...</td>\n",
       "      <td>Taron Egerton Colin Firth Mark Strong Channing...</td>\n",
       "      <td>Matthew Vaughn</td>\n",
       "      <td>en</td>\n",
       "      <td>unknown</td>\n",
       "      <td>Action Adventure Comedy</td>\n",
       "      <td>Matthew Vaughn</td>\n",
       "      <td>Taron Egerton Colin Firth Mark Strong Channing...</td>\n",
       "      <td>en</td>\n",
       "      <td>unknown</td>\n",
       "    </tr>\n",
       "    <tr>\n",
       "      <th>1</th>\n",
       "      <td>Blade Runner 2049</td>\n",
       "      <td>Action, Drama, Mystery</td>\n",
       "      <td>Young Blade Runner K's discovery of a long-bur...</td>\n",
       "      <td>Harrison Ford Ryan Gosling Ana de Armas Dave B...</td>\n",
       "      <td>Denis Villeneuve</td>\n",
       "      <td>en</td>\n",
       "      <td>unknown</td>\n",
       "      <td>Action Drama Mystery</td>\n",
       "      <td>Denis Villeneuve</td>\n",
       "      <td>Harrison Ford Ryan Gosling Ana de Armas Dave B...</td>\n",
       "      <td>en</td>\n",
       "      <td>unknown</td>\n",
       "    </tr>\n",
       "    <tr>\n",
       "      <th>2</th>\n",
       "      <td>Dunkirk</td>\n",
       "      <td>Action, Drama, History</td>\n",
       "      <td>Allied soldiers from Belgium, the British Empi...</td>\n",
       "      <td>Fionn Whitehead Barry Keoghan Mark Rylance Tom...</td>\n",
       "      <td>Christopher Nolan</td>\n",
       "      <td>en</td>\n",
       "      <td>unknown</td>\n",
       "      <td>Action Drama History</td>\n",
       "      <td>Christopher Nolan</td>\n",
       "      <td>Fionn Whitehead Barry Keoghan Mark Rylance Tom...</td>\n",
       "      <td>en</td>\n",
       "      <td>unknown</td>\n",
       "    </tr>\n",
       "    <tr>\n",
       "      <th>3</th>\n",
       "      <td>Thor: Ragnarok</td>\n",
       "      <td>Action, Adventure, Comedy</td>\n",
       "      <td>Imprisoned on the planet Sakaar, Thor must rac...</td>\n",
       "      <td>Chris Hemsworth Tom Hiddleston Cate Blanchett ...</td>\n",
       "      <td>Taika Waititi</td>\n",
       "      <td>en</td>\n",
       "      <td>unknown</td>\n",
       "      <td>Action Adventure Comedy</td>\n",
       "      <td>Taika Waititi</td>\n",
       "      <td>Chris Hemsworth Tom Hiddleston Cate Blanchett ...</td>\n",
       "      <td>en</td>\n",
       "      <td>unknown</td>\n",
       "    </tr>\n",
       "    <tr>\n",
       "      <th>4</th>\n",
       "      <td>It</td>\n",
       "      <td>Horror</td>\n",
       "      <td>In the summer of 1989, a group of bullied kids...</td>\n",
       "      <td>Bill Skarsgård Jaeden Martell Finn Wolfhard So...</td>\n",
       "      <td>Andy Muschietti</td>\n",
       "      <td>en</td>\n",
       "      <td>unknown</td>\n",
       "      <td>Horror</td>\n",
       "      <td>Andy Muschietti</td>\n",
       "      <td>Bill Skarsgård Jaeden Martell Finn Wolfhard So...</td>\n",
       "      <td>en</td>\n",
       "      <td>unknown</td>\n",
       "    </tr>\n",
       "  </tbody>\n",
       "</table>\n",
       "</div>"
      ],
      "text/plain": [
       "                         title                      genre  \\\n",
       "0  Kingsman: The Golden Circle  Action, Adventure, Comedy   \n",
       "1            Blade Runner 2049     Action, Drama, Mystery   \n",
       "2                      Dunkirk     Action, Drama, History   \n",
       "3               Thor: Ragnarok  Action, Adventure, Comedy   \n",
       "4                           It                     Horror   \n",
       "\n",
       "                                            overview  \\\n",
       "0  After the Kingsman's headquarters are destroye...   \n",
       "1  Young Blade Runner K's discovery of a long-bur...   \n",
       "2  Allied soldiers from Belgium, the British Empi...   \n",
       "3  Imprisoned on the planet Sakaar, Thor must rac...   \n",
       "4  In the summer of 1989, a group of bullied kids...   \n",
       "\n",
       "                                                cast           director lang  \\\n",
       "0  Taron Egerton Colin Firth Mark Strong Channing...     Matthew Vaughn   en   \n",
       "1  Harrison Ford Ryan Gosling Ana de Armas Dave B...   Denis Villeneuve   en   \n",
       "2  Fionn Whitehead Barry Keoghan Mark Rylance Tom...  Christopher Nolan   en   \n",
       "3  Chris Hemsworth Tom Hiddleston Cate Blanchett ...      Taika Waititi   en   \n",
       "4  Bill Skarsgård Jaeden Martell Finn Wolfhard So...    Andy Muschietti   en   \n",
       "\n",
       "      comp                genre_list          crew_list  \\\n",
       "0  unknown  Action Adventure Comedy      Matthew Vaughn   \n",
       "1  unknown     Action Drama Mystery    Denis Villeneuve   \n",
       "2  unknown     Action Drama History   Christopher Nolan   \n",
       "3  unknown  Action Adventure Comedy       Taika Waititi   \n",
       "4  unknown                   Horror     Andy Muschietti   \n",
       "\n",
       "                                           cast_list original_language  \\\n",
       "0  Taron Egerton Colin Firth Mark Strong Channing...                en   \n",
       "1  Harrison Ford Ryan Gosling Ana de Armas Dave B...                en   \n",
       "2  Fionn Whitehead Barry Keoghan Mark Rylance Tom...                en   \n",
       "3  Chris Hemsworth Tom Hiddleston Cate Blanchett ...                en   \n",
       "4  Bill Skarsgård Jaeden Martell Finn Wolfhard So...                en   \n",
       "\n",
       "  comp_list  \n",
       "0   unknown  \n",
       "1   unknown  \n",
       "2   unknown  \n",
       "3   unknown  \n",
       "4   unknown  "
      ]
     },
     "metadata": {},
     "execution_count": 14
    }
   ],
   "metadata": {}
  },
  {
   "cell_type": "markdown",
   "source": [
    "## Dropping irrelevant columns"
   ],
   "metadata": {}
  },
  {
   "cell_type": "code",
   "execution_count": 15,
   "source": [
    "df.drop(['genre','cast','director','lang','comp'],axis=1,inplace=True)"
   ],
   "outputs": [],
   "metadata": {}
  },
  {
   "cell_type": "code",
   "execution_count": 16,
   "source": [
    "df.columns"
   ],
   "outputs": [
    {
     "output_type": "execute_result",
     "data": {
      "text/plain": [
       "Index(['title', 'overview', 'genre_list', 'crew_list', 'cast_list',\n",
       "       'original_language', 'comp_list'],\n",
       "      dtype='object')"
      ]
     },
     "metadata": {},
     "execution_count": 16
    }
   ],
   "metadata": {}
  },
  {
   "cell_type": "code",
   "execution_count": 17,
   "source": [
    "df.head()"
   ],
   "outputs": [
    {
     "output_type": "execute_result",
     "data": {
      "text/html": [
       "<div>\n",
       "<style scoped>\n",
       "    .dataframe tbody tr th:only-of-type {\n",
       "        vertical-align: middle;\n",
       "    }\n",
       "\n",
       "    .dataframe tbody tr th {\n",
       "        vertical-align: top;\n",
       "    }\n",
       "\n",
       "    .dataframe thead th {\n",
       "        text-align: right;\n",
       "    }\n",
       "</style>\n",
       "<table border=\"1\" class=\"dataframe\">\n",
       "  <thead>\n",
       "    <tr style=\"text-align: right;\">\n",
       "      <th></th>\n",
       "      <th>title</th>\n",
       "      <th>overview</th>\n",
       "      <th>genre_list</th>\n",
       "      <th>crew_list</th>\n",
       "      <th>cast_list</th>\n",
       "      <th>original_language</th>\n",
       "      <th>comp_list</th>\n",
       "    </tr>\n",
       "  </thead>\n",
       "  <tbody>\n",
       "    <tr>\n",
       "      <th>0</th>\n",
       "      <td>Kingsman: The Golden Circle</td>\n",
       "      <td>After the Kingsman's headquarters are destroye...</td>\n",
       "      <td>Action Adventure Comedy</td>\n",
       "      <td>Matthew Vaughn</td>\n",
       "      <td>Taron Egerton Colin Firth Mark Strong Channing...</td>\n",
       "      <td>en</td>\n",
       "      <td>unknown</td>\n",
       "    </tr>\n",
       "    <tr>\n",
       "      <th>1</th>\n",
       "      <td>Blade Runner 2049</td>\n",
       "      <td>Young Blade Runner K's discovery of a long-bur...</td>\n",
       "      <td>Action Drama Mystery</td>\n",
       "      <td>Denis Villeneuve</td>\n",
       "      <td>Harrison Ford Ryan Gosling Ana de Armas Dave B...</td>\n",
       "      <td>en</td>\n",
       "      <td>unknown</td>\n",
       "    </tr>\n",
       "    <tr>\n",
       "      <th>2</th>\n",
       "      <td>Dunkirk</td>\n",
       "      <td>Allied soldiers from Belgium, the British Empi...</td>\n",
       "      <td>Action Drama History</td>\n",
       "      <td>Christopher Nolan</td>\n",
       "      <td>Fionn Whitehead Barry Keoghan Mark Rylance Tom...</td>\n",
       "      <td>en</td>\n",
       "      <td>unknown</td>\n",
       "    </tr>\n",
       "    <tr>\n",
       "      <th>3</th>\n",
       "      <td>Thor: Ragnarok</td>\n",
       "      <td>Imprisoned on the planet Sakaar, Thor must rac...</td>\n",
       "      <td>Action Adventure Comedy</td>\n",
       "      <td>Taika Waititi</td>\n",
       "      <td>Chris Hemsworth Tom Hiddleston Cate Blanchett ...</td>\n",
       "      <td>en</td>\n",
       "      <td>unknown</td>\n",
       "    </tr>\n",
       "    <tr>\n",
       "      <th>4</th>\n",
       "      <td>It</td>\n",
       "      <td>In the summer of 1989, a group of bullied kids...</td>\n",
       "      <td>Horror</td>\n",
       "      <td>Andy Muschietti</td>\n",
       "      <td>Bill Skarsgård Jaeden Martell Finn Wolfhard So...</td>\n",
       "      <td>en</td>\n",
       "      <td>unknown</td>\n",
       "    </tr>\n",
       "  </tbody>\n",
       "</table>\n",
       "</div>"
      ],
      "text/plain": [
       "                         title  \\\n",
       "0  Kingsman: The Golden Circle   \n",
       "1            Blade Runner 2049   \n",
       "2                      Dunkirk   \n",
       "3               Thor: Ragnarok   \n",
       "4                           It   \n",
       "\n",
       "                                            overview  \\\n",
       "0  After the Kingsman's headquarters are destroye...   \n",
       "1  Young Blade Runner K's discovery of a long-bur...   \n",
       "2  Allied soldiers from Belgium, the British Empi...   \n",
       "3  Imprisoned on the planet Sakaar, Thor must rac...   \n",
       "4  In the summer of 1989, a group of bullied kids...   \n",
       "\n",
       "                 genre_list          crew_list  \\\n",
       "0  Action Adventure Comedy      Matthew Vaughn   \n",
       "1     Action Drama Mystery    Denis Villeneuve   \n",
       "2     Action Drama History   Christopher Nolan   \n",
       "3  Action Adventure Comedy       Taika Waititi   \n",
       "4                   Horror     Andy Muschietti   \n",
       "\n",
       "                                           cast_list original_language  \\\n",
       "0  Taron Egerton Colin Firth Mark Strong Channing...                en   \n",
       "1  Harrison Ford Ryan Gosling Ana de Armas Dave B...                en   \n",
       "2  Fionn Whitehead Barry Keoghan Mark Rylance Tom...                en   \n",
       "3  Chris Hemsworth Tom Hiddleston Cate Blanchett ...                en   \n",
       "4  Bill Skarsgård Jaeden Martell Finn Wolfhard So...                en   \n",
       "\n",
       "  comp_list  \n",
       "0   unknown  \n",
       "1   unknown  \n",
       "2   unknown  \n",
       "3   unknown  \n",
       "4   unknown  "
      ]
     },
     "metadata": {},
     "execution_count": 17
    }
   ],
   "metadata": {}
  },
  {
   "cell_type": "code",
   "execution_count": 18,
   "source": [
    "df.isnull().sum()"
   ],
   "outputs": [
    {
     "output_type": "execute_result",
     "data": {
      "text/plain": [
       "title                0\n",
       "overview             0\n",
       "genre_list           0\n",
       "crew_list            0\n",
       "cast_list            0\n",
       "original_language    0\n",
       "comp_list            0\n",
       "dtype: int64"
      ]
     },
     "metadata": {},
     "execution_count": 18
    }
   ],
   "metadata": {}
  },
  {
   "cell_type": "code",
   "execution_count": 19,
   "source": [
    "df['comb'] =df['genre_list']+df['cast_list']+df['crew_list']+df['original_language']"
   ],
   "outputs": [],
   "metadata": {}
  },
  {
   "cell_type": "code",
   "execution_count": 20,
   "source": [
    "df.columns"
   ],
   "outputs": [
    {
     "output_type": "execute_result",
     "data": {
      "text/plain": [
       "Index(['title', 'overview', 'genre_list', 'crew_list', 'cast_list',\n",
       "       'original_language', 'comp_list', 'comb'],\n",
       "      dtype='object')"
      ]
     },
     "metadata": {},
     "execution_count": 20
    }
   ],
   "metadata": {}
  },
  {
   "cell_type": "code",
   "execution_count": 21,
   "source": [
    "df.to_csv('after_2017_till_2019.csv',index=False)"
   ],
   "outputs": [],
   "metadata": {}
  },
  {
   "cell_type": "markdown",
   "source": [
    "# Reading old file"
   ],
   "metadata": {}
  },
  {
   "cell_type": "code",
   "execution_count": 22,
   "source": [
    "maindf= pd.read_csv('movie_data_before_2017.csv')"
   ],
   "outputs": [],
   "metadata": {}
  },
  {
   "cell_type": "code",
   "execution_count": 23,
   "source": [
    "maindf.columns\r\n"
   ],
   "outputs": [
    {
     "output_type": "execute_result",
     "data": {
      "text/plain": [
       "Index(['id', 'original_language', 'title', 'overview', 'genre_list',\n",
       "       'cast_list', 'crew_list', 'comp_list', 'comb'],\n",
       "      dtype='object')"
      ]
     },
     "metadata": {},
     "execution_count": 23
    }
   ],
   "metadata": {}
  },
  {
   "cell_type": "code",
   "execution_count": 24,
   "source": [
    "df.columns"
   ],
   "outputs": [
    {
     "output_type": "execute_result",
     "data": {
      "text/plain": [
       "Index(['title', 'overview', 'genre_list', 'crew_list', 'cast_list',\n",
       "       'original_language', 'comp_list', 'comb'],\n",
       "      dtype='object')"
      ]
     },
     "metadata": {},
     "execution_count": 24
    }
   ],
   "metadata": {}
  },
  {
   "cell_type": "markdown",
   "source": [
    "## Final Merge"
   ],
   "metadata": {}
  },
  {
   "cell_type": "code",
   "execution_count": 25,
   "source": [
    "finaldf =maindf.append(df)"
   ],
   "outputs": [],
   "metadata": {}
  },
  {
   "cell_type": "code",
   "execution_count": 26,
   "source": [
    "finaldf.columns"
   ],
   "outputs": [
    {
     "output_type": "execute_result",
     "data": {
      "text/plain": [
       "Index(['id', 'original_language', 'title', 'overview', 'genre_list',\n",
       "       'cast_list', 'crew_list', 'comp_list', 'comb'],\n",
       "      dtype='object')"
      ]
     },
     "metadata": {},
     "execution_count": 26
    }
   ],
   "metadata": {}
  },
  {
   "cell_type": "code",
   "execution_count": 27,
   "source": [
    "finaldf.head()"
   ],
   "outputs": [
    {
     "output_type": "execute_result",
     "data": {
      "text/html": [
       "<div>\n",
       "<style scoped>\n",
       "    .dataframe tbody tr th:only-of-type {\n",
       "        vertical-align: middle;\n",
       "    }\n",
       "\n",
       "    .dataframe tbody tr th {\n",
       "        vertical-align: top;\n",
       "    }\n",
       "\n",
       "    .dataframe thead th {\n",
       "        text-align: right;\n",
       "    }\n",
       "</style>\n",
       "<table border=\"1\" class=\"dataframe\">\n",
       "  <thead>\n",
       "    <tr style=\"text-align: right;\">\n",
       "      <th></th>\n",
       "      <th>id</th>\n",
       "      <th>original_language</th>\n",
       "      <th>title</th>\n",
       "      <th>overview</th>\n",
       "      <th>genre_list</th>\n",
       "      <th>cast_list</th>\n",
       "      <th>crew_list</th>\n",
       "      <th>comp_list</th>\n",
       "      <th>comb</th>\n",
       "    </tr>\n",
       "  </thead>\n",
       "  <tbody>\n",
       "    <tr>\n",
       "      <th>0</th>\n",
       "      <td>19995.0</td>\n",
       "      <td>en</td>\n",
       "      <td>Avatar</td>\n",
       "      <td>In the 22nd century, a paraplegic Marine is di...</td>\n",
       "      <td>Action Adventure Fantasy Science Fiction</td>\n",
       "      <td>Sam Worthington Zoe Saldana Sigourney Weaver</td>\n",
       "      <td>James Cameron</td>\n",
       "      <td>IngeniousFilmPartners TwentiethCenturyFoxFilmC...</td>\n",
       "      <td>Action Adventure Fantasy Science Fiction Sam W...</td>\n",
       "    </tr>\n",
       "    <tr>\n",
       "      <th>1</th>\n",
       "      <td>285.0</td>\n",
       "      <td>en</td>\n",
       "      <td>Pirates of the Caribbean: At World's End</td>\n",
       "      <td>Captain Barbossa, long believed to be dead, ha...</td>\n",
       "      <td>Adventure Fantasy Action</td>\n",
       "      <td>Johnny Depp Orlando Bloom Keira Knightley</td>\n",
       "      <td>Gore Verbinski</td>\n",
       "      <td>WaltDisneyPictures JerryBruckheimerFilms Secon...</td>\n",
       "      <td>Adventure Fantasy Action Johnny Depp Orlando B...</td>\n",
       "    </tr>\n",
       "    <tr>\n",
       "      <th>2</th>\n",
       "      <td>206647.0</td>\n",
       "      <td>en</td>\n",
       "      <td>Spectre</td>\n",
       "      <td>A cryptic message from Bond’s past sends him o...</td>\n",
       "      <td>Action Adventure Crime</td>\n",
       "      <td>Daniel Craig Christoph Waltz Léa Seydoux</td>\n",
       "      <td>Sam Mendes</td>\n",
       "      <td>ColumbiaPictures Danjaq B24</td>\n",
       "      <td>Action Adventure Crime Daniel Craig Christoph ...</td>\n",
       "    </tr>\n",
       "    <tr>\n",
       "      <th>3</th>\n",
       "      <td>49026.0</td>\n",
       "      <td>en</td>\n",
       "      <td>The Dark Knight Rises</td>\n",
       "      <td>Following the death of District Attorney Harve...</td>\n",
       "      <td>Action Crime Drama Thriller</td>\n",
       "      <td>Christian Bale Michael Caine Gary Oldman</td>\n",
       "      <td>Christopher Nolan</td>\n",
       "      <td>LegendaryPictures WarnerBros. DCEntertainment ...</td>\n",
       "      <td>Action Crime Drama Thriller Christian Bale Mic...</td>\n",
       "    </tr>\n",
       "    <tr>\n",
       "      <th>4</th>\n",
       "      <td>49529.0</td>\n",
       "      <td>en</td>\n",
       "      <td>John Carter</td>\n",
       "      <td>John Carter is a war-weary, former military ca...</td>\n",
       "      <td>Action Adventure Science Fiction</td>\n",
       "      <td>Taylor Kitsch Lynn Collins Samantha Morton</td>\n",
       "      <td>Andrew Stanton</td>\n",
       "      <td>WaltDisneyPictures</td>\n",
       "      <td>Action Adventure Science Fiction Taylor Kitsch...</td>\n",
       "    </tr>\n",
       "  </tbody>\n",
       "</table>\n",
       "</div>"
      ],
      "text/plain": [
       "         id original_language                                     title  \\\n",
       "0   19995.0                en                                    Avatar   \n",
       "1     285.0                en  Pirates of the Caribbean: At World's End   \n",
       "2  206647.0                en                                   Spectre   \n",
       "3   49026.0                en                     The Dark Knight Rises   \n",
       "4   49529.0                en                               John Carter   \n",
       "\n",
       "                                            overview  \\\n",
       "0  In the 22nd century, a paraplegic Marine is di...   \n",
       "1  Captain Barbossa, long believed to be dead, ha...   \n",
       "2  A cryptic message from Bond’s past sends him o...   \n",
       "3  Following the death of District Attorney Harve...   \n",
       "4  John Carter is a war-weary, former military ca...   \n",
       "\n",
       "                                  genre_list  \\\n",
       "0  Action Adventure Fantasy Science Fiction    \n",
       "1                  Adventure Fantasy Action    \n",
       "2                    Action Adventure Crime    \n",
       "3               Action Crime Drama Thriller    \n",
       "4          Action Adventure Science Fiction    \n",
       "\n",
       "                                       cast_list          crew_list  \\\n",
       "0  Sam Worthington Zoe Saldana Sigourney Weaver       James Cameron   \n",
       "1     Johnny Depp Orlando Bloom Keira Knightley      Gore Verbinski   \n",
       "2      Daniel Craig Christoph Waltz Léa Seydoux          Sam Mendes   \n",
       "3      Christian Bale Michael Caine Gary Oldman   Christopher Nolan   \n",
       "4    Taylor Kitsch Lynn Collins Samantha Morton      Andrew Stanton   \n",
       "\n",
       "                                           comp_list  \\\n",
       "0  IngeniousFilmPartners TwentiethCenturyFoxFilmC...   \n",
       "1  WaltDisneyPictures JerryBruckheimerFilms Secon...   \n",
       "2                       ColumbiaPictures Danjaq B24    \n",
       "3  LegendaryPictures WarnerBros. DCEntertainment ...   \n",
       "4                                WaltDisneyPictures    \n",
       "\n",
       "                                                comb  \n",
       "0  Action Adventure Fantasy Science Fiction Sam W...  \n",
       "1  Adventure Fantasy Action Johnny Depp Orlando B...  \n",
       "2  Action Adventure Crime Daniel Craig Christoph ...  \n",
       "3  Action Crime Drama Thriller Christian Bale Mic...  \n",
       "4  Action Adventure Science Fiction Taylor Kitsch...  "
      ]
     },
     "metadata": {},
     "execution_count": 27
    }
   ],
   "metadata": {}
  },
  {
   "cell_type": "markdown",
   "source": [
    "### Saving the entire data to csv "
   ],
   "metadata": {}
  },
  {
   "cell_type": "code",
   "execution_count": 28,
   "source": [
    "finaldf.to_csv('till_2019.csv',index=False)"
   ],
   "outputs": [],
   "metadata": {}
  }
 ],
 "metadata": {
  "kernelspec": {
   "name": "python3",
   "display_name": "Python 3.9.6 64-bit"
  },
  "language_info": {
   "codemirror_mode": {
    "name": "ipython",
    "version": 3
   },
   "file_extension": ".py",
   "mimetype": "text/x-python",
   "name": "python",
   "nbconvert_exporter": "python",
   "pygments_lexer": "ipython3",
   "version": "3.9.6"
  },
  "interpreter": {
   "hash": "a3a4b090d1bdfb007c1f787e1ed8a3f005c1459e484a92176c7b7a3e001bd3ca"
  }
 },
 "nbformat": 4,
 "nbformat_minor": 4
}