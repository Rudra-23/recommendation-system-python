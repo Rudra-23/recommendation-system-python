{
  "nbformat": 4,
  "nbformat_minor": 0,
  "metadata": {
    "colab": {
      "name": "rec 2020m.ipynb",
      "provenance": []
    },
    "kernelspec": {
      "name": "python3",
      "display_name": "Python 3"
    },
    "language_info": {
      "name": "python"
    }
  },
  "cells": [
    {
      "cell_type": "code",
      "metadata": {
        "id": "iimk_kmIFNzw"
      },
      "source": [
        "import pandas as pd"
      ],
      "execution_count": 1,
      "outputs": []
    },
    {
      "cell_type": "code",
      "metadata": {
        "id": "Bj12_yK3FQJx"
      },
      "source": [
        "df = pd.read_csv('till_2020.csv')"
      ],
      "execution_count": 6,
      "outputs": []
    },
    {
      "cell_type": "code",
      "metadata": {
        "id": "-Ve2xmqKFaXe"
      },
      "source": [
        "\n",
        "from sklearn.feature_extraction.text import CountVectorizer\n",
        "from sklearn.metrics.pairwise import cosine_similarity\n",
        "import numpy as np"
      ],
      "execution_count": 7,
      "outputs": []
    },
    {
      "cell_type": "code",
      "metadata": {
        "id": "G0nVBfTSFmEA"
      },
      "source": [
        "cv=CountVectorizer()\n",
        "count_matrix = cv.fit_transform(df['comb'])\n",
        "similarity =cosine_similarity(count_matrix)"
      ],
      "execution_count": 8,
      "outputs": []
    },
    {
      "cell_type": "code",
      "metadata": {
        "id": "H1IryzNtFslU"
      },
      "source": [
        "def recommend(movie):\n",
        "  i=df.loc[df['title']==movie].index[0]\n",
        "  List =list(enumerate(similarity[i]))\n",
        "  List_sorted =sorted(List,reverse=True,key=lambda x:x[1])\n",
        "  Final_list=List_sorted[1:15]        # 1:15 because 0 will be the movie itself because of 1 correlation.\n",
        "  recommend_list =[]\n",
        "  for i in range(len(Final_list)):\n",
        "    a=Final_list[i][0]\n",
        "    recommend_list.append(df['title'][a])\n",
        "\n",
        "  return recommend_list"
      ],
      "execution_count": 9,
      "outputs": []
    },
    {
      "cell_type": "code",
      "metadata": {
        "colab": {
          "base_uri": "https://localhost:8080/"
        },
        "id": "ZVWQpuACFxI4",
        "outputId": "e90d0c0b-9f88-4154-e04e-ef650a26bfc1"
      },
      "source": [
        "my_movies = recommend(\"The Invisible Man\")\n",
        "for m in my_movies:\n",
        "  print(m)"
      ],
      "execution_count": 18,
      "outputs": [
        {
          "output_type": "stream",
          "name": "stdout",
          "text": [
            "Us\n",
            "Fabled\n",
            "The Mothman Prophecies\n",
            "Disturbia\n",
            "Gossip\n",
            "The Caveman's Valentine\n",
            "Insidious: Chapter 3\n",
            "Shutter\n",
            "Rosemary's Baby\n",
            "What Lies Beneath\n",
            "Evolution\n",
            "The Devil's Advocate\n",
            "The Skeleton Key\n",
            "My Soul to Take\n"
          ]
        }
      ]
    },
    {
      "cell_type": "code",
      "metadata": {
        "id": "YmMwkH8AFzxy"
      },
      "source": [
        ""
      ],
      "execution_count": null,
      "outputs": []
    }
  ]
}